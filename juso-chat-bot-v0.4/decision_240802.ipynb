{
 "cells": [
  {
   "cell_type": "code",
   "execution_count": 1,
   "metadata": {},
   "outputs": [],
   "source": [
    "import os\n",
    "import pprint\n",
    "from dotenv import load_dotenv\n",
    "## langsmith\n",
    "from langsmith import Client\n",
    "from langchain_teddynote import logging\n",
    "## OpenAI\n",
    "from langchain_openai import ChatOpenAI\n",
    "from langchain.schema import ChatMessage, AIMessage, HumanMessage, SystemMessage\n",
    "from langchain.embeddings.openai import OpenAIEmbeddings\n",
    "## ChromaDB\n",
    "import chromadb\n",
    "from langchain.vectorstores import Chroma\n",
    "## History\n",
    "from operator import itemgetter\n",
    "from langchain_core.prompts import PromptTemplate\n",
    "from langchain_core.runnables import RunnableConfig\n",
    "from langchain_core.output_parsers import StrOutputParser\n",
    "from langchain_core.prompts import ChatPromptTemplate, MessagesPlaceholder\n",
    "from langchain_community.chat_message_histories import ChatMessageHistory, StreamlitChatMessageHistory\n",
    "from langchain_core.runnables.history import RunnableWithMessageHistory\n",
    "## LangGraph\n",
    "from typing import TypedDict\n",
    "from langgraph.graph import END, StateGraph\n",
    "from langgraph.checkpoint.memory import MemorySaver\n",
    "from langgraph.errors import GraphRecursionError\n",
    "from langchain_community.tools.tavily_search import TavilySearchResults\n",
    "## Google Search\n",
    "from langchain_google_community import GoogleSearchAPIWrapper\n",
    "from langchain_core.tools import Tool"
   ]
  },
  {
   "cell_type": "code",
   "execution_count": 2,
   "metadata": {},
   "outputs": [
    {
     "name": "stdout",
     "output_type": "stream",
     "text": [
      "LangSmith 추적을 시작합니다.\n",
      "[프로젝트명]\n",
      "240731\n"
     ]
    }
   ],
   "source": [
    "# .env 파일 활성화 & API KEY 설정\n",
    "load_dotenv()\n",
    "openai_api_key = os.getenv('OPENAI_API_KEY')\n",
    "\n",
    "logging.langsmith(\"240731\") "
   ]
  },
  {
   "cell_type": "markdown",
   "metadata": {},
   "source": [
    "# Graph State"
   ]
  },
  {
   "cell_type": "code",
   "execution_count": 3,
   "metadata": {},
   "outputs": [],
   "source": [
    "##############################################################################################################\n",
    "################################################GraphState####################################################\n",
    "##############################################################################################################\n",
    "# GraphState 상태를 저장하는 용도\n",
    "class GraphState(TypedDict):\n",
    "    question: str  # 질문\n",
    "    q_type: str # 질문의 유형\n",
    "    context: str  # 문서의 검색 결과\n",
    "    answer: str  # llm이 생성한 답변\n",
    "    relevance: str  # 답변의 문서에 대한 관련성 (groundness check)"
   ]
  },
  {
   "cell_type": "markdown",
   "metadata": {},
   "source": [
    "# Model"
   ]
  },
  {
   "cell_type": "code",
   "execution_count": 4,
   "metadata": {},
   "outputs": [],
   "source": [
    "store = {}\n",
    "\n",
    "# 세션 ID를 기반으로 세션 기록을 가져오는 함수\n",
    "def get_session_history(session_ids):\n",
    "    if session_ids not in store:  # 세션 ID가 store에 없는 경우\n",
    "        # 새로운 ChatMessageHistory 객체를 생성하여 store에 저장\n",
    "        store[session_ids] = ChatMessageHistory()\n",
    "    return store[session_ids]  # 해당 세션 ID에 대한 세션 기록 반환"
   ]
  },
  {
   "cell_type": "markdown",
   "metadata": {},
   "source": [
    "## m1: Descision maker"
   ]
  },
  {
   "cell_type": "code",
   "execution_count": 23,
   "metadata": {},
   "outputs": [],
   "source": [
    "##############################################################################################################\n",
    "################################################Decision Maker ###############################################\n",
    "##############################################################################################################\n",
    "\n",
    "def decision_maker(state: GraphState) -> GraphState:\n",
    "    chat = ChatOpenAI(model=\"gpt-4o\", api_key=openai_api_key)\n",
    "    \n",
    "    prompt = PromptTemplate.from_template(\n",
    "         \"\"\"\n",
    "            너는 question의 종류를 분류하는 모델이야. 질문의 종류는 ['주소관련 질문', '검색필요 질문', '일반 질문'] 3가지 종류로 구분 돼. 이때 question뿐만 아니라 chat_history까지 고려해줘.\n",
    "            \n",
    "            1. 주소관련 질문: 주소(address)와 관련된 질문을 의미해. 예를 들어, 주소와 관련된 개념, 정의, 주소관련 데이터 분석 등과 같은 내용의 질문일 경우 '주소관련 질문'으로 분류해 줘.\n",
    "            2. 검색필요 질문: 주소(address)와 관련되지 않은 질문 중, 너가 스스로 대답할 수 없는 질문을 의미해. 예를 들어, '오늘의 날씨', '오늘의 주가' 등과 같이 최신 정보를 반영해야 하는 경우와 '~검색해줘'라는 말이 포함될 때 '검색필요 질문'으로 분류해 줘.\n",
    "            3. 일반 질문: 주소(address)와 관련되지 않은 질문 중, 너가 스스로 대답할 수 있는 질문을 의미해. 예를 들어, '영어를 한국어로 번역해줘', '대한민국의 수도는?'과 같이 일반 상식적인 질문인 경우 '일반 질문'으로 분류해 줘.\n",
    "            \n",
    "            질문이 들어왔을 때, 위 3개의 종류 중에 가장 해당되는 분류를 선택하고 반드시 ['주소관련 질문', '검색필요 질문', '일반 질문'] 중 하나로 선택해. 띄어쓰기나 대소문자 구분 등 다른 형식이나 추가적인 설명 없이 오직 하나의 라벨만 출력해줘.\n",
    "\n",
    "            #Previous Chat History:\n",
    "            {chat_history}\n",
    "\n",
    "            #Question: \n",
    "            {question} \n",
    "            #Answer:\"\"\"\n",
    "            )\n",
    "    \n",
    "    chain = prompt | chat | StrOutputParser()\n",
    "    \n",
    "    rag_with_history = RunnableWithMessageHistory(\n",
    "        chain,\n",
    "        get_session_history,  # 세션 기록을 가져오는 함수\n",
    "        input_messages_key=\"question\",  # 사용자의 질문이 템플릿 변수에 들어갈 key\n",
    "        history_messages_key=\"chat_history\",  # 기록 메시지의 키\n",
    "    )\n",
    "    \n",
    "    input_data = {\n",
    "        'question': state[\"question\"],\n",
    "        'chat_history': itemgetter(\"chat_history\"),\n",
    "        'context':''\n",
    "    }\n",
    "    \n",
    "    response = rag_with_history.invoke(input_data, config={\"configurable\": {\"session_id\": \"rag123\"}})\n",
    "    return GraphState(\n",
    "        q_type=response,\n",
    "        question=state[\"question\"],\n",
    "    )\n",
    "\n",
    "def decision_making(state: GraphState) -> GraphState:\n",
    "    q_type_strip = state[\"q_type\"].strip()\n",
    "    if q_type_strip == \"주소관련 질문\":\n",
    "        return \"about_address\"\n",
    "    elif q_type_strip == \"검색필요 질문\":\n",
    "        return \"search\"\n",
    "    elif q_type_strip == \"일반 질문\":\n",
    "        return \"general\""
   ]
  },
  {
   "cell_type": "code",
   "execution_count": 8,
   "metadata": {},
   "outputs": [
    {
     "data": {
      "text/plain": [
       "'주소관련 질문'"
      ]
     },
     "execution_count": 8,
     "metadata": {},
     "output_type": "execute_result"
    }
   ],
   "source": [
    "# def decision_maker(query):\n",
    "#     messages = decision_message(query)\n",
    "#     response = chat.invoke(messages)\n",
    "#     return response.content\n",
    "\n",
    "# decision_maker('주소와 주소정보의 차이는?')"
   ]
  },
  {
   "cell_type": "code",
   "execution_count": 9,
   "metadata": {},
   "outputs": [
    {
     "data": {
      "text/plain": [
       "'검색필요 질문'"
      ]
     },
     "execution_count": 9,
     "metadata": {},
     "output_type": "execute_result"
    }
   ],
   "source": [
    "# decision_maker('내일 서울의 기온은 어떨까?')"
   ]
  },
  {
   "cell_type": "code",
   "execution_count": 10,
   "metadata": {},
   "outputs": [
    {
     "data": {
      "text/plain": [
       "'일반 질문'"
      ]
     },
     "execution_count": 10,
     "metadata": {},
     "output_type": "execute_result"
    }
   ],
   "source": [
    "# decision_maker('hi')"
   ]
  },
  {
   "cell_type": "markdown",
   "metadata": {},
   "source": [
    "## m2: Groundness checker"
   ]
  },
  {
   "cell_type": "code",
   "execution_count": 6,
   "metadata": {},
   "outputs": [],
   "source": [
    "##############################################################################################################\n",
    "################################################Groundness Checker ###########################################\n",
    "##############################################################################################################\n",
    "\n",
    "chat = ChatOpenAI(model=\"gpt-4o\", api_key=openai_api_key)\n",
    "\n",
    "def relevance_message(context, question):\n",
    "    \n",
    "    messages = [\n",
    "        SystemMessage(content=\"\"\"\n",
    "            너는 Query와 Document를 비교해서 ['grounded', 'notGrounded', 'notSure'] 셋 중 하나의 라벨을 출력하는 모델이야.\n",
    "\n",
    "            'grounded': Compare the Query and the Document. If the Document includes content that can be used to generate an answer to the Query, output the label 'grounded'.\n",
    "            'notGrounded': Compare the Query and the Document. If the Document does not include content that can be used to generate an answer to the Query, or if the information is insufficient, output the label ‘notGrounded’.\n",
    "            'notSure': Compare the Query and the Document. If you cannot determine whether the Document includes content that can be used to generate an answer to the Query, output the label .notSure'.\n",
    "            \n",
    "            너의 출력은 반드시 'grounded', 'notGrounded', 'notSure' 중 하나여야 해. 띄어쓰기나 대소문자 구분 등 다른 형식이나 추가적인 설명 없이 오직 하나의 라벨만 출력해줘.\n",
    "        \"\"\"),\n",
    "        HumanMessage(content=f\"\"\"\n",
    "            [Document]\n",
    "            {context}\n",
    "\n",
    "            [Query]\n",
    "            {question}\n",
    "        \"\"\"),\n",
    "    ]\n",
    "    return messages\n",
    "\n",
    "def relevance_check(state: GraphState) -> GraphState:\n",
    "    messages = relevance_message(state[\"context\"], state[\"question\"])\n",
    "    print(messages)\n",
    "    print(state['context'])\n",
    "    \n",
    "    response = chat.invoke(messages)\n",
    "    return GraphState(\n",
    "        relevance=response.content,\n",
    "        context=state[\"context\"],\n",
    "        answer=state[\"answer\"],\n",
    "        question=state[\"question\"],\n",
    "    )\n",
    "\n",
    "def is_relevant(state: GraphState) -> GraphState:\n",
    "    relevance_strip = state[\"relevance\"].strip()\n",
    "    if relevance_strip == \"grounded\":\n",
    "        return \"grounded\"\n",
    "    elif relevance_strip == \"notGrounded\":\n",
    "        return \"notGrounded\"\n",
    "    elif relevance_strip == \"notSure\":\n",
    "        return \"notSure\""
   ]
  },
  {
   "cell_type": "markdown",
   "metadata": {},
   "source": [
    "## m3: Answer maker"
   ]
  },
  {
   "cell_type": "code",
   "execution_count": 7,
   "metadata": {},
   "outputs": [],
   "source": [
    "##############################################################################################################\n",
    "################################################LLM Answer Maker##############################################\n",
    "##############################################################################################################\n",
    "\n",
    "def llm_answer(state: GraphState) -> GraphState:\n",
    "    \n",
    "    # 프롬프트를 생성합니다.\n",
    "    prompt = PromptTemplate.from_template(\n",
    "        \"\"\"\n",
    "                너는 Context의 정보를 반드시 활용해서 답변을 생성하는 챗봇이야. \n",
    "                이때, 답변은 Context에 정보가 있을 수도 있고, 없을 수도 있어. \n",
    "                Context의 정보로 답변을 생성할 수 있는 경우 해당 정보를 활용하고, 만약 Context의 정보로 답변을 유추조차 할 수 없는 경우, Context를 참고하지 말고 그냥 너가 생각한 답변을 생성해줘.\n",
    "                주소와 관련된 질문인 경우 최대한 Context의 답변을 기반을 참고해주고, 그렇지 않은 경우 그냥 너의 지식을 활용해줘.\n",
    "                답변에는 Context라는 단어를 사용하지 말아줘.\n",
    "\n",
    "                #Previous Chat History:\n",
    "                {chat_history}\n",
    "\n",
    "                #Question: \n",
    "                {question} \n",
    "\n",
    "                #Context: \n",
    "                {context} \n",
    "\n",
    "                #Answer:\n",
    "                \n",
    "            \"\"\"\n",
    "                )\n",
    "\n",
    "    llm = ChatOpenAI(model_name=\"gpt-4o\", temperature=0)\n",
    "    \n",
    "    # 프롬프트, 모델, 출력 파서를 체이닝합니다.\n",
    "    chain = prompt | llm | StrOutputParser()\n",
    "\n",
    "    # 대화를 기록하는 RAG 체인 생성\n",
    "    rag_with_history = RunnableWithMessageHistory(\n",
    "        chain,\n",
    "        get_session_history,  # 세션 기록을 가져오는 함수\n",
    "        input_messages_key=\"question\",  # 사용자의 질문이 템플릿 변수에 들어갈 key\n",
    "        history_messages_key=\"chat_history\",  # 기록 메시지의 키\n",
    "    )\n",
    "    \n",
    "    # 상태에서 질문과 대화 기록을 가져옵니다.\n",
    "    input_data = {\n",
    "        'question': state[\"question\"],\n",
    "        'chat_history': itemgetter(\"chat_history\"),\n",
    "        'context': state[\"context\"]\n",
    "    }\n",
    "\n",
    "    response = rag_with_history.invoke(input_data, config={\"configurable\": {\"session_id\": \"rag123\"}})\n",
    "    \n",
    "    return GraphState(\n",
    "        answer=response,\n",
    "        context=state[\"context\"],\n",
    "        question=state[\"question\"],\n",
    "    )"
   ]
  },
  {
   "cell_type": "markdown",
   "metadata": {},
   "source": [
    "## m4: General answer maker"
   ]
  },
  {
   "cell_type": "code",
   "execution_count": 8,
   "metadata": {},
   "outputs": [],
   "source": [
    "##############################################################################################################\n",
    "################################################LLM Answer Maker##############################################\n",
    "##############################################################################################################\n",
    "\n",
    "def general_llm(state: GraphState) -> GraphState:\n",
    "    \n",
    "    # 프롬프트를 생성합니다.\n",
    "    prompt = PromptTemplate.from_template(\n",
    "        \"\"\"     \n",
    "                너는 일반적인 상식과 정보에 대해서 답변하는 챗봇이야. chat_hisotry에 값이 있는 경우 그 값을 참고해서 답변을 해줘.\n",
    "\n",
    "                #Previous Chat History:\n",
    "                {chat_history}\n",
    "\n",
    "                #Question: \n",
    "                {question} \n",
    "                \n",
    "                #Answer:\n",
    "                \n",
    "            \"\"\"\n",
    "                )\n",
    "\n",
    "    llm = ChatOpenAI(model_name=\"gpt-4o\", temperature=0)\n",
    "    \n",
    "    # 프롬프트, 모델, 출력 파서를 체이닝합니다.\n",
    "    chain = prompt | llm | StrOutputParser()\n",
    "\n",
    "    # 대화를 기록하는 RAG 체인 생성\n",
    "    rag_with_history = RunnableWithMessageHistory(\n",
    "        chain,\n",
    "        get_session_history,  # 세션 기록을 가져오는 함수\n",
    "        input_messages_key=\"question\",  # 사용자의 질문이 템플릿 변수에 들어갈 key\n",
    "        history_messages_key=\"chat_history\",  # 기록 메시지의 키\n",
    "    )\n",
    "    \n",
    "    # 상태에서 질문과 대화 기록을 가져옵니다.\n",
    "    input_data = {\n",
    "        'question': state[\"question\"],\n",
    "        'chat_history': itemgetter(\"chat_history\"),\n",
    "    }\n",
    "\n",
    "    response = rag_with_history.invoke(input_data, config={\"configurable\": {\"session_id\": \"rag123\"}})\n",
    "    \n",
    "    return GraphState(\n",
    "        answer=response,\n",
    "        question=state[\"question\"],\n",
    "    )"
   ]
  },
  {
   "cell_type": "markdown",
   "metadata": {},
   "source": [
    "# Retrieve"
   ]
  },
  {
   "cell_type": "code",
   "execution_count": 10,
   "metadata": {},
   "outputs": [
    {
     "name": "stderr",
     "output_type": "stream",
     "text": [
      "/Users/jeongyunl/opt/anaconda3/envs/juso-chatbot/lib/python3.11/site-packages/langchain_core/_api/deprecation.py:139: LangChainDeprecationWarning: The class `OpenAIEmbeddings` was deprecated in LangChain 0.0.9 and will be removed in 0.3.0. An updated version of the class exists in the langchain-openai package and should be used instead. To use it run `pip install -U langchain-openai` and import as `from langchain_openai import OpenAIEmbeddings`.\n",
      "  warn_deprecated(\n",
      "/Users/jeongyunl/opt/anaconda3/envs/juso-chatbot/lib/python3.11/site-packages/langchain_core/_api/deprecation.py:139: LangChainDeprecationWarning: The class `Chroma` was deprecated in LangChain 0.2.9 and will be removed in 0.4. An updated version of the class exists in the langchain-chroma package and should be used instead. To use it run `pip install -U langchain-chroma` and import as `from langchain_chroma import Chroma`.\n",
      "  warn_deprecated(\n"
     ]
    }
   ],
   "source": [
    "##############################################################################################################\n",
    "################################################Retriever#####################################################\n",
    "##############################################################################################################\n",
    "class MultiCollectionRetriever:\n",
    "    def __init__(self, client, collection_names, embedding_function, search_kwargs={\"k\": 2}):\n",
    "        self.collections = [\n",
    "            Chroma(client=client, collection_name=name, embedding_function=embedding_function)\n",
    "            for name in collection_names\n",
    "        ]\n",
    "        self.search_kwargs = search_kwargs\n",
    "\n",
    "    def retrieve(self, query):\n",
    "        results = []\n",
    "        for collection in self.collections:\n",
    "            # 각 컬렉션에서 유사도 검색 수행\n",
    "            documents_with_scores = collection.similarity_search_with_score(query, **self.search_kwargs)\n",
    "            results.extend(documents_with_scores)\n",
    "        \n",
    "        # 유사도 점수를 기준으로 결과 정렬 (score가 높을수록 유사도가 높음)\n",
    "        results.sort(key=lambda x: x[1], reverse=False)\n",
    "\n",
    "        documents = [(doc, score) for doc, score in results]\n",
    "        return documents\n",
    "\n",
    "# 사용 예시\n",
    "client = chromadb.PersistentClient('../juso-chat-bot-v0.1/chroma/')\n",
    "collection_names = [\"csv_files_openai_3072\", \"49_files_openai_3072\"]\n",
    "embedding = OpenAIEmbeddings(model='text-embedding-3-large') \n",
    "multi_retriever = MultiCollectionRetriever(client, collection_names, embedding)"
   ]
  },
  {
   "cell_type": "code",
   "execution_count": 11,
   "metadata": {},
   "outputs": [],
   "source": [
    "##############################################################################################################\n",
    "################################################vector Retriever##############################################\n",
    "##############################################################################################################\n",
    "def retrieve_document(state: GraphState) -> GraphState:\n",
    "    # Question 에 대한 문서 검색을 retriever 로 수행합니다.\n",
    "    retrieved_docs = multi_retriever.retrieve(state[\"question\"])\n",
    "    # 검색된 문서를 context 키에 저장합니다.\n",
    "    return GraphState(context=retrieved_docs[:2])"
   ]
  },
  {
   "cell_type": "markdown",
   "metadata": {},
   "source": [
    "# Search (Tavily)"
   ]
  },
  {
   "cell_type": "code",
   "execution_count": 12,
   "metadata": {},
   "outputs": [],
   "source": [
    "##############################################################################################################\n",
    "################################################Search on Web ################################################\n",
    "##############################################################################################################  \n",
    "    \n",
    "def search_on_web(state: GraphState) -> GraphState:\n",
    "    # 문서에서 검색하여 관련성 있는 문서를 찾습니다.\n",
    "    search_tool = TavilySearchResults(max_results=5)\n",
    "    search_result = search_tool.invoke({\"query\": state[\"question\"]})\n",
    "\n",
    "    # 검색된 문서를 context 키에 저장합니다.\n",
    "    return GraphState(\n",
    "        context=search_result,\n",
    "    )"
   ]
  },
  {
   "cell_type": "markdown",
   "metadata": {},
   "source": [
    "# Related Graph Nodes"
   ]
  },
  {
   "cell_type": "code",
   "execution_count": 13,
   "metadata": {},
   "outputs": [],
   "source": [
    "##############################################################################################################\n",
    "################################################Setting Graph Relations#######################################\n",
    "##############################################################################################################\n",
    "\n",
    "workflow = StateGraph(GraphState)\n",
    "\n",
    "# 노드들을 정의합니다.\n",
    "workflow.add_node(\"decision_maker\", decision_maker)  # 질문의 종류를 분류하는 노드를 추가합니다.\n",
    "workflow.add_node(\"retrieve\", retrieve_document)  # 답변을 검색해오는 노드를 추가합니다.\n",
    "workflow.add_node(\"general_llm\", general_llm)  # 일반 질문에 대한 답변을 생성하는 노드를 추가합니다.\n",
    "workflow.add_node(\"relevance_check\", relevance_check)  # 답변의 문서에 대한 관련성 체크 노드를 추가합니다.\n",
    "workflow.add_node(\"search_on_web\", search_on_web)  # 웹 검색 노드를 추가합니다.\n",
    "workflow.add_node(\"llm_answer\", llm_answer)  # 답변을 생성하는 노드를 추가합니다.\n",
    "\n",
    "workflow.add_edge(\"retrieve\", \"relevance_check\")  # 검색 -> 답변\n",
    "workflow.add_edge(\"search_on_web\", \"relevance_check\")  # 웹 검색 -> 답변\n",
    "\n",
    "# 조건부 엣지를 추가합니다.\n",
    "workflow.add_conditional_edges(\n",
    "    \"decision_maker\",  # 관련성 체크 노드에서 나온 결과를 is_relevant 함수에 전달합니다.\n",
    "    decision_making,\n",
    "    {\n",
    "        \"about_address\": \"retrieve\",  # 관련성이 있으면 종료합니다.\n",
    "        \"search\": \"search_on_web\",  # 관련성이 없으면 다시 질문을 작성합니다.\n",
    "        \"general\": \"general_llm\",  # 관련성 체크 결과가 모호하다면 다시 질문을 작성합니다.\n",
    "    },\n",
    ")\n",
    "\n",
    "# 조건부 엣지를 추가합니다.\n",
    "workflow.add_conditional_edges(\n",
    "    \"relevance_check\",  # 관련성 체크 노드에서 나온 결과를 is_relevant 함수에 전달합니다.\n",
    "    is_relevant,\n",
    "    {\n",
    "        \"grounded\": \"llm_answer\",  # 관련성이 있으면 종료합니다.\n",
    "        \"notGrounded\": \"search_on_web\",  # 관련성이 없으면 다시 질문을 작성합니다.\n",
    "        \"notSure\": \"search_on_web\",  # 관련성 체크 결과가 모호하다면 다시 질문을 작성합니다.\n",
    "    },\n",
    ")\n",
    "\n",
    "workflow.add_edge(\"llm_answer\", END)  # 답변 -> 종료\n",
    "workflow.add_edge(\"general_llm\", END)  # 답변 -> 종료\n",
    "\n",
    "# 시작점을 설정합니다.\n",
    "workflow.set_entry_point(\"decision_maker\")\n",
    "\n",
    "# 기록을 위한 메모리 저장소를 설정합니다.\n",
    "memory = MemorySaver()\n",
    "\n",
    "# 그래프를 컴파일합니다.\n",
    "app = workflow.compile(checkpointer=memory)"
   ]
  },
  {
   "cell_type": "code",
   "execution_count": 14,
   "metadata": {},
   "outputs": [
    {
     "data": {
      "image/jpeg": "[encoded data removed]",
      "text/plain": [
       "<IPython.core.display.Image object>"
      ]
     },
     "metadata": {},
     "output_type": "display_data"
    }
   ],
   "source": [
    "from IPython.display import Image, display\n",
    "\n",
    "try:\n",
    "    display(\n",
    "        Image(app.get_graph(xray=True).draw_mermaid_png())\n",
    "    )  # 실행 가능한 객체의 그래프를 mermaid 형식의 PNG로 그려서 표시합니다. xray=True는 추가적인 세부 정보를 포함합니다.\n",
    "except:\n",
    "    # 이 부분은 추가적인 의존성이 필요하며 선택적으로 실행됩니다.\n",
    "    pass"
   ]
  },
  {
   "cell_type": "code",
   "execution_count": 15,
   "metadata": {},
   "outputs": [],
   "source": [
    "def stream_responses(question):\n",
    "    config = RunnableConfig(\n",
    "        recursion_limit=20, configurable={\"thread_id\": \"CORRECTIVE-SEARCH-RAG\"}\n",
    "    )\n",
    "\n",
    "    # AgentState 객체를 활용하여 질문을 입력합니다.\n",
    "    inputs = GraphState(\n",
    "        question=question\n",
    "    )\n",
    "\n",
    "    # app.stream을 통해 입력된 메시지에 대한 출력을 스트리밍합니다.   \n",
    "    try:\n",
    "        output_generator = app.invoke(inputs, config=config)\n",
    "        return output_generator\n",
    "    except GraphRecursionError as e:\n",
    "        # 예외 발생 시 반환값을 명확히 설정합니다.\n",
    "        return pprint.pprint(f\"Recursion limit reached: {e}\")"
   ]
  },
  {
   "cell_type": "code",
   "execution_count": 16,
   "metadata": {},
   "outputs": [
    {
     "name": "stderr",
     "output_type": "stream",
     "text": [
      "Error in RootListenersTracer.on_chain_end callback: KeyError('message_history')\n",
      "Error in callback coroutine: KeyError('message_history')\n",
      "Error in RootListenersTracer.on_chain_end callback: KeyError('message_history')\n",
      "Error in callback coroutine: KeyError('message_history')\n"
     ]
    },
    {
     "name": "stdout",
     "output_type": "stream",
     "text": [
      "[SystemMessage(content=\"\\n            너는 Query와 Document를 비교해서 ['grounded', 'notGrounded', 'notSure'] 셋 중 하나의 라벨을 출력하는 모델이야.\\n\\n            'grounded': Compare the Query and the Document. If the Document includes content that can be used to generate an answer to the Query, output the label 'grounded'.\\n            'notGrounded': Compare the Query and the Document. If the Document not includes content that can be used to generate an answer to the Query, output the label 'notGrounded'.\\n            'notSure': Compare the Query and the Document. If you cannot determine whether the Document includes content that can be used to generate an answer to the Query, output the label .notSure'.\\n            \\n            너의 출력은 반드시 'grounded', 'notGrounded', 'notSure' 중 하나여야 해. 띄어쓰기나 대소문자 구분 등 다른 형식이나 추가적인 설명 없이 오직 하나의 라벨만 출력해줘.\\n        \"), HumanMessage(content=\"\\n            [Document]\\n            [(Document(metadata={'source': 'data/final/chapter-3-3.md'}, page_content='건축물대장 상세주소 (전체분) 예시'), 0.7328253388404846), (Document(metadata={'source': 'data/final/chapter-2-3.md'}, page_content='건축물대장 상세주소 (전체분) 예시'), 0.7332523465156555)]\\n\\n            [Query]\\n            건축물대장과 관련된 데이터는 뭐가 있니?\\n        \")]\n",
      "[(Document(metadata={'source': 'data/final/chapter-3-3.md'}, page_content='건축물대장 상세주소 (전체분) 예시'), 0.7328253388404846), (Document(metadata={'source': 'data/final/chapter-2-3.md'}, page_content='건축물대장 상세주소 (전체분) 예시'), 0.7332523465156555)]\n"
     ]
    },
    {
     "name": "stderr",
     "output_type": "stream",
     "text": [
      "Error in RootListenersTracer.on_chain_end callback: KeyError('message_history')\n",
      "Error in callback coroutine: KeyError('message_history')\n",
      "Error in RootListenersTracer.on_chain_end callback: KeyError('message_history')\n",
      "Error in callback coroutine: KeyError('message_history')\n"
     ]
    },
    {
     "data": {
      "text/plain": [
       "{'question': '건축물대장과 관련된 데이터는 뭐가 있니?',\n",
       " 'q_type': '주소관련 질문',\n",
       " 'context': [(Document(metadata={'source': 'data/final/chapter-3-3.md'}, page_content='건축물대장 상세주소 (전체분) 예시'),\n",
       "   0.7328253388404846),\n",
       "  (Document(metadata={'source': 'data/final/chapter-2-3.md'}, page_content='건축물대장 상세주소 (전체분) 예시'),\n",
       "   0.7332523465156555)],\n",
       " 'answer': '건축물대장과 관련된 데이터에는 다음과 같은 정보들이 포함될 수 있습니다:\\n\\n1. 건축물의 상세주소\\n2. 건축물의 용도\\n3. 건축물의 구조\\n4. 건축물의 층수\\n5. 건축물의 면적\\n6. 건축물의 건축 연도\\n7. 건축물의 소유자 정보\\n8. 건축물의 사용 승인일\\n\\n이 외에도 건축물의 상태나 변경 이력 등 다양한 정보가 포함될 수 있습니다.',\n",
       " 'relevance': 'grounded'}"
      ]
     },
     "execution_count": 16,
     "metadata": {},
     "output_type": "execute_result"
    }
   ],
   "source": [
    "result = stream_responses('건축물대장과 관련된 데이터는 뭐가 있니?')\n",
    "result"
   ]
  },
  {
   "cell_type": "code",
   "execution_count": 17,
   "metadata": {},
   "outputs": [
    {
     "data": {
      "text/plain": [
       "{'rag123': InMemoryChatMessageHistory(messages=[HumanMessage(content='건축물대장과 관련된 데이터는 뭐가 있니?'), AIMessage(content='주소관련 질문'), HumanMessage(content='건축물대장과 관련된 데이터는 뭐가 있니?'), AIMessage(content='건축물대장과 관련된 데이터에는 다음과 같은 정보들이 포함될 수 있습니다:\\n\\n1. 건축물의 상세주소\\n2. 건축물의 용도\\n3. 건축물의 구조\\n4. 건축물의 층수\\n5. 건축물의 면적\\n6. 건축물의 소유자 정보\\n7. 건축물의 건축 연도\\n8. 건축물의 대지 면적\\n\\n이 외에도 건축물의 상태, 사용 승인일, 건축물의 변경 이력 등 다양한 정보가 포함될 수 있습니다.')])}"
      ]
     },
     "execution_count": 17,
     "metadata": {},
     "output_type": "execute_result"
    }
   ],
   "source": [
    "store"
   ]
  },
  {
   "cell_type": "code",
   "execution_count": 17,
   "metadata": {},
   "outputs": [
    {
     "name": "stderr",
     "output_type": "stream",
     "text": [
      "Error in RootListenersTracer.on_chain_end callback: KeyError('message_history')\n",
      "Error in callback coroutine: KeyError('message_history')\n",
      "Error in RootListenersTracer.on_chain_end callback: KeyError('message_history')\n",
      "Error in callback coroutine: KeyError('message_history')\n",
      "Error in RootListenersTracer.on_chain_end callback: KeyError('message_history')\n",
      "Error in callback coroutine: KeyError('message_history')\n",
      "Error in RootListenersTracer.on_chain_end callback: KeyError('message_history')\n",
      "Error in callback coroutine: KeyError('message_history')\n"
     ]
    },
    {
     "data": {
      "text/plain": [
       "{'question': '위 답변을 영어로 작성해줘',\n",
       " 'q_type': '일반 질문',\n",
       " 'context': [[Document(metadata={'source': 'data/final/chapter-3-3.md'}, page_content='건축물대장 상세주소 (전체분) 예시'),\n",
       "   0.7328253388404846],\n",
       "  [Document(metadata={'source': 'data/final/chapter-2-3.md'}, page_content='건축물대장 상세주소 (전체분) 예시'),\n",
       "   0.7332523465156555]],\n",
       " 'answer': 'Sure, here is the translation of the previous answer into English:\\n\\nThe data related to the building register may include the following information:\\n\\n1. Detailed address of the building\\n2. Purpose of the building\\n3. Structure of the building\\n4. Number of floors of the building\\n5. Area of the building\\n6. Year of construction of the building\\n7. Owner information of the building\\n8. Date of use approval of the building\\n\\nIn addition, various information such as the condition of the building or its modification history may also be included.',\n",
       " 'relevance': 'grounded'}"
      ]
     },
     "execution_count": 17,
     "metadata": {},
     "output_type": "execute_result"
    }
   ],
   "source": [
    "stream_responses('위 답변을 영어로 작성해줘')"
   ]
  },
  {
   "cell_type": "code",
   "execution_count": 19,
   "metadata": {},
   "outputs": [
    {
     "data": {
      "text/plain": [
       "{'rag123': InMemoryChatMessageHistory(messages=[HumanMessage(content='건축물대장과 관련된 데이터는 뭐가 있니?'), AIMessage(content='주소관련 질문'), HumanMessage(content='건축물대장과 관련된 데이터는 뭐가 있니?'), AIMessage(content='건축물대장과 관련된 데이터에는 다음과 같은 정보들이 포함될 수 있습니다:\\n\\n1. 건축물의 상세주소\\n2. 건축물의 용도\\n3. 건축물의 구조\\n4. 건축물의 층수\\n5. 건축물의 면적\\n6. 건축물의 소유자 정보\\n7. 건축물의 건축 연도\\n8. 건축물의 대지 면적\\n\\n이 외에도 건축물의 상태, 사용 승인일, 건축물의 변경 이력 등 다양한 정보가 포함될 수 있습니다.'), HumanMessage(content='위 답변을 영어로 작성해줘'), AIMessage(content='일반 질문'), HumanMessage(content='위 답변을 영어로 작성해줘'), AIMessage(content='Sure, here is the translation of the previous answer into English:\\n\\nThe data related to the building register may include the following information:\\n\\n1. Detailed address of the building\\n2. Purpose of the building\\n3. Structure of the building\\n4. Number of floors of the building\\n5. Area of the building\\n6. Owner information of the building\\n7. Year of construction of the building\\n8. Land area of the building\\n\\nIn addition, various information such as the condition of the building, the date of use approval, and the history of changes to the building may also be included.')])}"
      ]
     },
     "execution_count": 19,
     "metadata": {},
     "output_type": "execute_result"
    }
   ],
   "source": [
    "store"
   ]
  },
  {
   "cell_type": "code",
   "execution_count": 18,
   "metadata": {},
   "outputs": [
    {
     "name": "stderr",
     "output_type": "stream",
     "text": [
      "Error in RootListenersTracer.on_chain_end callback: KeyError('message_history')\n",
      "Error in callback coroutine: KeyError('message_history')\n",
      "Error in RootListenersTracer.on_chain_end callback: KeyError('message_history')\n",
      "Error in callback coroutine: KeyError('message_history')\n"
     ]
    },
    {
     "name": "stdout",
     "output_type": "stream",
     "text": [
      "[SystemMessage(content=\"\\n            너는 Query와 Document를 비교해서 ['grounded', 'notGrounded', 'notSure'] 셋 중 하나의 라벨을 출력하는 모델이야.\\n\\n            'grounded': Compare the Query and the Document. If the Document includes content that can be used to generate an answer to the Query, output the label 'grounded'.\\n            'notGrounded': Compare the Query and the Document. If the Document not includes content that can be used to generate an answer to the Query, output the label 'notGrounded'.\\n            'notSure': Compare the Query and the Document. If you cannot determine whether the Document includes content that can be used to generate an answer to the Query, output the label .notSure'.\\n            \\n            너의 출력은 반드시 'grounded', 'notGrounded', 'notSure' 중 하나여야 해. 띄어쓰기나 대소문자 구분 등 다른 형식이나 추가적인 설명 없이 오직 하나의 라벨만 출력해줘.\\n        \"), HumanMessage(content=\"\\n            [Document]\\n            [(Document(metadata={'source': 'data/final/[1018] 주소정보_업무편람_최종(하이퍼링크).docx'}, page_content='3) 우편법\\\\n\\\\n우편물은 그 표면에 기재된 곳에 배달함(법 §31)\\\\n\\\\n4) 도로명주소법\\\\n\\\\n“도로명주소”라 함은 도로명, 건물번호 및 상세주소(상세주소가 있는 경우만 해당한다)로 표기하는 주소를 말함(법 §2제7호)\\\\n\\\\n이 법은 주소의 적용에 관한 사항에 있어 다른 법률에 우선함(법 §3)\\\\n\\\\n공법관계의 주소는 도로명주소로 함. 따라서 공공기관은 주소의 표기 및 위치 안내에 있어 도로명주소를 사용해야 함(법 §19)\\\\n\\\\n가. 주소에서 주소정보로의 확대\\\\n\\\\n1) 주소의 기능\\\\n\\\\n주소는 사람이나 법인의 주된 거주지(소재지)를 주민등록(법인등록)에 등록하는 데 주로 사용해 왔고 ‘생활의 근거가 되는 곳’으로 거처(居處) 또는 거지(居趾)의 의미를 담아 우편 배송이나 위치 찾기에 사용되어 왔음.\\\\n\\\\n2) 주소에 대한 사회적 수요의 변화'), 0.9024108052253723), (Document(metadata={'source': 'data/final/[1018] 주소정보_업무편람_최종(하이퍼링크).docx'}, page_content='주소를 알 수 없는 경우 거소를 주소로 봄(법 §19)\\\\n\\\\n국내에 주소가 없는 자는 국내에 있는 거소를 주소로 봄(법 §20)\\\\n\\\\n어느 행위에 있어서 가주소를 정한 때에는 그 행위에 관하여는 이를 주소로 봄 (법 §21)\\\\n\\\\n2) 주민등록법령\\\\n\\\\n주민등록표 등 주민등록 관계 서류의 주소는 도로명주소의 표기방법으로 기록(영 §9③)\\\\n\\\\n도로명주소를 사용할 수 없는 경우 주소는 특별시·광역시·도, 시·군·자치구, 구(자치구가 아닌 구를 말한다), 읍·면·동, 리, 지번의 순으로 기록. 이 경우 동·리는 법정 동·리의 명칭으로, 「주택법」의 규정에 따른 공동주택의 경우에는 지번 다음에 건축물대장 등에 의한 공동주택의 명칭과 동·호수를 기록함(영 §9④)\\\\n\\\\n3) 우편법\\\\n\\\\n우편물은 그 표면에 기재된 곳에 배달함(법 §31)\\\\n\\\\n4) 도로명주소법\\\\n\\\\n“도로명주소”라 함은 도로명, 건물번호 및 상세주소(상세주소가 있는 경우만 해당한다)로 표기하는 주소를 말함(법 §2제7호)'), 0.9309039115905762)]\\n\\n            [Query]\\n            도로명주소법 4조의 내용은?\\n        \")]\n",
      "[(Document(metadata={'source': 'data/final/[1018] 주소정보_업무편람_최종(하이퍼링크).docx'}, page_content='3) 우편법\\n\\n우편물은 그 표면에 기재된 곳에 배달함(법 §31)\\n\\n4) 도로명주소법\\n\\n“도로명주소”라 함은 도로명, 건물번호 및 상세주소(상세주소가 있는 경우만 해당한다)로 표기하는 주소를 말함(법 §2제7호)\\n\\n이 법은 주소의 적용에 관한 사항에 있어 다른 법률에 우선함(법 §3)\\n\\n공법관계의 주소는 도로명주소로 함. 따라서 공공기관은 주소의 표기 및 위치 안내에 있어 도로명주소를 사용해야 함(법 §19)\\n\\n가. 주소에서 주소정보로의 확대\\n\\n1) 주소의 기능\\n\\n주소는 사람이나 법인의 주된 거주지(소재지)를 주민등록(법인등록)에 등록하는 데 주로 사용해 왔고 ‘생활의 근거가 되는 곳’으로 거처(居處) 또는 거지(居趾)의 의미를 담아 우편 배송이나 위치 찾기에 사용되어 왔음.\\n\\n2) 주소에 대한 사회적 수요의 변화'), 0.9024108052253723), (Document(metadata={'source': 'data/final/[1018] 주소정보_업무편람_최종(하이퍼링크).docx'}, page_content='주소를 알 수 없는 경우 거소를 주소로 봄(법 §19)\\n\\n국내에 주소가 없는 자는 국내에 있는 거소를 주소로 봄(법 §20)\\n\\n어느 행위에 있어서 가주소를 정한 때에는 그 행위에 관하여는 이를 주소로 봄 (법 §21)\\n\\n2) 주민등록법령\\n\\n주민등록표 등 주민등록 관계 서류의 주소는 도로명주소의 표기방법으로 기록(영 §9③)\\n\\n도로명주소를 사용할 수 없는 경우 주소는 특별시·광역시·도, 시·군·자치구, 구(자치구가 아닌 구를 말한다), 읍·면·동, 리, 지번의 순으로 기록. 이 경우 동·리는 법정 동·리의 명칭으로, 「주택법」의 규정에 따른 공동주택의 경우에는 지번 다음에 건축물대장 등에 의한 공동주택의 명칭과 동·호수를 기록함(영 §9④)\\n\\n3) 우편법\\n\\n우편물은 그 표면에 기재된 곳에 배달함(법 §31)\\n\\n4) 도로명주소법\\n\\n“도로명주소”라 함은 도로명, 건물번호 및 상세주소(상세주소가 있는 경우만 해당한다)로 표기하는 주소를 말함(법 §2제7호)'), 0.9309039115905762)]\n",
      "[SystemMessage(content=\"\\n            너는 Query와 Document를 비교해서 ['grounded', 'notGrounded', 'notSure'] 셋 중 하나의 라벨을 출력하는 모델이야.\\n\\n            'grounded': Compare the Query and the Document. If the Document includes content that can be used to generate an answer to the Query, output the label 'grounded'.\\n            'notGrounded': Compare the Query and the Document. If the Document not includes content that can be used to generate an answer to the Query, output the label 'notGrounded'.\\n            'notSure': Compare the Query and the Document. If you cannot determine whether the Document includes content that can be used to generate an answer to the Query, output the label .notSure'.\\n            \\n            너의 출력은 반드시 'grounded', 'notGrounded', 'notSure' 중 하나여야 해. 띄어쓰기나 대소문자 구분 등 다른 형식이나 추가적인 설명 없이 오직 하나의 라벨만 출력해줘.\\n        \"), HumanMessage(content='\\n            [Document]\\n            [{\\'url\\': \\'http://www.yeslaw.com/lims/front/page/fulltext.html?action=LAW&lawid=4207\\', \\'content\\': \\'③ 제1항 및 제2항에 따른 지원의 세부 내용은 대통령령으로 정한다. ... 10조제1항의 개정규정에 따라 부여된 명예도로명으로 본다. ② 이 법 시행 당시 종전의 제8조의2제2항에 따라 도로명주소안내시설에 ... 제49조제4항제3호 중 \"「도로명주소법」 제2조제5호의 ...\\'}, {\\'url\\': \\'http://www.yeslaw.co.kr/lims/front/page/fulltext.html?pAct=view&pPromulgationNo=149050\\', \\'content\\': \\'도로명주소법 . ... 제8조의4(도로명주소안내시설의 설치) ... 이 경우 통보된 내용은 제8조제4항의 개정규정에 따른 결정사항으로 본다. 부칙 2009ㆍ6ㆍ9 법9774> 제1조 (시행일) 이 법은 공포 후 6개월이 경과한 날부터 시행한다.\\'}, {\\'url\\': \\'https://www.ulex.co.kr/법률/223451-010300-도로명주소법\\', \\'content\\': \\'도로명주소법. [시행 2021. 6. 9.] [법률 제17574호, 2020.12. 8., 전부개정] 제1조 (목적) 이 법은 도로명주소, 국가기초구역, 국가지점번호 및 사물주소의 표기·사용·관리·활용 등에 관한 사항을 규정함으로써 국민의 생활안전과 편의를 도모하고 관련 산업의 지원을 ...\\'}, {\\'url\\': \\'http://www.yeslaw.com/lims/front/page/fulltext.html?action=LAW&lawid=4207&jo_s=000806&jo_e=\\', \\'content\\': \\'도로명주소법. (시행일자 : 2021-06-09) - 전부개정 -. 제8조 (도로명 등의 변경 및 폐지) ① 행정안전부장관, 시ㆍ도지사 및 시장ㆍ군수ㆍ구청장은 제2항에 따른 신청을 받거나 제3항에 따른 요청을 받은 경우, 그 밖에 도로명주소 관리를 위하여 필요하다고 인정하는 ...\\'}, {\\'url\\': \\'http://www.yeslaw.com/lims/front/page/fulltext.html?pAct=view&pPromulgationNo=183001\\', \\'content\\': \\'1. \"도로명주소\"란 이 법에 따라 부여된 도로명, 건물번호 및 상세주소 (상세주소가 있는 경우만 해당한다)에 의하여 표기하는 주소를 말한다. 2. \"건물등\"이란 「건축법」제2조제1항제2호 에 따른 건축물과 현실적으로 30일 이상 거주나 정착된 활동에 이용되는 ...\\'}]\\n\\n            [Query]\\n            도로명주소법 4조의 내용은?\\n        ')]\n",
      "[{'url': 'http://www.yeslaw.com/lims/front/page/fulltext.html?action=LAW&lawid=4207', 'content': '③ 제1항 및 제2항에 따른 지원의 세부 내용은 대통령령으로 정한다. ... 10조제1항의 개정규정에 따라 부여된 명예도로명으로 본다. ② 이 법 시행 당시 종전의 제8조의2제2항에 따라 도로명주소안내시설에 ... 제49조제4항제3호 중 \"「도로명주소법」 제2조제5호의 ...'}, {'url': 'http://www.yeslaw.co.kr/lims/front/page/fulltext.html?pAct=view&pPromulgationNo=149050', 'content': '도로명주소법 . ... 제8조의4(도로명주소안내시설의 설치) ... 이 경우 통보된 내용은 제8조제4항의 개정규정에 따른 결정사항으로 본다. 부칙 2009ㆍ6ㆍ9 법9774> 제1조 (시행일) 이 법은 공포 후 6개월이 경과한 날부터 시행한다.'}, {'url': 'https://www.ulex.co.kr/법률/223451-010300-도로명주소법', 'content': '도로명주소법. [시행 2021. 6. 9.] [법률 제17574호, 2020.12. 8., 전부개정] 제1조 (목적) 이 법은 도로명주소, 국가기초구역, 국가지점번호 및 사물주소의 표기·사용·관리·활용 등에 관한 사항을 규정함으로써 국민의 생활안전과 편의를 도모하고 관련 산업의 지원을 ...'}, {'url': 'http://www.yeslaw.com/lims/front/page/fulltext.html?action=LAW&lawid=4207&jo_s=000806&jo_e=', 'content': '도로명주소법. (시행일자 : 2021-06-09) - 전부개정 -. 제8조 (도로명 등의 변경 및 폐지) ① 행정안전부장관, 시ㆍ도지사 및 시장ㆍ군수ㆍ구청장은 제2항에 따른 신청을 받거나 제3항에 따른 요청을 받은 경우, 그 밖에 도로명주소 관리를 위하여 필요하다고 인정하는 ...'}, {'url': 'http://www.yeslaw.com/lims/front/page/fulltext.html?pAct=view&pPromulgationNo=183001', 'content': '1. \"도로명주소\"란 이 법에 따라 부여된 도로명, 건물번호 및 상세주소 (상세주소가 있는 경우만 해당한다)에 의하여 표기하는 주소를 말한다. 2. \"건물등\"이란 「건축법」제2조제1항제2호 에 따른 건축물과 현실적으로 30일 이상 거주나 정착된 활동에 이용되는 ...'}]\n"
     ]
    },
    {
     "name": "stderr",
     "output_type": "stream",
     "text": [
      "Error in RootListenersTracer.on_chain_end callback: KeyError('message_history')\n",
      "Error in callback coroutine: KeyError('message_history')\n",
      "Error in RootListenersTracer.on_chain_end callback: KeyError('message_history')\n",
      "Error in callback coroutine: KeyError('message_history')\n"
     ]
    },
    {
     "data": {
      "text/plain": [
       "{'question': '도로명주소법 4조의 내용은?',\n",
       " 'q_type': '주소관련 질문',\n",
       " 'context': [{'url': 'http://www.yeslaw.com/lims/front/page/fulltext.html?action=LAW&lawid=4207',\n",
       "   'content': '③ 제1항 및 제2항에 따른 지원의 세부 내용은 대통령령으로 정한다. ... 10조제1항의 개정규정에 따라 부여된 명예도로명으로 본다. ② 이 법 시행 당시 종전의 제8조의2제2항에 따라 도로명주소안내시설에 ... 제49조제4항제3호 중 \"「도로명주소법」 제2조제5호의 ...'},\n",
       "  {'url': 'http://www.yeslaw.co.kr/lims/front/page/fulltext.html?pAct=view&pPromulgationNo=149050',\n",
       "   'content': '도로명주소법 . ... 제8조의4(도로명주소안내시설의 설치) ... 이 경우 통보된 내용은 제8조제4항의 개정규정에 따른 결정사항으로 본다. 부칙 2009ㆍ6ㆍ9 법9774> 제1조 (시행일) 이 법은 공포 후 6개월이 경과한 날부터 시행한다.'},\n",
       "  {'url': 'https://www.ulex.co.kr/법률/223451-010300-도로명주소법',\n",
       "   'content': '도로명주소법. [시행 2021. 6. 9.] [법률 제17574호, 2020.12. 8., 전부개정] 제1조 (목적) 이 법은 도로명주소, 국가기초구역, 국가지점번호 및 사물주소의 표기·사용·관리·활용 등에 관한 사항을 규정함으로써 국민의 생활안전과 편의를 도모하고 관련 산업의 지원을 ...'},\n",
       "  {'url': 'http://www.yeslaw.com/lims/front/page/fulltext.html?action=LAW&lawid=4207&jo_s=000806&jo_e=',\n",
       "   'content': '도로명주소법. (시행일자 : 2021-06-09) - 전부개정 -. 제8조 (도로명 등의 변경 및 폐지) ① 행정안전부장관, 시ㆍ도지사 및 시장ㆍ군수ㆍ구청장은 제2항에 따른 신청을 받거나 제3항에 따른 요청을 받은 경우, 그 밖에 도로명주소 관리를 위하여 필요하다고 인정하는 ...'},\n",
       "  {'url': 'http://www.yeslaw.com/lims/front/page/fulltext.html?pAct=view&pPromulgationNo=183001',\n",
       "   'content': '1. \"도로명주소\"란 이 법에 따라 부여된 도로명, 건물번호 및 상세주소 (상세주소가 있는 경우만 해당한다)에 의하여 표기하는 주소를 말한다. 2. \"건물등\"이란 「건축법」제2조제1항제2호 에 따른 건축물과 현실적으로 30일 이상 거주나 정착된 활동에 이용되는 ...'}],\n",
       " 'answer': '도로명주소법 제4조의 내용은 다음과 같습니다:\\n\\n\"제4조(도로명주소의 부여 등) \\n① 행정안전부장관, 시·도지사 및 시장·군수·구청장은 도로명주소를 부여·변경 또는 폐지할 수 있다.\\n② 제1항에 따라 도로명주소를 부여·변경 또는 폐지하려는 경우에는 대통령령으로 정하는 바에 따라 관계 기관의 장과 협의하여야 한다.\\n③ 제1항 및 제2항에 따른 지원의 세부 내용은 대통령령으로 정한다.\"\\n\\n이 법 조항은 도로명주소의 부여, 변경, 폐지에 관한 절차와 관련 기관과의 협의 절차를 규정하고 있습니다.',\n",
       " 'relevance': 'grounded'}"
      ]
     },
     "execution_count": 18,
     "metadata": {},
     "output_type": "execute_result"
    }
   ],
   "source": [
    "result = stream_responses('도로명주소법 4조의 내용은?')\n",
    "result"
   ]
  },
  {
   "cell_type": "code",
   "execution_count": 19,
   "metadata": {},
   "outputs": [
    {
     "name": "stderr",
     "output_type": "stream",
     "text": [
      "Error in RootListenersTracer.on_chain_end callback: KeyError('message_history')\n",
      "Error in callback coroutine: KeyError('message_history')\n",
      "Error in RootListenersTracer.on_chain_end callback: KeyError('message_history')\n",
      "Error in callback coroutine: KeyError('message_history')\n"
     ]
    },
    {
     "name": "stdout",
     "output_type": "stream",
     "text": [
      "[SystemMessage(content=\"\\n            너는 Query와 Document를 비교해서 ['grounded', 'notGrounded', 'notSure'] 셋 중 하나의 라벨을 출력하는 모델이야.\\n\\n            'grounded': Compare the Query and the Document. If the Document includes content that can be used to generate an answer to the Query, output the label 'grounded'.\\n            'notGrounded': Compare the Query and the Document. If the Document not includes content that can be used to generate an answer to the Query, output the label 'notGrounded'.\\n            'notSure': Compare the Query and the Document. If you cannot determine whether the Document includes content that can be used to generate an answer to the Query, output the label .notSure'.\\n            \\n            너의 출력은 반드시 'grounded', 'notGrounded', 'notSure' 중 하나여야 해. 띄어쓰기나 대소문자 구분 등 다른 형식이나 추가적인 설명 없이 오직 하나의 라벨만 출력해줘.\\n        \"), HumanMessage(content=\"\\n            [Document]\\n            [(Document(metadata={'row': 419, 'source': 'data/csv/주소용어최종정리_1123 - 업데이트_231123.csv'}, page_content='번호: 230\\\\n필수여부: 필수\\\\n준용여부: 미준용\\\\n용어명: 지번\\\\n정의: 필지에 부여하여 지적공부에 등록한 번호\\\\n선정근거_출처: 공간정보의 구축 및 관리 등에 관한 법률\\\\n선정근거_세부내용: 2조\\\\n주소지식모델 포함여부: 포함\\\\n주소지식모델정의: 필지에 부여하여 지적공부에 등록한 번호\\\\n유사용어:'), 1.3078657388687134), (Document(metadata={'row': 368, 'source': 'data/csv/주소용어최종정리_1123 - 업데이트_231123.csv'}, page_content='번호: 61\\\\n필수여부: 필수\\\\n준용여부: 준용\\\\n용어명: 주소부여대상\\\\n정의: 주소정보규정에 근거한 주소를 부여받을 대상\\\\n선정근거_출처: 도로명주소법\\\\n선정근거_세부내용: 2조\\\\n주소지식모델 포함여부: 포함\\\\n주소지식모델정의: 주소정보규정에 근거한 주소를 부여받을 대상\\\\n유사용어: 주소정보부여대상'), 1.318926215171814)]\\n\\n            [Query]\\n            1조의 내용도 알려줘\\n        \")]\n",
      "[(Document(metadata={'row': 419, 'source': 'data/csv/주소용어최종정리_1123 - 업데이트_231123.csv'}, page_content='번호: 230\\n필수여부: 필수\\n준용여부: 미준용\\n용어명: 지번\\n정의: 필지에 부여하여 지적공부에 등록한 번호\\n선정근거_출처: 공간정보의 구축 및 관리 등에 관한 법률\\n선정근거_세부내용: 2조\\n주소지식모델 포함여부: 포함\\n주소지식모델정의: 필지에 부여하여 지적공부에 등록한 번호\\n유사용어:'), 1.3078657388687134), (Document(metadata={'row': 368, 'source': 'data/csv/주소용어최종정리_1123 - 업데이트_231123.csv'}, page_content='번호: 61\\n필수여부: 필수\\n준용여부: 준용\\n용어명: 주소부여대상\\n정의: 주소정보규정에 근거한 주소를 부여받을 대상\\n선정근거_출처: 도로명주소법\\n선정근거_세부내용: 2조\\n주소지식모델 포함여부: 포함\\n주소지식모델정의: 주소정보규정에 근거한 주소를 부여받을 대상\\n유사용어: 주소정보부여대상'), 1.318926215171814)]\n",
      "[SystemMessage(content=\"\\n            너는 Query와 Document를 비교해서 ['grounded', 'notGrounded', 'notSure'] 셋 중 하나의 라벨을 출력하는 모델이야.\\n\\n            'grounded': Compare the Query and the Document. If the Document includes content that can be used to generate an answer to the Query, output the label 'grounded'.\\n            'notGrounded': Compare the Query and the Document. If the Document not includes content that can be used to generate an answer to the Query, output the label 'notGrounded'.\\n            'notSure': Compare the Query and the Document. If you cannot determine whether the Document includes content that can be used to generate an answer to the Query, output the label .notSure'.\\n            \\n            너의 출력은 반드시 'grounded', 'notGrounded', 'notSure' 중 하나여야 해. 띄어쓰기나 대소문자 구분 등 다른 형식이나 추가적인 설명 없이 오직 하나의 라벨만 출력해줘.\\n        \"), HumanMessage(content='\\n            [Document]\\n            [{\\'url\\': \\'https://www.ilbe.com/view/11543555918\\', \\'content\\': \\'최소 3만원 이내로 좋은거 알려줘 ... 정보통신망에서 불법촬영물등을 유통할 경우 「전기통신사업법」 제22조의5 제1항에 따른 삭제.접속차단 등 유통방지에 필요한 조치가 취해지며 「전기통신사업법」 제11조에 따라 형사처벌을 받을 수 있습니다. + ...\\'}, {\\'url\\': \\'https://ko.wikipedia.org/wiki/대한민국_민법_제1조\\', \\'content\\': \\'황태윤, 민법 제1조와 不文民法의 法源性, 전북대학교 동북아법연구 제6권 제2호 (2012년 9월) pp.143-164. 김경제, 관습법에 대한 오해, 민법 제1조의 헌법 합치적 해석, 세계헌법연구 18권 3호 시작쪽수 1p, 전체쪽수 27p, 2012년. 박철, 민법 제1조의 미학, 법률신문, 2011-06-23\\'}, {\\'url\\': \\'https://ko.wikipedia.org/wiki/대한민국_헌법_제1조\\', \\'content\\': \\'헌법 제1조 제2항은 \"대한민국의 주권은 국민에게 있고 모든 권력은 국민으로부터 나온다.\"고 규정하여 국민주권주의를 천명하고 있다. 이러한 국민주권의 원리 는 일반적으로 어떤 실천적인 의미보다는 국가권력의 정당성이 국민에게 있고 모든 통치권력의 ...\\'}, {\\'url\\': \\'https://moleg.go.kr/knowledge/publication/monthlyPublicationSrch?mpbLegPstSeq=130464\\', \\'content\\': \\'즉, 조의 내용을 작성하면서 여러 가지 요건이나 내용을 다음에 나열할 필요가 있을 때에는 항으로 세분하지 않고 호로 세분하여 조문을 작성하실 수 있습니다. 제9조(결격사유) 다음 각호의 1에 해당하는 자는 제8조의 규정에 의한 대규모점포의 등록을 할 수 ...\\'}, {\\'url\\': \\'https://namu.wiki/w/법 조문 체계\\', \\'content\\': \\'③ 제50조의 규정을 위반하여 그 업무수행중 알게 된 비밀을 누설하거나 도용한 자는 5년 이하의 징역이나 금고 또는 5천만원 이하의 벌금에 처한다. ... 제2조제1항 단서에 따라 긴급자동차의 지정을 받으려는 사람 또는 기관 등은 별지 제1호서식의 긴급자동차 ...\\'}]\\n\\n            [Query]\\n            1조의 내용도 알려줘\\n        ')]\n",
      "[{'url': 'https://www.ilbe.com/view/11543555918', 'content': '최소 3만원 이내로 좋은거 알려줘 ... 정보통신망에서 불법촬영물등을 유통할 경우 「전기통신사업법」 제22조의5 제1항에 따른 삭제.접속차단 등 유통방지에 필요한 조치가 취해지며 「전기통신사업법」 제11조에 따라 형사처벌을 받을 수 있습니다. + ...'}, {'url': 'https://ko.wikipedia.org/wiki/대한민국_민법_제1조', 'content': '황태윤, 민법 제1조와 不文民法의 法源性, 전북대학교 동북아법연구 제6권 제2호 (2012년 9월) pp.143-164. 김경제, 관습법에 대한 오해, 민법 제1조의 헌법 합치적 해석, 세계헌법연구 18권 3호 시작쪽수 1p, 전체쪽수 27p, 2012년. 박철, 민법 제1조의 미학, 법률신문, 2011-06-23'}, {'url': 'https://ko.wikipedia.org/wiki/대한민국_헌법_제1조', 'content': '헌법 제1조 제2항은 \"대한민국의 주권은 국민에게 있고 모든 권력은 국민으로부터 나온다.\"고 규정하여 국민주권주의를 천명하고 있다. 이러한 국민주권의 원리 는 일반적으로 어떤 실천적인 의미보다는 국가권력의 정당성이 국민에게 있고 모든 통치권력의 ...'}, {'url': 'https://moleg.go.kr/knowledge/publication/monthlyPublicationSrch?mpbLegPstSeq=130464', 'content': '즉, 조의 내용을 작성하면서 여러 가지 요건이나 내용을 다음에 나열할 필요가 있을 때에는 항으로 세분하지 않고 호로 세분하여 조문을 작성하실 수 있습니다. 제9조(결격사유) 다음 각호의 1에 해당하는 자는 제8조의 규정에 의한 대규모점포의 등록을 할 수 ...'}, {'url': 'https://namu.wiki/w/법 조문 체계', 'content': '③ 제50조의 규정을 위반하여 그 업무수행중 알게 된 비밀을 누설하거나 도용한 자는 5년 이하의 징역이나 금고 또는 5천만원 이하의 벌금에 처한다. ... 제2조제1항 단서에 따라 긴급자동차의 지정을 받으려는 사람 또는 기관 등은 별지 제1호서식의 긴급자동차 ...'}]\n"
     ]
    },
    {
     "name": "stderr",
     "output_type": "stream",
     "text": [
      "Error in RootListenersTracer.on_chain_end callback: KeyError('message_history')\n",
      "Error in callback coroutine: KeyError('message_history')\n",
      "Error in RootListenersTracer.on_chain_end callback: KeyError('message_history')\n",
      "Error in callback coroutine: KeyError('message_history')\n"
     ]
    },
    {
     "data": {
      "text/plain": [
       "{'question': '1조의 내용도 알려줘',\n",
       " 'q_type': '주소관련 질문',\n",
       " 'context': [{'url': 'https://www.ilbe.com/view/11543555918',\n",
       "   'content': '최소 3만원 이내로 좋은거 알려줘 ... 정보통신망에서 불법촬영물등을 유통할 경우 「전기통신사업법」 제22조의5 제1항에 따른 삭제.접속차단 등 유통방지에 필요한 조치가 취해지며 「전기통신사업법」 제11조에 따라 형사처벌을 받을 수 있습니다. + ...'},\n",
       "  {'url': 'https://ko.wikipedia.org/wiki/대한민국_민법_제1조',\n",
       "   'content': '황태윤, 민법 제1조와 不文民法의 法源性, 전북대학교 동북아법연구 제6권 제2호 (2012년 9월) pp.143-164. 김경제, 관습법에 대한 오해, 민법 제1조의 헌법 합치적 해석, 세계헌법연구 18권 3호 시작쪽수 1p, 전체쪽수 27p, 2012년. 박철, 민법 제1조의 미학, 법률신문, 2011-06-23'},\n",
       "  {'url': 'https://ko.wikipedia.org/wiki/대한민국_헌법_제1조',\n",
       "   'content': '헌법 제1조 제2항은 \"대한민국의 주권은 국민에게 있고 모든 권력은 국민으로부터 나온다.\"고 규정하여 국민주권주의를 천명하고 있다. 이러한 국민주권의 원리 는 일반적으로 어떤 실천적인 의미보다는 국가권력의 정당성이 국민에게 있고 모든 통치권력의 ...'},\n",
       "  {'url': 'https://moleg.go.kr/knowledge/publication/monthlyPublicationSrch?mpbLegPstSeq=130464',\n",
       "   'content': '즉, 조의 내용을 작성하면서 여러 가지 요건이나 내용을 다음에 나열할 필요가 있을 때에는 항으로 세분하지 않고 호로 세분하여 조문을 작성하실 수 있습니다. 제9조(결격사유) 다음 각호의 1에 해당하는 자는 제8조의 규정에 의한 대규모점포의 등록을 할 수 ...'},\n",
       "  {'url': 'https://namu.wiki/w/법 조문 체계',\n",
       "   'content': '③ 제50조의 규정을 위반하여 그 업무수행중 알게 된 비밀을 누설하거나 도용한 자는 5년 이하의 징역이나 금고 또는 5천만원 이하의 벌금에 처한다. ... 제2조제1항 단서에 따라 긴급자동차의 지정을 받으려는 사람 또는 기관 등은 별지 제1호서식의 긴급자동차 ...'}],\n",
       " 'answer': '도로명주소법 제1조의 내용은 다음과 같습니다:\\n\\n\"제1조(목적) 이 법은 도로명주소의 부여, 변경, 폐지 및 관리에 관한 사항을 규정함으로써 국민의 생활 편익을 증진하고, 행정의 효율성을 높이며, 국가의 균형 발전에 이바지함을 목적으로 한다.\"\\n\\n이 조항은 도로명주소법의 목적을 명확히 하여 도로명주소의 체계적인 관리와 국민의 편익 증진을 목표로 하고 있습니다.',\n",
       " 'relevance': 'grounded'}"
      ]
     },
     "execution_count": 19,
     "metadata": {},
     "output_type": "execute_result"
    }
   ],
   "source": [
    "stream_responses('1조의 내용도 알려줘')"
   ]
  },
  {
   "cell_type": "code",
   "execution_count": 22,
   "metadata": {},
   "outputs": [
    {
     "name": "stderr",
     "output_type": "stream",
     "text": [
      "Error in RootListenersTracer.on_chain_end callback: KeyError('message_history')\n",
      "Error in callback coroutine: KeyError('message_history')\n",
      "Error in RootListenersTracer.on_chain_end callback: KeyError('message_history')\n",
      "Error in callback coroutine: KeyError('message_history')\n",
      "Error in RootListenersTracer.on_chain_end callback: KeyError('message_history')\n",
      "Error in callback coroutine: KeyError('message_history')\n",
      "Error in RootListenersTracer.on_chain_end callback: KeyError('message_history')\n",
      "Error in callback coroutine: KeyError('message_history')\n"
     ]
    },
    {
     "data": {
      "text/plain": [
       "{'question': 'hi',\n",
       " 'q_type': '일반 질문',\n",
       " 'context': [{'url': 'https://weather.naver.com/',\n",
       "   'content': '네이버 날씨는 각 정시 위에 날씨를 표현하나 날씨 요소 별 특성에 따라 구간 또는 정시기준이 다릅니다. 이를 참고해 날씨 데이터를 해석하시기 바랍니다. 13° 기온 : 정시 예) 19시는 19시 정시 기온 ... 오늘의 생활·보건 지수 ...'},\n",
       "  {'url': 'https://weather.com/ko-KR/weather/today/l/82e46175f97c224acf6b95afc4934fbae0e4ba123adcee8a52b7be97c303467b',\n",
       "   'content': 'The Weather Channel 및 Weather.com이 제공하는 오늘과 오늘 밤 서울특별시 일기예보, 날씨 상태 및 도플러 레이더'},\n",
       "  {'url': 'https://www.weather.go.kr/w/weather/now.do',\n",
       "   'content': '현재. +1H. +3H. 현재날씨 참고사항. - 실황표로 정리되어 있는 기상청 각 지상관측 지점의 시간별 관측 실황자료를 조회하실 수 있습니다. - 해당 자료는 실시간 관측된 자료이며, 현지 사정에 의해 잘못된 값이 표출 될 수 있으므로, 증명자료로 사용 될 수 ...'},\n",
       "  {'url': 'https://www.weather.go.kr/weather/home/index.jsp',\n",
       "   'content': '날씨해설. ※ 07월 29일부터 07월 31일까지의 전망입니다. 당분간 전국 대부분 지역에서 최고체감온도가 35도 내외로 올라 매우 무덥겠고 열대야가 나타나는 곳이 많겠습니다. 내일 오후까지 경기북부와 강원내륙.산지를 중심으로 가끔 비가 내리는 곳이 ...'},\n",
       "  {'url': 'https://www.yna.co.kr/weather/index',\n",
       "   'content': '날씨 정보 안내 페이지 입니다. 날씨요약 기온 전망 : 평년과 비슷하거나 높겠음 강수량 전망 : 평년과 비슷하거나 적겠음'}],\n",
       " 'answer': 'Hello! How can I assist you today?',\n",
       " 'relevance': 'grounded'}"
      ]
     },
     "execution_count": 22,
     "metadata": {},
     "output_type": "execute_result"
    }
   ],
   "source": [
    "result = stream_responses('hi')\n",
    "result"
   ]
  },
  {
   "cell_type": "code",
   "execution_count": 20,
   "metadata": {},
   "outputs": [
    {
     "data": {
      "text/plain": [
       "{'rag123': InMemoryChatMessageHistory(messages=[HumanMessage(content='건축물대장과 관련된 데이터는 뭐가 있니?'), AIMessage(content='주소관련 질문'), HumanMessage(content='건축물대장과 관련된 데이터는 뭐가 있니?'), AIMessage(content='건축물대장과 관련된 데이터에는 다음과 같은 정보들이 포함될 수 있습니다:\\n\\n1. 건축물의 상세주소\\n2. 건축물의 용도\\n3. 건축물의 구조\\n4. 건축물의 층수\\n5. 건축물의 면적\\n6. 건축물의 건축 연도\\n7. 건축물의 소유자 정보\\n8. 건축물의 사용 승인일\\n\\n이 외에도 건축물의 상태나 변경 이력 등 다양한 정보가 포함될 수 있습니다.'), HumanMessage(content='위 답변을 영어로 작성해줘'), AIMessage(content='일반 질문'), HumanMessage(content='위 답변을 영어로 작성해줘'), AIMessage(content='Sure, here is the translation of the previous answer into English:\\n\\nThe data related to the building register may include the following information:\\n\\n1. Detailed address of the building\\n2. Purpose of the building\\n3. Structure of the building\\n4. Number of floors of the building\\n5. Area of the building\\n6. Year of construction of the building\\n7. Owner information of the building\\n8. Date of use approval of the building\\n\\nIn addition, various information such as the condition of the building or its modification history may also be included.'), HumanMessage(content='도로명주소법 4조의 내용은?'), AIMessage(content='주소관련 질문'), HumanMessage(content='도로명주소법 4조의 내용은?'), AIMessage(content='도로명주소법 제4조의 내용은 다음과 같습니다:\\n\\n\"제4조(도로명주소의 부여 등) \\n① 행정안전부장관, 시·도지사 및 시장·군수·구청장은 도로명주소를 부여·변경 또는 폐지할 수 있다.\\n② 제1항에 따라 도로명주소를 부여·변경 또는 폐지하려는 경우에는 대통령령으로 정하는 바에 따라 관계 기관의 장과 협의하여야 한다.\\n③ 제1항 및 제2항에 따른 지원의 세부 내용은 대통령령으로 정한다.\"\\n\\n이 법 조항은 도로명주소의 부여, 변경, 폐지에 관한 절차와 관련 기관과의 협의 절차를 규정하고 있습니다.'), HumanMessage(content='1조의 내용도 알려줘'), AIMessage(content='주소관련 질문'), HumanMessage(content='1조의 내용도 알려줘'), AIMessage(content='도로명주소법 제1조의 내용은 다음과 같습니다:\\n\\n\"제1조(목적) 이 법은 도로명주소의 부여, 변경, 폐지 및 관리에 관한 사항을 규정함으로써 국민의 생활 편익을 증진하고, 행정의 효율성을 높이며, 국가의 균형 발전에 이바지함을 목적으로 한다.\"\\n\\n이 조항은 도로명주소법의 목적을 명확히 하여 도로명주소의 체계적인 관리와 국민의 편익 증진을 목표로 하고 있습니다.')])}"
      ]
     },
     "execution_count": 20,
     "metadata": {},
     "output_type": "execute_result"
    }
   ],
   "source": [
    "store"
   ]
  },
  {
   "cell_type": "code",
   "execution_count": 21,
   "metadata": {},
   "outputs": [
    {
     "name": "stderr",
     "output_type": "stream",
     "text": [
      "Error in RootListenersTracer.on_chain_end callback: KeyError('message_history')\n",
      "Error in callback coroutine: KeyError('message_history')\n",
      "Error in RootListenersTracer.on_chain_end callback: KeyError('message_history')\n",
      "Error in callback coroutine: KeyError('message_history')\n"
     ]
    },
    {
     "name": "stdout",
     "output_type": "stream",
     "text": [
      "[SystemMessage(content=\"\\n            너는 Query와 Document를 비교해서 ['grounded', 'notGrounded', 'notSure'] 셋 중 하나의 라벨을 출력하는 모델이야.\\n\\n            'grounded': Compare the Query and the Document. If the Document includes content that can be used to generate an answer to the Query, output the label 'grounded'.\\n            'notGrounded': Compare the Query and the Document. If the Document not includes content that can be used to generate an answer to the Query, output the label 'notGrounded'.\\n            'notSure': Compare the Query and the Document. If you cannot determine whether the Document includes content that can be used to generate an answer to the Query, output the label .notSure'.\\n            \\n            너의 출력은 반드시 'grounded', 'notGrounded', 'notSure' 중 하나여야 해. 띄어쓰기나 대소문자 구분 등 다른 형식이나 추가적인 설명 없이 오직 하나의 라벨만 출력해줘.\\n        \"), HumanMessage(content=\"\\n            [Document]\\n            [{'url': 'https://weather.naver.com/', 'content': '네이버 날씨는 각 정시 위에 날씨를 표현하나 날씨 요소 별 특성에 따라 구간 또는 정시기준이 다릅니다. 이를 참고해 날씨 데이터를 해석하시기 바랍니다. 13° 기온 : 정시 예) 19시는 19시 정시 기온 ... 오늘의 생활·보건 지수 ...'}, {'url': 'https://weather.com/ko-KR/weather/today/l/82e46175f97c224acf6b95afc4934fbae0e4ba123adcee8a52b7be97c303467b', 'content': 'The Weather Channel 및 Weather.com이 제공하는 오늘과 오늘 밤 서울특별시 일기예보, 날씨 상태 및 도플러 레이더'}, {'url': 'https://www.weather.go.kr/w/weather/now.do', 'content': '현재. +1H. +3H. 현재날씨 참고사항. - 실황표로 정리되어 있는 기상청 각 지상관측 지점의 시간별 관측 실황자료를 조회하실 수 있습니다. - 해당 자료는 실시간 관측된 자료이며, 현지 사정에 의해 잘못된 값이 표출 될 수 있으므로, 증명자료로 사용 될 수 ...'}, {'url': 'https://www.weather.go.kr/weather/home/index.jsp', 'content': '날씨해설. ※ 07월 29일부터 07월 31일까지의 전망입니다. 당분간 전국 대부분 지역에서 최고체감온도가 35도 내외로 올라 매우 무덥겠고 열대야가 나타나는 곳이 많겠습니다. 내일 오후까지 경기북부와 강원내륙.산지를 중심으로 가끔 비가 내리는 곳이 ...'}, {'url': 'https://www.yna.co.kr/weather/index', 'content': '날씨 정보 안내 페이지 입니다. 날씨요약 기온 전망 : 평년과 비슷하거나 높겠음 강수량 전망 : 평년과 비슷하거나 적겠음'}]\\n\\n            [Query]\\n            오늘의 날씨는?\\n        \")]\n",
      "[{'url': 'https://weather.naver.com/', 'content': '네이버 날씨는 각 정시 위에 날씨를 표현하나 날씨 요소 별 특성에 따라 구간 또는 정시기준이 다릅니다. 이를 참고해 날씨 데이터를 해석하시기 바랍니다. 13° 기온 : 정시 예) 19시는 19시 정시 기온 ... 오늘의 생활·보건 지수 ...'}, {'url': 'https://weather.com/ko-KR/weather/today/l/82e46175f97c224acf6b95afc4934fbae0e4ba123adcee8a52b7be97c303467b', 'content': 'The Weather Channel 및 Weather.com이 제공하는 오늘과 오늘 밤 서울특별시 일기예보, 날씨 상태 및 도플러 레이더'}, {'url': 'https://www.weather.go.kr/w/weather/now.do', 'content': '현재. +1H. +3H. 현재날씨 참고사항. - 실황표로 정리되어 있는 기상청 각 지상관측 지점의 시간별 관측 실황자료를 조회하실 수 있습니다. - 해당 자료는 실시간 관측된 자료이며, 현지 사정에 의해 잘못된 값이 표출 될 수 있으므로, 증명자료로 사용 될 수 ...'}, {'url': 'https://www.weather.go.kr/weather/home/index.jsp', 'content': '날씨해설. ※ 07월 29일부터 07월 31일까지의 전망입니다. 당분간 전국 대부분 지역에서 최고체감온도가 35도 내외로 올라 매우 무덥겠고 열대야가 나타나는 곳이 많겠습니다. 내일 오후까지 경기북부와 강원내륙.산지를 중심으로 가끔 비가 내리는 곳이 ...'}, {'url': 'https://www.yna.co.kr/weather/index', 'content': '날씨 정보 안내 페이지 입니다. 날씨요약 기온 전망 : 평년과 비슷하거나 높겠음 강수량 전망 : 평년과 비슷하거나 적겠음'}]\n"
     ]
    },
    {
     "name": "stderr",
     "output_type": "stream",
     "text": [
      "Error in RootListenersTracer.on_chain_end callback: KeyError('message_history')\n",
      "Error in callback coroutine: KeyError('message_history')\n",
      "Error in RootListenersTracer.on_chain_end callback: KeyError('message_history')\n",
      "Error in callback coroutine: KeyError('message_history')\n"
     ]
    },
    {
     "data": {
      "text/plain": [
       "{'question': '오늘의 날씨는?',\n",
       " 'q_type': '검색필요 질문',\n",
       " 'context': [{'url': 'https://weather.naver.com/',\n",
       "   'content': '네이버 날씨는 각 정시 위에 날씨를 표현하나 날씨 요소 별 특성에 따라 구간 또는 정시기준이 다릅니다. 이를 참고해 날씨 데이터를 해석하시기 바랍니다. 13° 기온 : 정시 예) 19시는 19시 정시 기온 ... 오늘의 생활·보건 지수 ...'},\n",
       "  {'url': 'https://weather.com/ko-KR/weather/today/l/82e46175f97c224acf6b95afc4934fbae0e4ba123adcee8a52b7be97c303467b',\n",
       "   'content': 'The Weather Channel 및 Weather.com이 제공하는 오늘과 오늘 밤 서울특별시 일기예보, 날씨 상태 및 도플러 레이더'},\n",
       "  {'url': 'https://www.weather.go.kr/w/weather/now.do',\n",
       "   'content': '현재. +1H. +3H. 현재날씨 참고사항. - 실황표로 정리되어 있는 기상청 각 지상관측 지점의 시간별 관측 실황자료를 조회하실 수 있습니다. - 해당 자료는 실시간 관측된 자료이며, 현지 사정에 의해 잘못된 값이 표출 될 수 있으므로, 증명자료로 사용 될 수 ...'},\n",
       "  {'url': 'https://www.weather.go.kr/weather/home/index.jsp',\n",
       "   'content': '날씨해설. ※ 07월 29일부터 07월 31일까지의 전망입니다. 당분간 전국 대부분 지역에서 최고체감온도가 35도 내외로 올라 매우 무덥겠고 열대야가 나타나는 곳이 많겠습니다. 내일 오후까지 경기북부와 강원내륙.산지를 중심으로 가끔 비가 내리는 곳이 ...'},\n",
       "  {'url': 'https://www.yna.co.kr/weather/index',\n",
       "   'content': '날씨 정보 안내 페이지 입니다. 날씨요약 기온 전망 : 평년과 비슷하거나 높겠음 강수량 전망 : 평년과 비슷하거나 적겠음'}],\n",
       " 'answer': '오늘의 날씨를 확인하려면 아래의 링크들을 참고해 주세요:\\n\\n1. [네이버 날씨](https://weather.naver.com/)\\n2. [The Weather Channel](https://weather.com/ko-KR/weather/today/l/82e46175f97c224acf6b95afc4934fbae0e4ba123adcee8a52b7be97c303467b)\\n3. [기상청](https://www.weather.go.kr/w/weather/now.do)\\n4. [연합뉴스 날씨 정보](https://www.yna.co.kr/weather/index)\\n\\n이 링크들을 통해 실시간으로 업데이트되는 날씨 정보를 확인할 수 있습니다.',\n",
       " 'relevance': 'grounded'}"
      ]
     },
     "execution_count": 21,
     "metadata": {},
     "output_type": "execute_result"
    }
   ],
   "source": [
    "result = stream_responses('오늘의 날씨는?')\n",
    "result"
   ]
  },
  {
   "cell_type": "code",
   "execution_count": null,
   "metadata": {},
   "outputs": [],
   "source": []
  }
 ],
 "metadata": {
  "kernelspec": {
   "display_name": "juso-chatbot",
   "language": "python",
   "name": "python3"
  },
  "language_info": {
   "codemirror_mode": {
    "name": "ipython",
    "version": 3
   },
   "file_extension": ".py",
   "mimetype": "text/x-python",
   "name": "python",
   "nbconvert_exporter": "python",
   "pygments_lexer": "ipython3",
   "version": "3.11.0"
  }
 },
 "nbformat": 4,
 "nbformat_minor": 2
}
