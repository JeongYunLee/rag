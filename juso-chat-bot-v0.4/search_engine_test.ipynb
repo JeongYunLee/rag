{
 "cells": [
  {
   "cell_type": "code",
   "execution_count": 19,
   "metadata": {},
   "outputs": [
    {
     "data": {
      "text/plain": [
       "{'query': '메시는 누구야?',\n",
       " 'follow_up_questions': None,\n",
       " 'answer': None,\n",
       " 'images': [],\n",
       " 'results': [{'title': \"''쟤 누구야'' 10대 메시 처음 보고 전설이 내뱉은 한마디\",\n",
       "   'url': 'https://www.sportalkorea.com/news/view.php?gisa_uniq=2021032807561855&gomb=1',\n",
       "   'content': \"''쟤 누구야'' 10대 메시 처음 보고 전설이 내뱉은 한마디 ... 는 확실히 떡잎부터 남달랐던 괴물이었다. 메시는 축구사 최고로 평가받는다. 지난 2004년 바르셀로나를 통해 프로에 데뷔한 메시는 현재까지 768경기서 663골로 놀라운 득점 기록을 쓰고 있다. 34세 ...\",\n",
       "   'score': 0.9980808,\n",
       "   'raw_content': None},\n",
       "  {'title': '\"쟤 누구야\" 10대 메시 처음 보고 전설이 내뱉은 한마디 : 네이트 스포츠',\n",
       "   'url': 'https://sports.news.nate.com/view/20210328n07730',\n",
       "   'content': '지오 판 브롱크호스트에게 \\'쟤 누구야\\'라고 물어볼 만큼 아주 잘했었다\"라고 돌아봤다. 지금은 바르셀로나 코치로 메시를 지도하는 라르손은 \"메시는 현재 세계 최고의 선수가 됐다. 그가 한 모든 일은 엄청나다. 수년 동안 계속해서 같은 수준을 보여주는 건 ...',\n",
       "   'score': 0.9901782,\n",
       "   'raw_content': None},\n",
       "  {'title': '\"이제 넌 가만히 있고 알바가 올라갈 거야! 영어 괜찮지?\"...메시가 인터 마이애미 동료에게 영어로 한 말',\n",
       "   'url': 'https://yourfield.nexon.com/today/view/SK007_20240303_7101?type=all',\n",
       "   'content': '메시는 바르셀로나 역대 최다 득점자다. 2021년 여름 바르셀로나와 재계약이 불발됐던 메시는 이후 파리 생제르맹에서 두 시즌을 보냈다. 지난해 7월 psg와 계약이 만료됐던 메시는 인터 마이애미에 입단했다. 메시는 미국 진출 후에도 마법을 일으켰다.',\n",
       "   'score': 0.9854964,\n",
       "   'raw_content': None},\n",
       "  {'title': '메시, 21년간 뛴 바르셀로나 떠난다 - 조선일보',\n",
       "   'url': 'https://www.chosun.com/sports/world-football/2021/08/07/PVH7XHZISVA7LFPI42UA74WYYM/',\n",
       "   'content': '메시는 2000년 바르셀로나 유스팀과 계약했고, 2004년 10월 1군 무대에 데뷔했다. 바르셀로나에서 17시즌 778경기를 뛰면서 672골을 넣으며 구단 역대 최다 출장, 득점 기록을 세웠다. 정규리그 10회, uefa(유럽축구연맹) 챔피언스리그 4회 등 우승컵을 35번 들었다.',\n",
       "   'score': 0.9783433,\n",
       "   'raw_content': None},\n",
       "  {'title': '메시: 결국 바르셀로나에 남는다 - BBC News 코리아',\n",
       "   'url': 'https://www.bbc.com/korean/news-54038898',\n",
       "   'content': 'BBC 스포츠 분석가, 앤디 웨스트. 메시는 결국 남는다. 하지만 이야기의 끝은 아직 멀었다. 메시는 인터뷰에서 바르셀로나 주제프 마리아 바르토메우 ...',\n",
       "   'score': 0.9749169,\n",
       "   'raw_content': None}],\n",
       " 'response_time': 1.43}"
      ]
     },
     "execution_count": 19,
     "metadata": {},
     "output_type": "execute_result"
    }
   ],
   "source": [
    "from tavily import TavilyClient\n",
    "import os\n",
    "\n",
    "TAVILY_API_KEY = os.getenv(\"TAVILY_API_KEY\")\n",
    "client = TavilyClient(api_key=TAVILY_API_KEY)\n",
    "\n",
    "response = client.search(\"메시는 누구야?\")\n",
    "\n",
    "response"
   ]
  },
  {
   "cell_type": "code",
   "execution_count": 21,
   "metadata": {},
   "outputs": [
    {
     "data": {
      "text/plain": [
       "{'query': 'Who is Messi?',\n",
       " 'follow_up_questions': None,\n",
       " 'answer': None,\n",
       " 'images': [],\n",
       " 'results': [{'title': 'Career of Lionel Messi - Wikipedia',\n",
       "   'url': 'https://en.wikipedia.org/wiki/Career_of_Lionel_Messi',\n",
       "   'content': \"Lionel Messi's club career began with Barcelona, where he rose through the youth ranks, making his first-team debut in 2004.Over the next years, Messi became the club's all-time leading scorer, amassing numerous domestic and international accolades. During his tenure, Barcelona secured ten La Liga titles, seven Copa del Rey victories, and four UEFA Champions League victories.\",\n",
       "   'score': 0.79230356,\n",
       "   'raw_content': None},\n",
       "  {'title': \"Lionel Messi | Biography, Barcelona, PSG, Ballon d'Or, Inter Miami ...\",\n",
       "   'url': 'https://www.britannica.com/biography/Lionel-Messi',\n",
       "   'content': 'In early 2009 Messi capped off a spectacular 2008–09 season by helping FC Barcelona capture the club’s first “treble” (winning three major European club titles in one season): the team won the La Liga championship, the Copa del Rey (Spain’s major domestic cup), and the Champions League title. Messi’s play continued to rapidly improve over the years, and by 2008 he was one of the most dominant players in the world, finishing second to Manchester United’s Cristiano Ronaldo in the voting for the 2008 Ballon d’Or. At the 2014 World Cup, Messi put on a dazzling display, scoring four goals and almost single-handedly propelling an offense-deficient Argentina team through the group stage and into the knockout rounds, where Argentina then advanced to the World Cup final for the first time in 24 years. After Argentina was defeated in the Copa final—the team’s third consecutive finals loss in a major tournament—Messi said that he was quitting the national team, but his short-lived “retirement” lasted less than two months before he announced his return to the Argentine team. Messi helped Barcelona capture another treble during the 2014–15 season, leading the team with 43 goals scored over the course of the campaign, which resulted in his fifth world player of the year honour.',\n",
       "   'score': 0.7444706,\n",
       "   'raw_content': None},\n",
       "  {'title': 'Lionel Messi - Wikipedia',\n",
       "   'url': 'https://en.wikipedia.org/wiki/Lionel_Messi',\n",
       "   'content': 'He scored twice in the last group match, a 3–2 victory over Nigeria, his second goal coming from a free kick, as they finished first in their group.[423] Messi assisted a late goal in extra time to ensure a 1–0 win against Switzerland in the round of 16, and played in the 1–0 quarter-final win against Belgium as Argentina progressed to the semi-final of the World Cup for the first time since 1990.[424][425] Following a 0–0 draw in extra time, they eliminated the Netherlands 4–2 in a penalty shootout to reach the final, with Messi scoring his team\\'s first penalty.[426]\\nBilled as Messi versus Germany, the world\\'s best player against the best team, the final was a repeat of the 1990 final featuring Diego Maradona.[427] Within the first half-hour, Messi had started the play that led to a goal, but it was ruled offside. \"[582] Moreover, several pundits and footballing figures, including Maradona, questioned Messi\\'s leadership with Argentina at times, despite his playing ability.[583][584][585] Vickery states the perception of Messi among Argentines changed in 2019, with Messi making a conscious effort to become \"more one of the group, more Argentine\", with Vickery adding that following the World Cup victory in 2022 Messi would now be held in the same esteem by his compatriots as Maradona.[581]\\nComparisons with Cristiano Ronaldo\\nAmong his contemporary peers, Messi is most often compared and contrasted with Portuguese forward Cristiano Ronaldo, as part of an ongoing rivalry that has been compared to past sports rivalries like the Muhammad Ali–Joe Frazier rivalry in boxing, the Roger Federer–Rafael Nadal rivalry in tennis, and the Prost–Senna rivalry from Formula One motor racing.[586][587]\\nAlthough Messi has at times denied any rivalry,[588][589] they are widely believed to push one another in their aim to be the best player in the world.[160] Since 2008, Messi has won eight Ballons d\\'Or to Ronaldo\\'s five,[590] seven FIFA World\\'s Best Player awards to Ronaldo\\'s five, and six European Golden Shoes to Ronaldo\\'s four.[591] Pundits and fans regularly argue the individual merits of both players.[160][592] On 11 July, Messi provided his 20th assist of the league season for Arturo Vidal in a 1–0 away win over Real Valladolid, equalling Xavi\\'s record of 20 assists in a single La Liga season from 2008 to 2009;[281][282] with 22 goals, he also became only the second player ever, after Thierry Henry in the 2002–03 FA Premier League season with Arsenal (24 goals and 20 assists), to record at least 20 goals and 20 assists in a single league season in one of Europe\\'s top-five leagues.[282][283] Following his brace in a 5–0 away win against Alavés in the final match of the season on 20 May, Messi finished the season as both the top scorer and top assist provider in La Liga, with 25 goals and 21 assists respectively, which saw him win his record seventh Pichichi trophy, overtaking Zarra; however, Barcelona missed out on the league title to Real Madrid.[284] On 7 March, two weeks after scoring four goals in a league fixture against Valencia, he scored five times in a Champions League last 16-round match against Bayer Leverkusen, an unprecedented achievement in the history of the competition.[126][127] In addition to being the joint top assist provider with five assists, this feat made him top scorer with 14 goals, tying José Altafini\\'s record from the 1962–63 season, as well as becoming only the second player after Gerd Müller to be top scorer in four campaigns.[128][129] Two weeks later, on 20 March, Messi became the top goalscorer in Barcelona\\'s history at 24 years old, overtaking the 57-year record of César Rodríguez\\'s 232 goals with a hat-trick against Granada.[130]\\nDespite Messi\\'s individual form, Barcelona\\'s four-year cycle of success under Guardiola – one of the greatest eras in the club\\'s history – drew to an end.[131] He still managed to break two longstanding records in a span of seven days: a hat-trick on 16 March against Osasuna saw him overtake Paulino Alcántara\\'s 369 goals to become Barcelona\\'s top goalscorer in all competitions including friendlies, while another hat-trick against Real Madrid on 23 March made him the all-time top scorer in El Clásico, ahead of the 18 goals scored by former Real Madrid player Alfredo Di Stéfano.[160][162] Messi finished the campaign with his worst output in five seasons, though he still managed to score 41 goals in all competitions.[161][163] For the first time in five years, Barcelona ended the season without a major trophy; they were defeated in the Copa del Rey final by Real Madrid and lost the league in the last game to Atlético Madrid, causing Messi to be booed by sections of fans at the Camp Nou.[164]',\n",
       "   'score': 0.7350715,\n",
       "   'raw_content': None},\n",
       "  {'title': 'The life and times of Lionel Messi',\n",
       "   'url': 'https://www.nytimes.com/athletic/4783674/2023/08/18/lionel-messi-profile-soccer/',\n",
       "   'content': 'For Messi, it is major trophy number 44.. Despite turning 36 in June, he is as influential as ever. Here is the complete story of Lionel Andres Messi, widely regarded as one of the greatest ...',\n",
       "   'score': 0.6631238,\n",
       "   'raw_content': None},\n",
       "  {'title': 'Lionel Messi | Paris Saint-Germain',\n",
       "   'url': 'https://en.psg.fr/teams/first-team/squad/lionel-messi',\n",
       "   'content': \"Lionel\\nMessi\\nFirst Team\\n30\\nLionel\\nMessi 30\\nPlayer profile\\nIt’s hard to find the words to describe a man that the football world knows simply as ‘The GOAT’. Lionel Messi: A Paris Saint-Germain legend\\nMessi and Ramos play final match at the Parc\\nLeo Messi finishes as Ligue 1’s top assist provider\\nPictures of Lionel Messi with Paris Saint-Germain\\nThanks, Leo!\\n The all-time leading goal scorer for his country, the top scorer in the history of Spanish football, the top assist provider in the 21st century, Messi has broken all the records, but above all, inspired an entire generation of footballers around the world with his genius.\\n Previous clubs\\n2004-2021\\nFC Barcelona\\n778\\nLionel Messi Related News\\nLionel Messi's last game with Paris!\\n Top goals: Paris-Clermont\\nParis Saint-Germain\\nServices\\nLanguagues\\nHelp\\nJoin Us\",\n",
       "   'score': 0.62520933,\n",
       "   'raw_content': None}],\n",
       " 'response_time': 1.5}"
      ]
     },
     "execution_count": 21,
     "metadata": {},
     "output_type": "execute_result"
    }
   ],
   "source": [
    "from tavily import TavilyClient\n",
    "import os\n",
    "\n",
    "TAVILY_API_KEY = os.getenv(\"TAVILY_API_KEY\")\n",
    "client = TavilyClient(api_key=TAVILY_API_KEY)\n",
    "\n",
    "response = client.search(\"Who is Messi?\")\n",
    "\n",
    "response"
   ]
  },
  {
   "cell_type": "code",
   "execution_count": 16,
   "metadata": {},
   "outputs": [],
   "source": [
    "from langchain_openai import ChatOpenAI\n",
    "from langchain_core.prompts import PromptTemplate\n",
    "from langchain_core.output_parsers import StrOutputParser\n",
    "\n",
    "\n",
    "def general_llm(content, query):\n",
    "    \n",
    "    # 프롬프트를 생성합니다.\n",
    "    prompt = PromptTemplate.from_template(\n",
    "        \"\"\"     \n",
    "                너는 일반적인 상식과 정보에 대해서 답변하는 챗봇이야. content의 값을 참고해서 답변을 해줘.\n",
    "\n",
    "                #Content:\n",
    "                {content}\n",
    "\n",
    "                #Question: \n",
    "                {question} \n",
    "                \n",
    "                #Answer:\n",
    "                \n",
    "            \"\"\"\n",
    "                )\n",
    "\n",
    "    llm = ChatOpenAI(model_name=\"gpt-4o\", temperature=0)\n",
    "    \n",
    "    # 프롬프트, 모델, 출력 파서를 체이닝합니다.\n",
    "    chain = prompt | llm | StrOutputParser()\n",
    "\n",
    "    response = chain.invoke({\"question\":query, 'content':content})\n",
    "    \n",
    "    return response"
   ]
  },
  {
   "cell_type": "code",
   "execution_count": 17,
   "metadata": {},
   "outputs": [
    {
     "data": {
      "text/plain": [
       "'도로명주소법 제1조의 내용은 다음과 같습니다:\\n\\n\"제1조(목적) 이 법은 도로명주소, 국가기초구역 및 국가지점번호의 표기·관리·활용과 도로명주소의 부여·사용·관리 등에 관한 사항을 규정함으로써 국민의 생활안전과 편의를 도모하고 물류비 절감 등 국가경쟁력 강화에 이바지함을 목적으로 한다. [전문개정 2011.8.4]\"\\n\\n더 자세한 내용은 [U-lex 법률우주](https://www.ulex.co.kr/법률/155001-010300-도로명주소법)에서 확인할 수 있습니다.'"
      ]
     },
     "execution_count": 17,
     "metadata": {},
     "output_type": "execute_result"
    }
   ],
   "source": [
    "general_llm(response, \"도로명주소법 1조의 내용은?\")"
   ]
  },
  {
   "cell_type": "code",
   "execution_count": 14,
   "metadata": {},
   "outputs": [
    {
     "data": {
      "text/plain": [
       "{'query': 'Please tell me about number3 of 도로명주소법',\n",
       " 'follow_up_questions': None,\n",
       " 'answer': None,\n",
       " 'images': [],\n",
       " 'results': [{'title': '대한민국 영문법령 - Klri',\n",
       "   'url': 'https://elaw.klri.re.kr/kor_service/lawTwoView.do?hseq=35926',\n",
       "   'content': '도로명주소법: ... In such cases, where building number signs are damaged or lost due to reasons attributable to the owners or occupiers, such owners or occupiers shall bear the relevant expenses. (3) When owners of buildings, etc. are to be assigned with building numbers due to new construction, ...',\n",
       "   'score': 0.99814695,\n",
       "   'raw_content': None},\n",
       "  {'title': '대한민국의 주소 - 위키백과, 우리 모두의 백과사전',\n",
       "   'url': 'https://ko.wikipedia.org/wiki/대한민국의_주소',\n",
       "   'content': '대한민국 도로명주소법. 도로명주소법 은 2007년 4월 5일 에 처음 제정되어, 《도로명주소 등 표기에 관한 법률》이었으나, 2009년 4월 1일 부터 현행 명칭으로 변경했으며, 관련된 사항이 규정되어 있다. 대한민국에서는 2014년부터 도로명 주소가 전면 사용되어 ...',\n",
       "   'score': 0.9923638,\n",
       "   'raw_content': None},\n",
       "  {'title': '도로명주소법 - 국가법령정보센터',\n",
       "   'url': 'https://law.go.kr/법령/도로명주소법/(10987)',\n",
       "   'content': '도로명주소법 - 국가법령정보센터',\n",
       "   'score': 0.98463464,\n",
       "   'raw_content': None},\n",
       "  {'title': '도로명주소법시행규칙 - 국가법령정보센터',\n",
       "   'url': 'https://law.go.kr/법령/도로명주소법시행규칙',\n",
       "   'content': '법령. 도로명주소법 시행규칙 [시행 2022. 3. 30.] [행정안전부령 제324호, 2022. 3. 30., 타법개정] 본문목록열림 본문. 부칙목록열림 부칙. 별표목록열림 별표.',\n",
       "   'score': 0.98445636,\n",
       "   'raw_content': None},\n",
       "  {'title': '도로명주소법 - 국가법령정보센터',\n",
       "   'url': 'https://law.go.kr/법령/도로명주소법',\n",
       "   'content': '도로명주소법. 본문. 부칙. 본문 제정·개정이유. 별표·서식. 연혁 3단비교 신구법비교 법령체계도 법령비교. 생활법령정보 한눈보기 원문다운로드. 화면내검색.',\n",
       "   'score': 0.97272736,\n",
       "   'raw_content': None}],\n",
       " 'response_time': 1.21}"
      ]
     },
     "execution_count": 14,
     "metadata": {},
     "output_type": "execute_result"
    }
   ],
   "source": [
    "response"
   ]
  },
  {
   "cell_type": "code",
   "execution_count": 26,
   "metadata": {},
   "outputs": [],
   "source": [
    "import os\n",
    "\n",
    "os.environ[\"TAVILY_API_KEY\"] = TAVILY_API_KEY"
   ]
  },
  {
   "cell_type": "code",
   "execution_count": 27,
   "metadata": {},
   "outputs": [],
   "source": [
    "from langchain_community.retrievers import TavilySearchAPIRetriever\n",
    "\n",
    "retriever = TavilySearchAPIRetriever(k=3)"
   ]
  },
  {
   "cell_type": "code",
   "execution_count": 28,
   "metadata": {},
   "outputs": [
    {
     "data": {
      "text/plain": [
       "[Document(metadata={'title': '도로명주소법', 'source': 'http://www.yeslaw.kr/lims/front/page/fulltext.html?pAct=view&pPromulgationNo=183001', 'score': 0.9983125, 'images': []}, page_content='3. \"도로명주소사업\"이란 도로와 건물등에 도로명 및 건물번호를 부여하고 관련 시설 등을 설치ㆍ유지관리ㆍ활용하는 사업을 말한다. ... 이 경우 통보된 내용은 제8조제4항의 개정규정에 따른 결정사항으로 본다. ... 1항 전단, 같은 조 제2항ㆍ제3항, 제8조제3항ㆍ ...'),\n",
       " Document(metadata={'title': '도로명주소법 | 국가법령정보센터 | 법령 > 본문', 'source': 'https://law.go.kr/LSW/lsInfoP.do?lsiSeq=136735', 'score': 0.9938549, 'images': []}, page_content='도로명주소법. [시행 2013. 3. 23.] [법률 제11690호, 2013. 3. 23., 타법개정] 행정안전부 ( 주소생활공간과), 044-205-3567. 제1조 (목적) 이 법은 도로명주소, 국가기초구역 및 국가지점번호의 표기ㆍ관리ㆍ활용과 도로명주소의 부여ㆍ사용ㆍ관리 등에 관한 사항을 ...'),\n",
       " Document(metadata={'title': '대한민국의 주소 - 위키백과, 우리 모두의 백과사전', 'source': 'https://ko.wikipedia.org/wiki/대한민국의_주소', 'score': 0.9672869, 'images': []}, page_content='대한민국 도로명주소법. 도로명주소법 은 2007년 4월 5일 에 처음 제정되어, 《도로명주소 등 표기에 관한 법률》이었으나, 2009년 4월 1일 부터 현행 명칭으로 변경했으며, 관련된 사항이 규정되어 있다. 대한민국에서는 2014년부터 도로명 주소가 전면 사용되어 ...')]"
      ]
     },
     "execution_count": 28,
     "metadata": {},
     "output_type": "execute_result"
    }
   ],
   "source": [
    "query = \"도로명주소 3조의 내용은?\"\n",
    "\n",
    "retriever.invoke(query)"
   ]
  },
  {
   "cell_type": "code",
   "execution_count": null,
   "metadata": {},
   "outputs": [],
   "source": []
  }
 ],
 "metadata": {
  "kernelspec": {
   "display_name": "juso-chatbot",
   "language": "python",
   "name": "python3"
  },
  "language_info": {
   "codemirror_mode": {
    "name": "ipython",
    "version": 3
   },
   "file_extension": ".py",
   "mimetype": "text/x-python",
   "name": "python",
   "nbconvert_exporter": "python",
   "pygments_lexer": "ipython3",
   "version": "3.11.0"
  }
 },
 "nbformat": 4,
 "nbformat_minor": 2
}
