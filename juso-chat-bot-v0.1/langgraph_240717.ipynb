{
 "cells": [
  {
   "cell_type": "code",
   "execution_count": 2,
   "metadata": {},
   "outputs": [],
   "source": [
    "from dotenv import load_dotenv\n",
    "import os\n",
    "import uuid\n",
    "import chromadb\n",
    "from langchain_community.document_loaders import DirectoryLoader\n",
    "from langchain_community.document_loaders import TextLoader\n",
    "from langchain_community.retrievers import BM25Retriever\n",
    "from langchain.retrievers import EnsembleRetriever\n",
    "from langchain_core.documents import Document\n",
    "from langchain_community.vectorstores import Chroma\n",
    "from langchain.text_splitter import RecursiveCharacterTextSplitter\n",
    "from langchain.embeddings.openai import OpenAIEmbeddings\n",
    "from chromadb.utils import embedding_functions\n",
    "from langchain_core.runnables import RunnablePassthrough\n",
    "from langchain_core.output_parsers import StrOutputParser\n",
    "from langchain_openai import ChatOpenAI\n",
    "from langchain.schema import AIMessage, HumanMessage, SystemMessage\n",
    "from langchain_core.messages import HumanMessage, SystemMessage\n",
    "# from kiwipiepy import Kiwi\n",
    "import time\n",
    "import csv"
   ]
  },
  {
   "cell_type": "code",
   "execution_count": 3,
   "metadata": {},
   "outputs": [],
   "source": [
    "# api key\n",
    "from dotenv import load_dotenv\n",
    "import os\n",
    "\n",
    "load_dotenv()\n",
    "\n",
    "OPENAI_API_KEY = os.getenv('OPENAI_API_KEY')"
   ]
  },
  {
   "cell_type": "code",
   "execution_count": 4,
   "metadata": {},
   "outputs": [],
   "source": [
    "# pip install -qU langchain-teddynote"
   ]
  },
  {
   "cell_type": "code",
   "execution_count": 5,
   "metadata": {},
   "outputs": [
    {
     "name": "stdout",
     "output_type": "stream",
     "text": [
      "LangSmith 추적을 시작합니다.\n",
      "[프로젝트명]\n",
      "240717\n"
     ]
    }
   ],
   "source": [
    "# LangSmith 추적을 설정합니다. https://smith.langchain.com\n",
    "from langchain_teddynote import logging\n",
    "\n",
    "# 프로젝트 이름을 입력합니다.\n",
    "logging.langsmith(\"240717\") #set_enable=False"
   ]
  },
  {
   "cell_type": "code",
   "execution_count": 6,
   "metadata": {},
   "outputs": [],
   "source": [
    "YOUR_LANSMITH_PROJECTNAME = \"240717\""
   ]
  },
  {
   "cell_type": "code",
   "execution_count": 7,
   "metadata": {},
   "outputs": [],
   "source": [
    "# from langchain_openai import ChatOpenAI\n",
    "# llm = ChatOpenAI()\n",
    "# # 간단하게 API 텍스트 호출\n",
    "# llm.invoke(\"LangSmith로 Testing과 Evaluation을 어떻게 할 수 있어?\")"
   ]
  },
  {
   "cell_type": "code",
   "execution_count": 8,
   "metadata": {},
   "outputs": [
    {
     "data": {
      "text/plain": [
       "[Collection(name=12_files_openai_3072), Collection(name=csv_files_openai_3072)]"
      ]
     },
     "execution_count": 8,
     "metadata": {},
     "output_type": "execute_result"
    }
   ],
   "source": [
    "## 컬렉션 생성/연결하기\n",
    "import chromadb\n",
    "client = chromadb.PersistentClient('chroma/')\n",
    "client.list_collections()"
   ]
  },
  {
   "cell_type": "markdown",
   "metadata": {},
   "source": [
    "### Retriever"
   ]
  },
  {
   "cell_type": "code",
   "execution_count": 9,
   "metadata": {},
   "outputs": [
    {
     "name": "stderr",
     "output_type": "stream",
     "text": [
      "/Users/cauhike/Documents/GitHub/rag/.venv/lib/python3.11/site-packages/langchain_core/_api/deprecation.py:139: LangChainDeprecationWarning: The class `OpenAIEmbeddings` was deprecated in LangChain 0.0.9 and will be removed in 0.3.0. An updated version of the class exists in the langchain-openai package and should be used instead. To use it run `pip install -U langchain-openai` and import as `from langchain_openai import OpenAIEmbeddings`.\n",
      "  warn_deprecated(\n"
     ]
    }
   ],
   "source": [
    "from langchain.embeddings.openai import OpenAIEmbeddings\n",
    "from langchain.vectorstores import Chroma\n",
    "\n",
    "class MultiCollectionRetriever:\n",
    "    def __init__(self, client, collection_names, embedding_function, search_kwargs={\"k\": 2}):\n",
    "        self.collections = [\n",
    "            Chroma(client=client, collection_name=name, embedding_function=embedding_function)\n",
    "            for name in collection_names\n",
    "        ]\n",
    "        self.search_kwargs = search_kwargs\n",
    "\n",
    "    def retrieve(self, query):\n",
    "        results = []\n",
    "        for collection in self.collections:\n",
    "            # 각 컬렉션에서 유사도 검색 수행\n",
    "            documents_with_scores = collection.similarity_search_with_score(query, **self.search_kwargs)\n",
    "            results.extend(documents_with_scores)\n",
    "        \n",
    "        # 유사도 점수를 기준으로 결과 정렬 (score가 높을수록 유사도가 높음)\n",
    "        results.sort(key=lambda x: x[1], reverse=False)\n",
    "\n",
    "        documents = [(doc, score) for doc, score in results]\n",
    "        return documents\n",
    "\n",
    "# 사용 예시\n",
    "collection_names = [\"csv_files_openai_3072\", \"12_files_openai_3072\"]\n",
    "embedding = OpenAIEmbeddings(model='text-embedding-3-large') \n",
    "multi_retriever = MultiCollectionRetriever(client, collection_names, embedding)"
   ]
  },
  {
   "cell_type": "code",
   "execution_count": 11,
   "metadata": {},
   "outputs": [
    {
     "ename": "AuthenticationError",
     "evalue": "Error code: 401 - {'error': {'message': 'Incorrect API key provided: sk-proj-********************************************KD0r. You can find your API key at https://platform.openai.com/account/api-keys.', 'type': 'invalid_request_error', 'param': None, 'code': 'invalid_api_key'}}",
     "output_type": "error",
     "traceback": [
      "\u001b[0;31m---------------------------------------------------------------------------\u001b[0m",
      "\u001b[0;31mAuthenticationError\u001b[0m                       Traceback (most recent call last)",
      "Cell \u001b[0;32mIn[11], line 2\u001b[0m\n\u001b[1;32m      1\u001b[0m query \u001b[38;5;241m=\u001b[39m \u001b[38;5;124m\"\u001b[39m\u001b[38;5;124m사물주소와 관련된 체계가 존재하는가?\u001b[39m\u001b[38;5;124m\"\u001b[39m\n\u001b[0;32m----> 2\u001b[0m results \u001b[38;5;241m=\u001b[39m \u001b[43mmulti_retriever\u001b[49m\u001b[38;5;241;43m.\u001b[39;49m\u001b[43mretrieve\u001b[49m\u001b[43m(\u001b[49m\u001b[43mquery\u001b[49m\u001b[43m)\u001b[49m\n\u001b[1;32m      3\u001b[0m top_results \u001b[38;5;241m=\u001b[39m results[:\u001b[38;5;241m5\u001b[39m]  \u001b[38;5;66;03m# 상위 5개 결과 선택\u001b[39;00m\n\u001b[1;32m      5\u001b[0m \u001b[38;5;66;03m# 최종 결과 출력\u001b[39;00m\n\u001b[1;32m      6\u001b[0m \u001b[38;5;66;03m# for doc, score in top_results:\u001b[39;00m\n\u001b[1;32m      7\u001b[0m \u001b[38;5;66;03m#     print(f\"Document: {doc.page_content}, Score: {score}\")\u001b[39;00m\n",
      "Cell \u001b[0;32mIn[9], line 16\u001b[0m, in \u001b[0;36mMultiCollectionRetriever.retrieve\u001b[0;34m(self, query)\u001b[0m\n\u001b[1;32m     13\u001b[0m results \u001b[38;5;241m=\u001b[39m []\n\u001b[1;32m     14\u001b[0m \u001b[38;5;28;01mfor\u001b[39;00m collection \u001b[38;5;129;01min\u001b[39;00m \u001b[38;5;28mself\u001b[39m\u001b[38;5;241m.\u001b[39mcollections:\n\u001b[1;32m     15\u001b[0m     \u001b[38;5;66;03m# 각 컬렉션에서 유사도 검색 수행\u001b[39;00m\n\u001b[0;32m---> 16\u001b[0m     documents_with_scores \u001b[38;5;241m=\u001b[39m \u001b[43mcollection\u001b[49m\u001b[38;5;241;43m.\u001b[39;49m\u001b[43msimilarity_search_with_score\u001b[49m\u001b[43m(\u001b[49m\u001b[43mquery\u001b[49m\u001b[43m,\u001b[49m\u001b[43m \u001b[49m\u001b[38;5;241;43m*\u001b[39;49m\u001b[38;5;241;43m*\u001b[39;49m\u001b[38;5;28;43mself\u001b[39;49m\u001b[38;5;241;43m.\u001b[39;49m\u001b[43msearch_kwargs\u001b[49m\u001b[43m)\u001b[49m\n\u001b[1;32m     17\u001b[0m     results\u001b[38;5;241m.\u001b[39mextend(documents_with_scores)\n\u001b[1;32m     19\u001b[0m \u001b[38;5;66;03m# 유사도 점수를 기준으로 결과 정렬 (score가 높을수록 유사도가 높음)\u001b[39;00m\n",
      "File \u001b[0;32m~/Documents/GitHub/rag/.venv/lib/python3.11/site-packages/langchain_community/vectorstores/chroma.py:438\u001b[0m, in \u001b[0;36mChroma.similarity_search_with_score\u001b[0;34m(self, query, k, filter, where_document, **kwargs)\u001b[0m\n\u001b[1;32m    430\u001b[0m     results \u001b[38;5;241m=\u001b[39m \u001b[38;5;28mself\u001b[39m\u001b[38;5;241m.\u001b[39m__query_collection(\n\u001b[1;32m    431\u001b[0m         query_texts\u001b[38;5;241m=\u001b[39m[query],\n\u001b[1;32m    432\u001b[0m         n_results\u001b[38;5;241m=\u001b[39mk,\n\u001b[0;32m   (...)\u001b[0m\n\u001b[1;32m    435\u001b[0m         \u001b[38;5;241m*\u001b[39m\u001b[38;5;241m*\u001b[39mkwargs,\n\u001b[1;32m    436\u001b[0m     )\n\u001b[1;32m    437\u001b[0m \u001b[38;5;28;01melse\u001b[39;00m:\n\u001b[0;32m--> 438\u001b[0m     query_embedding \u001b[38;5;241m=\u001b[39m \u001b[38;5;28;43mself\u001b[39;49m\u001b[38;5;241;43m.\u001b[39;49m\u001b[43m_embedding_function\u001b[49m\u001b[38;5;241;43m.\u001b[39;49m\u001b[43membed_query\u001b[49m\u001b[43m(\u001b[49m\u001b[43mquery\u001b[49m\u001b[43m)\u001b[49m\n\u001b[1;32m    439\u001b[0m     results \u001b[38;5;241m=\u001b[39m \u001b[38;5;28mself\u001b[39m\u001b[38;5;241m.\u001b[39m__query_collection(\n\u001b[1;32m    440\u001b[0m         query_embeddings\u001b[38;5;241m=\u001b[39m[query_embedding],\n\u001b[1;32m    441\u001b[0m         n_results\u001b[38;5;241m=\u001b[39mk,\n\u001b[0;32m   (...)\u001b[0m\n\u001b[1;32m    444\u001b[0m         \u001b[38;5;241m*\u001b[39m\u001b[38;5;241m*\u001b[39mkwargs,\n\u001b[1;32m    445\u001b[0m     )\n\u001b[1;32m    447\u001b[0m \u001b[38;5;28;01mreturn\u001b[39;00m _results_to_docs_and_scores(results)\n",
      "File \u001b[0;32m~/Documents/GitHub/rag/.venv/lib/python3.11/site-packages/langchain_community/embeddings/openai.py:697\u001b[0m, in \u001b[0;36mOpenAIEmbeddings.embed_query\u001b[0;34m(self, text)\u001b[0m\n\u001b[1;32m    688\u001b[0m \u001b[38;5;28;01mdef\u001b[39;00m \u001b[38;5;21membed_query\u001b[39m(\u001b[38;5;28mself\u001b[39m, text: \u001b[38;5;28mstr\u001b[39m) \u001b[38;5;241m-\u001b[39m\u001b[38;5;241m>\u001b[39m List[\u001b[38;5;28mfloat\u001b[39m]:\n\u001b[1;32m    689\u001b[0m \u001b[38;5;250m    \u001b[39m\u001b[38;5;124;03m\"\"\"Call out to OpenAI's embedding endpoint for embedding query text.\u001b[39;00m\n\u001b[1;32m    690\u001b[0m \n\u001b[1;32m    691\u001b[0m \u001b[38;5;124;03m    Args:\u001b[39;00m\n\u001b[0;32m   (...)\u001b[0m\n\u001b[1;32m    695\u001b[0m \u001b[38;5;124;03m        Embedding for the text.\u001b[39;00m\n\u001b[1;32m    696\u001b[0m \u001b[38;5;124;03m    \"\"\"\u001b[39;00m\n\u001b[0;32m--> 697\u001b[0m     \u001b[38;5;28;01mreturn\u001b[39;00m \u001b[38;5;28;43mself\u001b[39;49m\u001b[38;5;241;43m.\u001b[39;49m\u001b[43membed_documents\u001b[49m\u001b[43m(\u001b[49m\u001b[43m[\u001b[49m\u001b[43mtext\u001b[49m\u001b[43m]\u001b[49m\u001b[43m)\u001b[49m[\u001b[38;5;241m0\u001b[39m]\n",
      "File \u001b[0;32m~/Documents/GitHub/rag/.venv/lib/python3.11/site-packages/langchain_community/embeddings/openai.py:668\u001b[0m, in \u001b[0;36mOpenAIEmbeddings.embed_documents\u001b[0;34m(self, texts, chunk_size)\u001b[0m\n\u001b[1;32m    665\u001b[0m \u001b[38;5;66;03m# NOTE: to keep things simple, we assume the list may contain texts longer\u001b[39;00m\n\u001b[1;32m    666\u001b[0m \u001b[38;5;66;03m#       than the maximum context and use length-safe embedding function.\u001b[39;00m\n\u001b[1;32m    667\u001b[0m engine \u001b[38;5;241m=\u001b[39m cast(\u001b[38;5;28mstr\u001b[39m, \u001b[38;5;28mself\u001b[39m\u001b[38;5;241m.\u001b[39mdeployment)\n\u001b[0;32m--> 668\u001b[0m \u001b[38;5;28;01mreturn\u001b[39;00m \u001b[38;5;28;43mself\u001b[39;49m\u001b[38;5;241;43m.\u001b[39;49m\u001b[43m_get_len_safe_embeddings\u001b[49m\u001b[43m(\u001b[49m\u001b[43mtexts\u001b[49m\u001b[43m,\u001b[49m\u001b[43m \u001b[49m\u001b[43mengine\u001b[49m\u001b[38;5;241;43m=\u001b[39;49m\u001b[43mengine\u001b[49m\u001b[43m)\u001b[49m\n",
      "File \u001b[0;32m~/Documents/GitHub/rag/.venv/lib/python3.11/site-packages/langchain_community/embeddings/openai.py:494\u001b[0m, in \u001b[0;36mOpenAIEmbeddings._get_len_safe_embeddings\u001b[0;34m(self, texts, engine, chunk_size)\u001b[0m\n\u001b[1;32m    492\u001b[0m batched_embeddings: List[List[\u001b[38;5;28mfloat\u001b[39m]] \u001b[38;5;241m=\u001b[39m []\n\u001b[1;32m    493\u001b[0m \u001b[38;5;28;01mfor\u001b[39;00m i \u001b[38;5;129;01min\u001b[39;00m _iter:\n\u001b[0;32m--> 494\u001b[0m     response \u001b[38;5;241m=\u001b[39m \u001b[43membed_with_retry\u001b[49m\u001b[43m(\u001b[49m\n\u001b[1;32m    495\u001b[0m \u001b[43m        \u001b[49m\u001b[38;5;28;43mself\u001b[39;49m\u001b[43m,\u001b[49m\n\u001b[1;32m    496\u001b[0m \u001b[43m        \u001b[49m\u001b[38;5;28;43minput\u001b[39;49m\u001b[38;5;241;43m=\u001b[39;49m\u001b[43mtokens\u001b[49m\u001b[43m[\u001b[49m\u001b[43mi\u001b[49m\u001b[43m \u001b[49m\u001b[43m:\u001b[49m\u001b[43m \u001b[49m\u001b[43mi\u001b[49m\u001b[43m \u001b[49m\u001b[38;5;241;43m+\u001b[39;49m\u001b[43m \u001b[49m\u001b[43m_chunk_size\u001b[49m\u001b[43m]\u001b[49m\u001b[43m,\u001b[49m\n\u001b[1;32m    497\u001b[0m \u001b[43m        \u001b[49m\u001b[38;5;241;43m*\u001b[39;49m\u001b[38;5;241;43m*\u001b[39;49m\u001b[38;5;28;43mself\u001b[39;49m\u001b[38;5;241;43m.\u001b[39;49m\u001b[43m_invocation_params\u001b[49m\u001b[43m,\u001b[49m\n\u001b[1;32m    498\u001b[0m \u001b[43m    \u001b[49m\u001b[43m)\u001b[49m\n\u001b[1;32m    499\u001b[0m     \u001b[38;5;28;01mif\u001b[39;00m \u001b[38;5;129;01mnot\u001b[39;00m \u001b[38;5;28misinstance\u001b[39m(response, \u001b[38;5;28mdict\u001b[39m):\n\u001b[1;32m    500\u001b[0m         response \u001b[38;5;241m=\u001b[39m response\u001b[38;5;241m.\u001b[39mdict()\n",
      "File \u001b[0;32m~/Documents/GitHub/rag/.venv/lib/python3.11/site-packages/langchain_community/embeddings/openai.py:116\u001b[0m, in \u001b[0;36membed_with_retry\u001b[0;34m(embeddings, **kwargs)\u001b[0m\n\u001b[1;32m    114\u001b[0m \u001b[38;5;250m\u001b[39m\u001b[38;5;124;03m\"\"\"Use tenacity to retry the embedding call.\"\"\"\u001b[39;00m\n\u001b[1;32m    115\u001b[0m \u001b[38;5;28;01mif\u001b[39;00m is_openai_v1():\n\u001b[0;32m--> 116\u001b[0m     \u001b[38;5;28;01mreturn\u001b[39;00m \u001b[43membeddings\u001b[49m\u001b[38;5;241;43m.\u001b[39;49m\u001b[43mclient\u001b[49m\u001b[38;5;241;43m.\u001b[39;49m\u001b[43mcreate\u001b[49m\u001b[43m(\u001b[49m\u001b[38;5;241;43m*\u001b[39;49m\u001b[38;5;241;43m*\u001b[39;49m\u001b[43mkwargs\u001b[49m\u001b[43m)\u001b[49m\n\u001b[1;32m    117\u001b[0m retry_decorator \u001b[38;5;241m=\u001b[39m _create_retry_decorator(embeddings)\n\u001b[1;32m    119\u001b[0m \u001b[38;5;129m@retry_decorator\u001b[39m\n\u001b[1;32m    120\u001b[0m \u001b[38;5;28;01mdef\u001b[39;00m \u001b[38;5;21m_embed_with_retry\u001b[39m(\u001b[38;5;241m*\u001b[39m\u001b[38;5;241m*\u001b[39mkwargs: Any) \u001b[38;5;241m-\u001b[39m\u001b[38;5;241m>\u001b[39m Any:\n",
      "File \u001b[0;32m~/Documents/GitHub/rag/.venv/lib/python3.11/site-packages/openai/resources/embeddings.py:114\u001b[0m, in \u001b[0;36mEmbeddings.create\u001b[0;34m(self, input, model, dimensions, encoding_format, user, extra_headers, extra_query, extra_body, timeout)\u001b[0m\n\u001b[1;32m    108\u001b[0m         embedding\u001b[38;5;241m.\u001b[39membedding \u001b[38;5;241m=\u001b[39m np\u001b[38;5;241m.\u001b[39mfrombuffer(  \u001b[38;5;66;03m# type: ignore[no-untyped-call]\u001b[39;00m\n\u001b[1;32m    109\u001b[0m             base64\u001b[38;5;241m.\u001b[39mb64decode(data), dtype\u001b[38;5;241m=\u001b[39m\u001b[38;5;124m\"\u001b[39m\u001b[38;5;124mfloat32\u001b[39m\u001b[38;5;124m\"\u001b[39m\n\u001b[1;32m    110\u001b[0m         )\u001b[38;5;241m.\u001b[39mtolist()\n\u001b[1;32m    112\u001b[0m     \u001b[38;5;28;01mreturn\u001b[39;00m obj\n\u001b[0;32m--> 114\u001b[0m \u001b[38;5;28;01mreturn\u001b[39;00m \u001b[38;5;28;43mself\u001b[39;49m\u001b[38;5;241;43m.\u001b[39;49m\u001b[43m_post\u001b[49m\u001b[43m(\u001b[49m\n\u001b[1;32m    115\u001b[0m \u001b[43m    \u001b[49m\u001b[38;5;124;43m\"\u001b[39;49m\u001b[38;5;124;43m/embeddings\u001b[39;49m\u001b[38;5;124;43m\"\u001b[39;49m\u001b[43m,\u001b[49m\n\u001b[1;32m    116\u001b[0m \u001b[43m    \u001b[49m\u001b[43mbody\u001b[49m\u001b[38;5;241;43m=\u001b[39;49m\u001b[43mmaybe_transform\u001b[49m\u001b[43m(\u001b[49m\u001b[43mparams\u001b[49m\u001b[43m,\u001b[49m\u001b[43m \u001b[49m\u001b[43membedding_create_params\u001b[49m\u001b[38;5;241;43m.\u001b[39;49m\u001b[43mEmbeddingCreateParams\u001b[49m\u001b[43m)\u001b[49m\u001b[43m,\u001b[49m\n\u001b[1;32m    117\u001b[0m \u001b[43m    \u001b[49m\u001b[43moptions\u001b[49m\u001b[38;5;241;43m=\u001b[39;49m\u001b[43mmake_request_options\u001b[49m\u001b[43m(\u001b[49m\n\u001b[1;32m    118\u001b[0m \u001b[43m        \u001b[49m\u001b[43mextra_headers\u001b[49m\u001b[38;5;241;43m=\u001b[39;49m\u001b[43mextra_headers\u001b[49m\u001b[43m,\u001b[49m\n\u001b[1;32m    119\u001b[0m \u001b[43m        \u001b[49m\u001b[43mextra_query\u001b[49m\u001b[38;5;241;43m=\u001b[39;49m\u001b[43mextra_query\u001b[49m\u001b[43m,\u001b[49m\n\u001b[1;32m    120\u001b[0m \u001b[43m        \u001b[49m\u001b[43mextra_body\u001b[49m\u001b[38;5;241;43m=\u001b[39;49m\u001b[43mextra_body\u001b[49m\u001b[43m,\u001b[49m\n\u001b[1;32m    121\u001b[0m \u001b[43m        \u001b[49m\u001b[43mtimeout\u001b[49m\u001b[38;5;241;43m=\u001b[39;49m\u001b[43mtimeout\u001b[49m\u001b[43m,\u001b[49m\n\u001b[1;32m    122\u001b[0m \u001b[43m        \u001b[49m\u001b[43mpost_parser\u001b[49m\u001b[38;5;241;43m=\u001b[39;49m\u001b[43mparser\u001b[49m\u001b[43m,\u001b[49m\n\u001b[1;32m    123\u001b[0m \u001b[43m    \u001b[49m\u001b[43m)\u001b[49m\u001b[43m,\u001b[49m\n\u001b[1;32m    124\u001b[0m \u001b[43m    \u001b[49m\u001b[43mcast_to\u001b[49m\u001b[38;5;241;43m=\u001b[39;49m\u001b[43mCreateEmbeddingResponse\u001b[49m\u001b[43m,\u001b[49m\n\u001b[1;32m    125\u001b[0m \u001b[43m\u001b[49m\u001b[43m)\u001b[49m\n",
      "File \u001b[0;32m~/Documents/GitHub/rag/.venv/lib/python3.11/site-packages/openai/_base_client.py:1240\u001b[0m, in \u001b[0;36mSyncAPIClient.post\u001b[0;34m(self, path, cast_to, body, options, files, stream, stream_cls)\u001b[0m\n\u001b[1;32m   1226\u001b[0m \u001b[38;5;28;01mdef\u001b[39;00m \u001b[38;5;21mpost\u001b[39m(\n\u001b[1;32m   1227\u001b[0m     \u001b[38;5;28mself\u001b[39m,\n\u001b[1;32m   1228\u001b[0m     path: \u001b[38;5;28mstr\u001b[39m,\n\u001b[0;32m   (...)\u001b[0m\n\u001b[1;32m   1235\u001b[0m     stream_cls: \u001b[38;5;28mtype\u001b[39m[_StreamT] \u001b[38;5;241m|\u001b[39m \u001b[38;5;28;01mNone\u001b[39;00m \u001b[38;5;241m=\u001b[39m \u001b[38;5;28;01mNone\u001b[39;00m,\n\u001b[1;32m   1236\u001b[0m ) \u001b[38;5;241m-\u001b[39m\u001b[38;5;241m>\u001b[39m ResponseT \u001b[38;5;241m|\u001b[39m _StreamT:\n\u001b[1;32m   1237\u001b[0m     opts \u001b[38;5;241m=\u001b[39m FinalRequestOptions\u001b[38;5;241m.\u001b[39mconstruct(\n\u001b[1;32m   1238\u001b[0m         method\u001b[38;5;241m=\u001b[39m\u001b[38;5;124m\"\u001b[39m\u001b[38;5;124mpost\u001b[39m\u001b[38;5;124m\"\u001b[39m, url\u001b[38;5;241m=\u001b[39mpath, json_data\u001b[38;5;241m=\u001b[39mbody, files\u001b[38;5;241m=\u001b[39mto_httpx_files(files), \u001b[38;5;241m*\u001b[39m\u001b[38;5;241m*\u001b[39moptions\n\u001b[1;32m   1239\u001b[0m     )\n\u001b[0;32m-> 1240\u001b[0m     \u001b[38;5;28;01mreturn\u001b[39;00m cast(ResponseT, \u001b[38;5;28;43mself\u001b[39;49m\u001b[38;5;241;43m.\u001b[39;49m\u001b[43mrequest\u001b[49m\u001b[43m(\u001b[49m\u001b[43mcast_to\u001b[49m\u001b[43m,\u001b[49m\u001b[43m \u001b[49m\u001b[43mopts\u001b[49m\u001b[43m,\u001b[49m\u001b[43m \u001b[49m\u001b[43mstream\u001b[49m\u001b[38;5;241;43m=\u001b[39;49m\u001b[43mstream\u001b[49m\u001b[43m,\u001b[49m\u001b[43m \u001b[49m\u001b[43mstream_cls\u001b[49m\u001b[38;5;241;43m=\u001b[39;49m\u001b[43mstream_cls\u001b[49m\u001b[43m)\u001b[49m)\n",
      "File \u001b[0;32m~/Documents/GitHub/rag/.venv/lib/python3.11/site-packages/openai/_base_client.py:921\u001b[0m, in \u001b[0;36mSyncAPIClient.request\u001b[0;34m(self, cast_to, options, remaining_retries, stream, stream_cls)\u001b[0m\n\u001b[1;32m    912\u001b[0m \u001b[38;5;28;01mdef\u001b[39;00m \u001b[38;5;21mrequest\u001b[39m(\n\u001b[1;32m    913\u001b[0m     \u001b[38;5;28mself\u001b[39m,\n\u001b[1;32m    914\u001b[0m     cast_to: Type[ResponseT],\n\u001b[0;32m   (...)\u001b[0m\n\u001b[1;32m    919\u001b[0m     stream_cls: \u001b[38;5;28mtype\u001b[39m[_StreamT] \u001b[38;5;241m|\u001b[39m \u001b[38;5;28;01mNone\u001b[39;00m \u001b[38;5;241m=\u001b[39m \u001b[38;5;28;01mNone\u001b[39;00m,\n\u001b[1;32m    920\u001b[0m ) \u001b[38;5;241m-\u001b[39m\u001b[38;5;241m>\u001b[39m ResponseT \u001b[38;5;241m|\u001b[39m _StreamT:\n\u001b[0;32m--> 921\u001b[0m     \u001b[38;5;28;01mreturn\u001b[39;00m \u001b[38;5;28;43mself\u001b[39;49m\u001b[38;5;241;43m.\u001b[39;49m\u001b[43m_request\u001b[49m\u001b[43m(\u001b[49m\n\u001b[1;32m    922\u001b[0m \u001b[43m        \u001b[49m\u001b[43mcast_to\u001b[49m\u001b[38;5;241;43m=\u001b[39;49m\u001b[43mcast_to\u001b[49m\u001b[43m,\u001b[49m\n\u001b[1;32m    923\u001b[0m \u001b[43m        \u001b[49m\u001b[43moptions\u001b[49m\u001b[38;5;241;43m=\u001b[39;49m\u001b[43moptions\u001b[49m\u001b[43m,\u001b[49m\n\u001b[1;32m    924\u001b[0m \u001b[43m        \u001b[49m\u001b[43mstream\u001b[49m\u001b[38;5;241;43m=\u001b[39;49m\u001b[43mstream\u001b[49m\u001b[43m,\u001b[49m\n\u001b[1;32m    925\u001b[0m \u001b[43m        \u001b[49m\u001b[43mstream_cls\u001b[49m\u001b[38;5;241;43m=\u001b[39;49m\u001b[43mstream_cls\u001b[49m\u001b[43m,\u001b[49m\n\u001b[1;32m    926\u001b[0m \u001b[43m        \u001b[49m\u001b[43mremaining_retries\u001b[49m\u001b[38;5;241;43m=\u001b[39;49m\u001b[43mremaining_retries\u001b[49m\u001b[43m,\u001b[49m\n\u001b[1;32m    927\u001b[0m \u001b[43m    \u001b[49m\u001b[43m)\u001b[49m\n",
      "File \u001b[0;32m~/Documents/GitHub/rag/.venv/lib/python3.11/site-packages/openai/_base_client.py:1020\u001b[0m, in \u001b[0;36mSyncAPIClient._request\u001b[0;34m(self, cast_to, options, remaining_retries, stream, stream_cls)\u001b[0m\n\u001b[1;32m   1017\u001b[0m         err\u001b[38;5;241m.\u001b[39mresponse\u001b[38;5;241m.\u001b[39mread()\n\u001b[1;32m   1019\u001b[0m     log\u001b[38;5;241m.\u001b[39mdebug(\u001b[38;5;124m\"\u001b[39m\u001b[38;5;124mRe-raising status error\u001b[39m\u001b[38;5;124m\"\u001b[39m)\n\u001b[0;32m-> 1020\u001b[0m     \u001b[38;5;28;01mraise\u001b[39;00m \u001b[38;5;28mself\u001b[39m\u001b[38;5;241m.\u001b[39m_make_status_error_from_response(err\u001b[38;5;241m.\u001b[39mresponse) \u001b[38;5;28;01mfrom\u001b[39;00m \u001b[38;5;28;01mNone\u001b[39;00m\n\u001b[1;32m   1022\u001b[0m \u001b[38;5;28;01mreturn\u001b[39;00m \u001b[38;5;28mself\u001b[39m\u001b[38;5;241m.\u001b[39m_process_response(\n\u001b[1;32m   1023\u001b[0m     cast_to\u001b[38;5;241m=\u001b[39mcast_to,\n\u001b[1;32m   1024\u001b[0m     options\u001b[38;5;241m=\u001b[39moptions,\n\u001b[0;32m   (...)\u001b[0m\n\u001b[1;32m   1027\u001b[0m     stream_cls\u001b[38;5;241m=\u001b[39mstream_cls,\n\u001b[1;32m   1028\u001b[0m )\n",
      "\u001b[0;31mAuthenticationError\u001b[0m: Error code: 401 - {'error': {'message': 'Incorrect API key provided: sk-proj-********************************************KD0r. You can find your API key at https://platform.openai.com/account/api-keys.', 'type': 'invalid_request_error', 'param': None, 'code': 'invalid_api_key'}}"
     ]
    }
   ],
   "source": [
    "query = \"사물주소와 관련된 체계가 존재하는가?\"\n",
    "results = multi_retriever.retrieve(query)\n",
    "top_results = results[:5]  # 상위 5개 결과 선택\n",
    "\n",
    "# 최종 결과 출력\n",
    "# for doc, score in top_results:\n",
    "#     print(f\"Document: {doc.page_content}, Score: {score}\")\n",
    "top_results"
   ]
  },
  {
   "cell_type": "code",
   "execution_count": 57,
   "metadata": {},
   "outputs": [
    {
     "data": {
      "text/plain": [
       "[(Document(metadata={'source': 'data/final/김지영-사물주소 부여 체계 분석 및 정책제언-2023.txt'}, page_content='2. 사물주소 부여 체계 분석\\n사물주소(address of things, AOT)와 관련된 체계가 정리된 자료가 없어 「도로명주소법」 등 관련 법령을 바탕으로 데이터 관점에서 그 체계를 분석하고자 한다. 이를 위해서 ISO 19160-1에 제시되어 있는 주소 개념 모델에서 주소와 연관이나 집합관계에 있는 클래스 (class)를 중심으로 분석하였다(Table 1). 주소(address) 는 하나 이상의 주소 구성요소(AddressComponent)와 집합관계이다. 주소 구성요소 값은 라벨(label)로 주소를 구성하는 객체를 문자로 표현한 것을 의미한다. 즉 도로를 도로명이라는 문자로 표현한 것이다. 또한 주소는 건물등과 같이 주소가 할당되는 객체를 의미하는 주소 부여 대상(AddressableObject)과 상호 연관되어 있으며, 동일한 주소 부여 대상을 명확하게 식별하기 위하여 주소 별칭(AddressAlias)과 연관되어 있다(Kim and Yang, 2020).'),\n",
       "  0.7974888682365417),\n",
       " (Document(metadata={'source': 'data/final/ISO 19160-1-2015 개념모델에 대한 분석과 이해.txt'}, page_content='한국의 주소체계는 2014년에 지번주소에서 도로명주소로 전면 개편되었고, 이후 도로명주소, 사물주소, 공간주소 등 다양한 유형이 새롭게 개발되며 주소의 부여 범위를 건축물을 넘어 사물, 해안·해양으로 점차 확대하고 있다[7]. 한국의 주소는 도로명주소법을 법률적 근거로 국가주소정보시스템을 통해 관리되고, 주소정보누리집(도로명주소 안내시스템)과 주소기반산업지원서비스를 통해 공공·민간에서 주소를 활용 하고 있다. 행정안전부는 제1차 주소정보 활용 기본계획 (2022~2026)을 시행하며 주소를 ‘현실과 가상세계를 연결하는 매개체’로 정의하고 주소의 데이터 가치를 확대하고 있다. 데이터 관점에서 주소는 행정구역, 도로, 공간과 같은 다양한 구성요소의 결합된 특성을 갖고 동시에 서로 다른 도메인의 상세정보에 대한 참조기능을 갖는다. 이런 맥락에서 주소가 다양한 데이터와 연계 또는 통합되려면 데이터 표준에 대한 고려가 반드시 필요하다. 그러나, 한국 주소체계의 표준에 대한 논의는 위치,'),\n",
       "  0.8069764375686646),\n",
       " (Document(metadata={'row': 228, 'source': 'data/csv/주소용어최종정리_1123 - 업데이트_231123.csv'}, page_content='번호: 50\\n필수여부: 필수\\n준용여부: 준용\\n용어명: 사물주소\\n정의: 도로명과 기초번호를 활용하여 건물등에 해당하지 아니하는 시설물의 위치를 특정하는 정보\\n선정근거_출처: 도로명주소법\\n선정근거_세부내용: 2조\\n주소지식모델 포함여부: 포함\\n주소지식모델정의: 주소정보의 하위 개념으로 다중이 이용하는 시설물로 행정안전부장관이 고시한 시설물에 대하여 도로명과 건물번호, 사물번호와 사물유형으로 표현하는 주소정보\\n유사용어:'),\n",
       "  0.8882288932800293),\n",
       " (Document(metadata={'row': 230, 'source': 'data/csv/주소용어최종정리_1123 - 업데이트_231123.csv'}, page_content='번호: 171\\n필수여부: 필수\\n준용여부: 미준용\\n용어명: 사물주소(건물밖)참조체계\\n정의: 도로명방식을 참조하는 건물 밖 사물주소 참조체계를 말함\\n선정근거_출처: 주소정보기본도 작성·관리 규정\\n선정근거_세부내용: \\n주소지식모델 포함여부: 포함\\n주소지식모델정의: 주소참조체계의 하위 유형으로, 건물 외부에 존재하는 사물의 주소를 부여할 때 사용되는 참조체계\\n유사용어:'),\n",
       "  0.9153549671173096)]"
      ]
     },
     "execution_count": 57,
     "metadata": {},
     "output_type": "execute_result"
    }
   ],
   "source": [
    "documents = [(doc, score) for doc, score in top_results]\n",
    "documents"
   ]
  },
  {
   "cell_type": "code",
   "execution_count": 58,
   "metadata": {},
   "outputs": [
    {
     "data": {
      "text/plain": [
       "(Document(metadata={'source': 'data/final/김지영-사물주소 부여 체계 분석 및 정책제언-2023.txt'}, page_content='2. 사물주소 부여 체계 분석\\n사물주소(address of things, AOT)와 관련된 체계가 정리된 자료가 없어 「도로명주소법」 등 관련 법령을 바탕으로 데이터 관점에서 그 체계를 분석하고자 한다. 이를 위해서 ISO 19160-1에 제시되어 있는 주소 개념 모델에서 주소와 연관이나 집합관계에 있는 클래스 (class)를 중심으로 분석하였다(Table 1). 주소(address) 는 하나 이상의 주소 구성요소(AddressComponent)와 집합관계이다. 주소 구성요소 값은 라벨(label)로 주소를 구성하는 객체를 문자로 표현한 것을 의미한다. 즉 도로를 도로명이라는 문자로 표현한 것이다. 또한 주소는 건물등과 같이 주소가 할당되는 객체를 의미하는 주소 부여 대상(AddressableObject)과 상호 연관되어 있으며, 동일한 주소 부여 대상을 명확하게 식별하기 위하여 주소 별칭(AddressAlias)과 연관되어 있다(Kim and Yang, 2020).'),\n",
       " 0.7974888682365417)"
      ]
     },
     "execution_count": 58,
     "metadata": {},
     "output_type": "execute_result"
    }
   ],
   "source": [
    "documents[0]"
   ]
  },
  {
   "cell_type": "code",
   "execution_count": 50,
   "metadata": {},
   "outputs": [
    {
     "data": {
      "text/plain": [
       "[Document(metadata={'source': 'data/final/김지영-사물주소 부여 체계 분석 및 정책제언-2023.txt'}, page_content='2. 사물주소 부여 체계 분석\\n사물주소(address of things, AOT)와 관련된 체계가 정리된 자료가 없어 「도로명주소법」 등 관련 법령을 바탕으로 데이터 관점에서 그 체계를 분석하고자 한다. 이를 위해서 ISO 19160-1에 제시되어 있는 주소 개념 모델에서 주소와 연관이나 집합관계에 있는 클래스 (class)를 중심으로 분석하였다(Table 1). 주소(address) 는 하나 이상의 주소 구성요소(AddressComponent)와 집합관계이다. 주소 구성요소 값은 라벨(label)로 주소를 구성하는 객체를 문자로 표현한 것을 의미한다. 즉 도로를 도로명이라는 문자로 표현한 것이다. 또한 주소는 건물등과 같이 주소가 할당되는 객체를 의미하는 주소 부여 대상(AddressableObject)과 상호 연관되어 있으며, 동일한 주소 부여 대상을 명확하게 식별하기 위하여 주소 별칭(AddressAlias)과 연관되어 있다(Kim and Yang, 2020).'),\n",
       " Document(metadata={'source': 'data/final/ISO 19160-1-2015 개념모델에 대한 분석과 이해.txt'}, page_content='한국의 주소체계는 2014년에 지번주소에서 도로명주소로 전면 개편되었고, 이후 도로명주소, 사물주소, 공간주소 등 다양한 유형이 새롭게 개발되며 주소의 부여 범위를 건축물을 넘어 사물, 해안·해양으로 점차 확대하고 있다[7]. 한국의 주소는 도로명주소법을 법률적 근거로 국가주소정보시스템을 통해 관리되고, 주소정보누리집(도로명주소 안내시스템)과 주소기반산업지원서비스를 통해 공공·민간에서 주소를 활용 하고 있다. 행정안전부는 제1차 주소정보 활용 기본계획 (2022~2026)을 시행하며 주소를 ‘현실과 가상세계를 연결하는 매개체’로 정의하고 주소의 데이터 가치를 확대하고 있다. 데이터 관점에서 주소는 행정구역, 도로, 공간과 같은 다양한 구성요소의 결합된 특성을 갖고 동시에 서로 다른 도메인의 상세정보에 대한 참조기능을 갖는다. 이런 맥락에서 주소가 다양한 데이터와 연계 또는 통합되려면 데이터 표준에 대한 고려가 반드시 필요하다. 그러나, 한국 주소체계의 표준에 대한 논의는 위치,'),\n",
       " Document(metadata={'row': 228, 'source': 'data/csv/주소용어최종정리_1123 - 업데이트_231123.csv'}, page_content='번호: 50\\n필수여부: 필수\\n준용여부: 준용\\n용어명: 사물주소\\n정의: 도로명과 기초번호를 활용하여 건물등에 해당하지 아니하는 시설물의 위치를 특정하는 정보\\n선정근거_출처: 도로명주소법\\n선정근거_세부내용: 2조\\n주소지식모델 포함여부: 포함\\n주소지식모델정의: 주소정보의 하위 개념으로 다중이 이용하는 시설물로 행정안전부장관이 고시한 시설물에 대하여 도로명과 건물번호, 사물번호와 사물유형으로 표현하는 주소정보\\n유사용어:'),\n",
       " Document(metadata={'row': 230, 'source': 'data/csv/주소용어최종정리_1123 - 업데이트_231123.csv'}, page_content='번호: 171\\n필수여부: 필수\\n준용여부: 미준용\\n용어명: 사물주소(건물밖)참조체계\\n정의: 도로명방식을 참조하는 건물 밖 사물주소 참조체계를 말함\\n선정근거_출처: 주소정보기본도 작성·관리 규정\\n선정근거_세부내용: \\n주소지식모델 포함여부: 포함\\n주소지식모델정의: 주소참조체계의 하위 유형으로, 건물 외부에 존재하는 사물의 주소를 부여할 때 사용되는 참조체계\\n유사용어:')]"
      ]
     },
     "execution_count": 50,
     "metadata": {},
     "output_type": "execute_result"
    }
   ],
   "source": [
    "query = \"사물주소와 관련된 체계가 존재하는가?\"\n",
    "results = multi_retriever.retrieve(query)\n",
    "top_results = results[:5]  # 상위 5개 결과 선택\n",
    "\n",
    "# 최종 결과 출력\n",
    "# for doc, score in top_results:\n",
    "#     print(f\"Document: {doc.page_content}, Score: {score}\")\n",
    "top_results"
   ]
  },
  {
   "cell_type": "code",
   "execution_count": 24,
   "metadata": {},
   "outputs": [
    {
     "data": {
      "text/plain": [
       "[Document(metadata={'row': 11, 'source': 'data/csv/주소용어최종정리_1123 - 업데이트_231123.csv'}, page_content='번호: 255\\n필수여부: 선택\\n준용여부: 미준용\\n용어명: 가상도로구간\\n정의: 개설이 예상되는 도로에 대한 도로구간\\n선정근거_출처: 주소정보기본도 작성·관리 규정\\n선정근거_세부내용: 11조\\n주소지식모델 포함여부: 미포함\\n주소지식모델정의: \\n유사용어:'),\n",
       " Document(metadata={'author': '', 'creationDate': \"D:20240611110832Z00'00'\", 'creator': '', 'file_path': 'data/final/[1018] 주소정보_업무편람_최종(하이퍼링크).pdf', 'format': 'PDF 1.4', 'keywords': '', 'modDate': \"D:20240611110832Z00'00'\", 'page': 285, 'producer': 'macOS Version 14.5 (Build 23F79) Quartz PDFContext', 'source': 'data/final/[1018] 주소정보_업무편람_최종(하이퍼링크).pdf', 'subject': '', 'title': '', 'total_pages': 525, 'trapped': ''}, page_content='■  ■  ■\\n주소정보 업무편람\\n292\\n가상도로구간\\n5) \\n가상도로구간은 두 개 이상의 지상도로를 연결하는 도로의 개설이 예상되어 하\\n○ \\n나의 도로구간으로 설정한 경우 도로의 개설이 예상되는 범위를 선형으로 작성\\n가상기초간격\\n6) \\n가상기초간격은 가상도로구간을 대상으로 도로구간의 기초간격 작성 방법에 \\n○ \\n따라 작성\\n그림 \\n가상도로구간과 가상기초간격\\n[\\n4-11] \\n연결선\\n7) \\n가\\n일반원칙\\n) \\n도로구간은 다음과 같이 분류하여 서로 연결되도록 선형으로 작성\\n○ \\n기초간격과 건물등 또는 건물군의 출입구\\n- \\n기초간격과 사물의 사물번호기준점\\n- \\n실내 이동경로 기초간격과 층호의 출입구\\n- \\n·\\n실내 이동경로 기초간격과 사물의 사물번호기준점\\n- \\n단지내 도로와 동 출입구\\n- \\n나\\n세부방법\\n) \\n연결 대상 간에는 통행을 고려하여 최단거리로 작성\\n○')]"
      ]
     },
     "execution_count": 24,
     "metadata": {},
     "output_type": "execute_result"
    }
   ],
   "source": [
    "query = \"가상도로구간이 무슨 의미야?\"\n",
    "results = multi_retriever.retrieve(query)\n",
    "top_results = results[:5]  # 상위 5개 결과 선택\n",
    "top_results"
   ]
  },
  {
   "cell_type": "code",
   "execution_count": 25,
   "metadata": {},
   "outputs": [
    {
     "data": {
      "text/plain": [
       "[Document(metadata={'row': 496, 'source': 'data/csv/주소용어최종정리_1123 - 업데이트_231123.csv'}, page_content='번호: 246\\n필수여부: 필수\\n준용여부: 미준용\\n용어명: 행정구역\\n정의: 법률에 정해진 지방자치단체의 구역(법정구역)이나 조례로 정해진 자치구가 아닌 구와 읍ㆍ면ㆍ동 등의 구역\\n선정근거_출처: 지방자치법\\n선정근거_세부내용: 5조\\n주소지식모델 포함여부: 포함\\n주소지식모델정의: 법률에 정해진 지방자치단체의 구역(법정구역)이나 조례로 정해진 자치구가 아닌 구와 읍ㆍ면ㆍ동 등의 구역\\n유사용어:'),\n",
       " Document(metadata={'author': '', 'creationDate': \"D:20240611110832Z00'00'\", 'creator': '', 'file_path': 'data/final/[1018] 주소정보_업무편람_최종(하이퍼링크).pdf', 'format': 'PDF 1.4', 'keywords': '', 'modDate': \"D:20240611110832Z00'00'\", 'page': 31, 'producer': 'macOS Version 14.5 (Build 23F79) Quartz PDFContext', 'source': 'data/final/[1018] 주소정보_업무편람_최종(하이퍼링크).pdf', 'subject': '', 'title': '', 'total_pages': 525, 'trapped': ''}, page_content='·\\n·\\n·\\n. \\n, \\n○ \\n법에 따라 부여된 사업지역의 명칭을 말함\\n5) 건물등 관할구역\\n시도시군자치구행정구읍면의 행정구역을 말함단행정구역 미결정 지역\\n·\\n, \\n·\\n·\\n, \\n·\\n·\\n. \\n, \\n○ \\n에서는 이 법에 따라 부여된 사업지역의 명칭을 말함\\n6) 공공기관의 장\\n국가기관\\n지방자치단체\\n, \\n○ \\n공공기관의 운영에 관한 법률에 따른 공공기관\\n○ 「\\n」')]"
      ]
     },
     "execution_count": 25,
     "metadata": {},
     "output_type": "execute_result"
    }
   ],
   "source": [
    "query = \"행정구역을 법률로 정한걸 뭐라고 해?\"\n",
    "results = multi_retriever.retrieve(query)\n",
    "top_results = results[:5]  # 상위 5개 결과 선택\n",
    "top_results"
   ]
  },
  {
   "cell_type": "code",
   "execution_count": 26,
   "metadata": {},
   "outputs": [
    {
     "data": {
      "text/plain": [
       "[Document(metadata={'source': 'data/final/chapter-3-3.md'}, page_content='도로명은 시군구코드와 도로명번호를 PK로 사용한다. 도로명번호 7자리는 지자체마다 관리하는 코드로, 고유하지 않다. 따라서, 시군구코드와 도로명번호를 조합한 코드(도로명코드)를 통해 도로명을 식별한다. 하지만, 데이터에 따라 도로명번호(7자리)와 도로명코드(12자리)의 용어가 혼용되므로 자릿수에 주의해야 한다.\\n\\n도로명 데이터에서 사용하는 읍면동일련번호는 하나의 도로가 지나는 읍면동을 구분하기 위해 임의로 부여한 일련번호다. 도로명 데이터에서만 사용되며 읍면동코드와 다른 의미다.\\n\\n도로명 (전체분) 예시'),\n",
       " Document(metadata={'row': 133, 'source': 'data/csv/주소용어최종정리_1123 - 업데이트_231123.csv'}, page_content='번호: 33\\n필수여부: 필수\\n준용여부: 준용\\n용어명: 도로명\\n정의: 도로구간마다 부여된 이름\\n선정근거_출처: 도로명주소법\\n선정근거_세부내용: 2조\\n주소지식모델 포함여부: 포함\\n주소지식모델정의: 도로참조체계를 따르는 도로명주소(동)의 주소구성요소 중의 하나로 도로구간마다 부여된 이름\\n유사용어:')]"
      ]
     },
     "execution_count": 26,
     "metadata": {},
     "output_type": "execute_result"
    }
   ],
   "source": [
    "query = \"도로명을 구분하는 코드가 존재하는가?\"\n",
    "results = multi_retriever.retrieve(query)\n",
    "top_results = results[:5]  # 상위 5개 결과 선택\n",
    "top_results"
   ]
  },
  {
   "cell_type": "code",
   "execution_count": 27,
   "metadata": {},
   "outputs": [
    {
     "data": {
      "text/plain": [
       "[Document(metadata={'row': 30, 'source': 'data/final/김지영-사물주소 부여 체계 분석 및 정책제언-2023.txt'}, page_content='사물주소 부여 체계 분석 및 정책제언: 2.1.3 AddressAlias'),\n",
       " Document(metadata={'row': 145, 'source': 'data/csv/주소용어최종정리_1123 - 업데이트_231123.csv'}, page_content='번호: 307\\n필수여부: 선택\\n준용여부: 미준용\\n용어명: 도로명주소전환\\n정의: 지번과 같이 도로명이 아닌 식별자체계를 도로명주소체계로 전환하는 것\\n선정근거_출처: 주소정보 전산체계 운영규정\\n선정근거_세부내용: 10조\\n주소지식모델 포함여부: 미포함\\n주소지식모델정의: \\n유사용어:')]"
      ]
     },
     "execution_count": 27,
     "metadata": {},
     "output_type": "execute_result"
    }
   ],
   "source": [
    "query = \"AddressAlias는 언제 사용하는지?\"\n",
    "results = multi_retriever.retrieve(query)\n",
    "top_results = results[:5]  # 상위 5개 결과 선택\n",
    "top_results"
   ]
  },
  {
   "cell_type": "code",
   "execution_count": 95,
   "metadata": {},
   "outputs": [
    {
     "data": {
      "text/plain": [
       "[(Document(metadata={'source': 'data/final/도로명주소법.txt'}, page_content='도로명주소법\\n[시행 2021. 6. 9.] [법률 제17574호, 2020. 12. 8., 전부개정]\\n행정안전부(주소생활공간과) 044-205-3567\\n\\n제1조(목적) 이 법은 도로명주소, 국가기초구역, 국가지점번호 및 사물주소의 표기ㆍ사용ㆍ관리ㆍ활용 등에 관한 사항을 규정함으로써 국민의 생활안전과 편의를 도모하고 관련 산업의 지원을 통하여 국가경쟁력 강화에 이바지함을 목적으로 한다.'),\n",
       "  0.9909842610359192),\n",
       " (Document(metadata={'source': 'data/final/도로명주소법.txt'}, page_content='도로명주소법\\n[시행 2021. 6. 9.] [법률 제17574호, 2020. 12. 8., 전부개정]\\n행정안전부(주소생활공간과) 044-205-3567\\n\\n제1조(목적) 이 법은 도로명주소, 국가기초구역, 국가지점번호 및 사물주소의 표기ㆍ사용ㆍ관리ㆍ활용 등에 관한 사항을 규정함으로써 국민의 생활안전과 편의를 도모하고 관련 산업의 지원을 통하여 국가경쟁력 강화에 이바지함을 목적으로 한다.'),\n",
       "  0.9928990602493286),\n",
       " (Document(metadata={'row': 395, 'source': 'data/csv/주소용어최종정리_1123 - 업데이트_231123.csv'}, page_content='번호: 77\\n필수여부: 필수\\n준용여부: 준용\\n용어명: 주소정책\\n정의: 국민의 생활안전과 편의를 도모하고 관련 산업의 지원을 통하여 국가경쟁력 강화에 이바지하기 위한 도로명주소의 목적을 실현하기 위한 방책들\\n선정근거_출처: 도로명주소법\\n선정근거_세부내용: 1조\\n주소지식모델 포함여부: 미포함\\n주소지식모델정의: \\n유사용어:'),\n",
       "  1.030405879020691),\n",
       " (Document(metadata={'row': 57, 'source': 'data/csv/주소용어최종정리_1123 - 업데이트_231123.csv'}, page_content='번호: 9\\n필수여부: 필수\\n준용여부: 준용\\n용어명: 공보등\\n정의: 주소정보에 관한 사항을 알리는 홈페이지 또는 그 밖의 전달매체\\n선정근거_출처: 도로명주소법 시행령\\n선정근거_세부내용: 10조\\n주소지식모델 포함여부: 미포함\\n주소지식모델정의: \\n유사용어:'),\n",
       "  1.102662205696106)]"
      ]
     },
     "execution_count": 95,
     "metadata": {},
     "output_type": "execute_result"
    }
   ],
   "source": [
    "query = \"도로명주소의 시행 목적이 뭐야?\"\n",
    "results = multi_retriever.retrieve(query)\n",
    "top_results = results[:5]  # 상위 5개 결과 선택\n",
    "top_results"
   ]
  },
  {
   "cell_type": "markdown",
   "metadata": {},
   "source": [
    "### GraphState"
   ]
  },
  {
   "cell_type": "code",
   "execution_count": 60,
   "metadata": {},
   "outputs": [],
   "source": [
    "from typing import TypedDict\n",
    "\n",
    "\n",
    "# GraphState 상태를 저장하는 용도로 사용합니다.\n",
    "class GraphState(TypedDict):\n",
    "    question: str  # 질문\n",
    "    context: str  # 문서의 검색 결과\n",
    "    answer: str  # llm이 생성한 답변\n",
    "    relevance: str  # 답변의 문서에 대한 관련성 (groundness check)"
   ]
  },
  {
   "cell_type": "markdown",
   "metadata": {},
   "source": [
    "### [NODE] Vector Retriever"
   ]
  },
  {
   "cell_type": "code",
   "execution_count": 68,
   "metadata": {},
   "outputs": [],
   "source": [
    "# 문서에서 검색하여 관련성 있는 문서를 찾습니다.\n",
    "def retrieve_document(state: GraphState) -> GraphState:\n",
    "    # Question 에 대한 문서 검색을 retriever 로 수행합니다.\n",
    "    retrieved_docs = multi_retriever.retrieve(state[\"question\"])\n",
    "    # 검색된 문서를 context 키에 저장합니다.\n",
    "    return GraphState(context=retrieved_docs[:2])"
   ]
  },
  {
   "cell_type": "code",
   "execution_count": 47,
   "metadata": {},
   "outputs": [
    {
     "data": {
      "text/plain": [
       "[Document(metadata={'source': 'data/final/양성철-도로명주소의 주소정보기반대상 등록 제도 개선 연구.txt'}, page_content='2. 건물번호 부여 및 등록 기준 \\n2.1. 법령상 건물번호 부여 기준'),\n",
       " Document(metadata={'row': 23, 'source': 'data/csv/주소용어최종정리_1123 - 업데이트_231123.csv'}, page_content='번호: 5\\n필수여부: 필수\\n준용여부: 준용\\n용어명: 건물번호\\n정의: 도로구간의 기초번호를 기준으로 건물등과 건물군에 부여된 번호\\n선정근거_출처: 도로명주소법\\n선정근거_세부내용: 2조\\n주소지식모델 포함여부: 포함\\n주소지식모델정의: 실내경로참조체계를 따르는 사물주소(안) 참조체계의 주소구성요소 중의 하나로 도로구간의 기초번호를 기준으로 건물등과 건물군에 부여된 번호\\n유사용어:')]"
      ]
     },
     "execution_count": 47,
     "metadata": {},
     "output_type": "execute_result"
    }
   ],
   "source": [
    "multi_retriever.retrieve(\"건물번호는 어떤 규칙으로 부여돼?\")"
   ]
  },
  {
   "cell_type": "markdown",
   "metadata": {},
   "source": [
    "### [NODE] Groundness Checker\n",
    "\n",
    "* gpt4o\n",
    "* question과 retrieve한 context간을 비교"
   ]
  },
  {
   "cell_type": "code",
   "execution_count": 62,
   "metadata": {},
   "outputs": [],
   "source": [
    "# Chain을 사용하여 답변을 생성합니다.\n",
    "\n",
    "chat = ChatOpenAI(model=\"gpt-4o\", api_key=OPENAI_API_KEY)\n",
    "\n",
    "def relevance_message(context, question):\n",
    "    messages = [\n",
    "        SystemMessage(content=\"\"\"\n",
    "            너는 Query와 Document를 비교해서 ['grounded', 'notGrounded', 'notSure'] 셋 중 하나의 라벨을 출력하는 모델이야.\n",
    "\n",
    "            'grounded': Compare the Query and the Document. If the Document includes content that can be used to generate an answer to the Query, output the label 'grounded'.\n",
    "            'notGrounded': Compare the Query and the Document. If the Document not includes content that can be used to generate an answer to the Query, output the label 'notGrounded'.\n",
    "            'notSure': Compare the Query and the Document. If you cannot determine whether the Document includes content that can be used to generate an answer to the Query, output the label .notSure'.\n",
    "            \n",
    "            너의 출력은 반드시 'grounded', 'notGrounded', 'notSure' 중 하나여야 해. 띄어쓰기나 대소문자 구분 등 다른 형식이나 추가적인 설명 없이 오직 하나의 라벨만 출력해줘.\n",
    "        \"\"\"),\n",
    "        HumanMessage(content=f\"\"\"\n",
    "            [Document]\n",
    "            {context}\n",
    "\n",
    "            [Query]\n",
    "            {question}\n",
    "        \"\"\"),\n",
    "    ]\n",
    "    return messages\n",
    "\n",
    "def relevance_check(state: GraphState) -> GraphState:\n",
    "    messages = relevance_message(state[\"context\"], state[\"question\"])\n",
    "    response = chat.invoke(messages)\n",
    "    return GraphState(\n",
    "        relevance=response.content,\n",
    "        context=state[\"context\"],\n",
    "        answer=state[\"answer\"],\n",
    "        question=state[\"question\"],\n",
    "    )\n",
    "\n",
    "def is_relevant(state: GraphState) -> GraphState:\n",
    "    if state[\"relevance\"] == \"grounded\":\n",
    "        return \"관련성 O\"\n",
    "    elif state[\"relevance\"] == \"notGrounded\":\n",
    "        return \"관련성 X\"\n",
    "    elif state[\"relevance\"] == \"notSure\":\n",
    "        return \"확인불가\""
   ]
  },
  {
   "cell_type": "markdown",
   "metadata": {},
   "source": [
    "### [NODE] llm answer"
   ]
  },
  {
   "cell_type": "code",
   "execution_count": 93,
   "metadata": {},
   "outputs": [],
   "source": [
    "# Chain을 사용하여 답변을 생성합니다.\n",
    "\n",
    "chat = ChatOpenAI(model=\"gpt-4o\", api_key=OPENAI_API_KEY)\n",
    "\n",
    "def message(context, question):\n",
    "    messages = [\n",
    "        SystemMessage(content=\"\"\"\n",
    "            너는 Document의 정보를 반드시 활용해서 답변을 생성하는 챗봇이야. \n",
    "            이때, 답변은 Document에 정보가 있을 수도 있고, 없을 수도 있어. \n",
    "            Document의 정보로 답변을 생성할 수 있는 경우 해당 정보를 활용하고, 만약 Document의 정보로 답변을 유추조차 할 수 없는 경우, Document를 참고하지 말고 그냥 너가 생각한 답변을 생성해줘.\n",
    "            주소와 관련된 질문인 경우 최대한 Document의 답변을 기반을 참고해주고, 그렇지 않은 경우 그냥 너의 지식을 활용해줘.\n",
    "            답변에는 Document라는 단어를 사용하지 말아줘.\n",
    "            \n",
    "            답변의 끝에는 출처의 정보를 기입하는데, 출처는 Document의 'context'에 metadata의 'source'에 파일경로로 기입되어 있어. pdf, csv, md 등의 파일 이름으로만 출처를 기입해주면 돼.\n",
    "            만약 여러개의 출처가 기입되어 있는 경우 모두 알려주고, 중복되는 경우 하나만 기입해줘.\n",
    "            이때 파일명의 확장자(pdf, csv, md 등)는 기입하지 않아도 돼.\n",
    "        \"\"\"),\n",
    "        HumanMessage(content=f\"\"\"\n",
    "            [Document]\n",
    "            {context}\n",
    "\n",
    "            [Query]\n",
    "            {question}\n",
    "        \"\"\"),\n",
    "    ]\n",
    "    return messages\n",
    "\n",
    "def llm_answer(state: GraphState) -> GraphState:\n",
    "    messages = message(state[\"context\"], state[\"question\"])\n",
    "    response = chat.invoke(messages)\n",
    "    return GraphState(\n",
    "        answer=response.content,\n",
    "        context=state[\"context\"],\n",
    "        question=state[\"question\"],\n",
    "    )"
   ]
  },
  {
   "cell_type": "markdown",
   "metadata": {},
   "source": [
    "### Graph Relations (with nodes)"
   ]
  },
  {
   "cell_type": "code",
   "execution_count": 69,
   "metadata": {},
   "outputs": [],
   "source": [
    "from langgraph.graph import END, StateGraph\n",
    "from langgraph.checkpoint.memory import MemorySaver\n",
    "\n",
    "# langgraph.graph에서 StateGraph와 END를 가져옵니다.\n",
    "workflow = StateGraph(GraphState)\n",
    "\n",
    "# 노드들을 정의합니다.\n",
    "workflow.add_node(\"retrieve\", retrieve_document)  # 답변을 검색해오는 노드를 추가합니다.\n",
    "workflow.add_node(\"llm_answer\", llm_answer)  # 답변을 생성하는 노드를 추가합니다.\n",
    "workflow.add_node(\"relevance_check\", relevance_check)  # 답변의 문서에 대한 관련성 체크 노드를 추가합니다.\n",
    "\n",
    "# 각 노드들을 연결합니다.\n",
    "# workflow.add_edge(\"retrieve\", \"llm_answer\")  # 검색 -> 답변\n",
    "# workflow.add_edge(\"llm_answer\", \"relevance_check\")  # 답변 -> 관련성 체크\n",
    "\n",
    "workflow.add_edge(\"retrieve\", \"relevance_check\")  # 검색 -> 답변\\\n",
    "\n",
    "# 조건부 엣지를 추가합니다.\n",
    "workflow.add_conditional_edges(\n",
    "    \"relevance_check\",  # 관련성 체크 노드에서 나온 결과를 is_relevant 함수에 전달합니다.\n",
    "    is_relevant,\n",
    "    {\n",
    "        \"관련성 O\": \"llm_answer\",  # 관련성이 있으면 종료합니다.\n",
    "        \"관련성 X\": \"llm_answer\",  # 관련성이 없으면 다시 답변을 생성합니다.\n",
    "        \"확인불가\": \"llm_answer\",  # 관련성 체크 결과가 모호하다면 다시 답변을 생성합니다.\n",
    "    },\n",
    ")\n",
    "\n",
    "workflow.add_edge(\"llm_answer\", END)  # 답변 -> 종료\n",
    "\n",
    "# 시작점을 설정합니다.\n",
    "workflow.set_entry_point(\"retrieve\")\n",
    "\n",
    "# 기록을 위한 메모리 저장소를 설정합니다.\n",
    "memory = MemorySaver()\n",
    "\n",
    "# 그래프를 컴파일합니다.\n",
    "app = workflow.compile(checkpointer=memory)"
   ]
  },
  {
   "cell_type": "code",
   "execution_count": 20,
   "metadata": {},
   "outputs": [
    {
     "data": {
      "image/jpeg": "[encoded data removed]",
      "text/plain": [
       "<IPython.core.display.Image object>"
      ]
     },
     "metadata": {},
     "output_type": "display_data"
    }
   ],
   "source": [
    "from IPython.display import Image, display\n",
    "\n",
    "try:\n",
    "    display(\n",
    "        Image(app.get_graph(xray=True).draw_mermaid_png())\n",
    "    )  # 실행 가능한 객체의 그래프를 mermaid 형식의 PNG로 그려서 표시합니다. xray=True는 추가적인 세부 정보를 포함합니다.\n",
    "except:\n",
    "    # 이 부분은 추가적인 의존성이 필요하며 선택적으로 실행됩니다.\n",
    "    pass"
   ]
  },
  {
   "cell_type": "code",
   "execution_count": 43,
   "metadata": {},
   "outputs": [
    {
     "name": "stdout",
     "output_type": "stream",
     "text": [
      "Question: \t 사물주소와 관련된 체계가 존재하는가?\n",
      "Answer: \t 사물주소와 관련된 체계는 존재합니다. 관련 법령인 「도로명주소법」을 바탕으로 분석된 체계가 있으며, ISO 19160-1에 제시된 주소 개념 모델에서 주소와 연관된 클래스들을 중심으로 체계를 구성하고 있습니다. 사물주소는 도로명과 기초번호를 활용하여 건물 등이 아닌 시설물의 위치를 특정하는 정보를 의미합니다.\n",
      "Relevance: \t grounded\n"
     ]
    }
   ],
   "source": [
    "from langchain_core.runnables import RunnableConfig\n",
    "\n",
    "# recursion_limit: 최대 반복 횟수, thread_id: 실행 ID (구분용)\n",
    "config = RunnableConfig(recursion_limit=5, configurable={\"thread_id\": \"SELF-RAG\"})\n",
    "\n",
    "# GraphState 객체를 활용하여 질문을 입력합니다.\n",
    "inputs = GraphState(question=\"사물주소와 관련된 체계가 존재하는가?\")\n",
    "output = app.invoke(inputs, config=config)\n",
    "\n",
    "# 출력 결과를 확인합니다.\n",
    "print(\"Question: \\t\", output[\"question\"])\n",
    "print(\"Answer: \\t\", output[\"answer\"])\n",
    "print(\"Relevance: \\t\", output[\"relevance\"])"
   ]
  },
  {
   "cell_type": "code",
   "execution_count": 65,
   "metadata": {},
   "outputs": [
    {
     "name": "stdout",
     "output_type": "stream",
     "text": [
      "Question: \t 네이버 지오코딩 API를 활용하는 방법은?\n",
      "Answer: \t 네이버 지오코딩 API를 활용하려면 다음과 같은 절차를 따르시면 됩니다:\n",
      "\n",
      "1. **네이버 클라우드 플랫폼에 접속**:\n",
      "   - 네이버 클라우드 플랫폼에 로그인합니다.\n",
      "   - 화면 상단의 콘솔 버튼을 클릭합니다.\n",
      "\n",
      "2. **API Key 발급**:\n",
      "   - API를 활용하기 위해 API Key를 발급받아야 합니다.\n",
      "   - 네이버 지오코딩 API Key는 네이버 클라우드 플랫폼에서 발급받을 수 있습니다.\n",
      "\n",
      "3. **API 요청 구성**:\n",
      "   - API 요청을 위해 필요한 형식에 맞춰 요청 URL을 작성해야 합니다.\n",
      "   - 요청 헤더에는 발급받은 API Key와 아이디 값을 입력합니다.\n",
      "\n",
      "4. **예시 코드**:\n",
      "   - 아래는 간단한 API 요청 예시 코드입니다.\n",
      "\n",
      "   ```python\n",
      "   import requests as re\n",
      "   import json\n",
      "   \n",
      "   # 요청 헤더에 API 키와 아이디 값 입력\n",
      "   headers = {\n",
      "       \"X-NCP-APIGW-API-KEY-ID\": \"YOUR_API_ID\",\n",
      "       \"X-NCP-APIGW-API-KEY\": \"YOUR_API_SECRET\"\n",
      "   }\n",
      "   \n",
      "   # 파라미터에는 검색할 주소 입력\n",
      "   params = {\n",
      "       \"query\": \"서울특별시 동작구 흑석로 84\",\n",
      "       \"output\": \"json\"\n",
      "   }\n",
      "   \n",
      "   # 정보 요청할 URL\n",
      "   url = \"https://naveropenapi.apigw.ntruss.com/map-geocode/v2/geocode\"\n",
      "   \n",
      "   # API 호출\n",
      "   response = re.get(url, headers=headers, params=params)\n",
      "   data = response.json()\n",
      "   \n",
      "   # 결과 출력\n",
      "   print(json.dumps(data, indent=4, ensure_ascii=False))\n",
      "   ```\n",
      "\n",
      "위의 코드를 통해 네이버 지오코딩 API를 호출하여 주소를 좌표로 변환할 수 있습니다. 필요한 API Key와 기타 설정 값들을 정확히 입력해야 정상적으로 작동합니다.\n",
      "Relevance: \t grounded\n"
     ]
    }
   ],
   "source": [
    "from langchain_core.runnables import RunnableConfig\n",
    "\n",
    "# recursion_limit: 최대 반복 횟수, thread_id: 실행 ID (구분용)\n",
    "config = RunnableConfig(recursion_limit=5, configurable={\"thread_id\": \"SELF-RAG\"})\n",
    "\n",
    "# GraphState 객체를 활용하여 질문을 입력합니다.\n",
    "inputs = GraphState(question=\"네이버 지오코딩 API를 활용하는 방법은?\")\n",
    "output = app.invoke(inputs, config=config)\n",
    "\n",
    "# 출력 결과를 확인합니다.\n",
    "print(\"Question: \\t\", output[\"question\"])\n",
    "print(\"Answer: \\t\", output[\"answer\"])\n",
    "print(\"Relevance: \\t\", output[\"relevance\"])"
   ]
  },
  {
   "cell_type": "code",
   "execution_count": 70,
   "metadata": {},
   "outputs": [
    {
     "name": "stdout",
     "output_type": "stream",
     "text": [
      "Question: \t 실내 이동경로 구간을 작성하는 방법을 알려줘\n",
      "Answer: \t 실내 이동경로 구간을 작성하는 방법은 다음과 같습니다:\n",
      "\n",
      "1. **일반원칙**:\n",
      "   - 실내 이동경로 구간은 사람의 통행을 중심으로 층 단위로 작성해야 합니다.\n",
      "   - 작성 단위마다 도로명, 건물번호, 동번호 등이 없는 경우 생략하고 층수를 함께 등록합니다.\n",
      "   - 실내 이동경로 구간은 부여가 예상되는 상세주소 출입구 또는 사물번호 기준점을 모두 연결 가능하도록 작성합니다.\n",
      "   - 건물 등의 출입구 및 내부의 수직연결점(층 간 이동과 연결되도록)과 연결되도록 작성합니다.\n",
      "\n",
      "2. **세부기준**:\n",
      "   - 하나의 층에 수직연결점이 2개 이상 있고 각 수직연결점을 주로 이용하는 상세주소 또는 사물주소 부여대상이 있는 경우, 2개 이상의 실내 이동경로 구간을 설정하고 서로 연결되도록 작성합니다.\n",
      "   - 하나의 층이 연결되지 않는 두 개의 공간으로 분리되어 각 공간에 수직연결점이 있는 경우, 각 공간에 실내 이동경로 구간을 설정합니다.\n",
      "\n",
      "3. **작성 예시**:\n",
      "   - 실내 이동경로 구간은 사람의 통행을 중심으로 층 단위의 선형으로 작성합니다.\n",
      "   - 시작지점은 사람의 이용이 많은 수직연결점을 기준으로 합니다.\n",
      "   - 타원형의 경우에는 시계 반대 방향으로 실내 이동경로 구간을 설정합니다.\n",
      "\n",
      "이와 같은 방법으로 실내 이동경로 구간을 작성하여야 합니다.\n",
      "Relevance: \t grounded\n"
     ]
    }
   ],
   "source": [
    "from langchain_core.runnables import RunnableConfig\n",
    "\n",
    "# recursion_limit: 최대 반복 횟수, thread_id: 실행 ID (구분용)\n",
    "config = RunnableConfig(recursion_limit=5, configurable={\"thread_id\": \"SELF-RAG\"})\n",
    "\n",
    "# GraphState 객체를 활용하여 질문을 입력합니다.\n",
    "inputs = GraphState(question=\"실내 이동경로 구간을 작성하는 방법을 알려줘\")\n",
    "output = app.invoke(inputs, config=config)\n",
    "\n",
    "# 출력 결과를 확인합니다.\n",
    "print(\"Question: \\t\", output[\"question\"])\n",
    "print(\"Answer: \\t\", output[\"answer\"])\n",
    "print(\"Relevance: \\t\", output[\"relevance\"])"
   ]
  },
  {
   "cell_type": "code",
   "execution_count": 92,
   "metadata": {},
   "outputs": [
    {
     "name": "stdout",
     "output_type": "stream",
     "text": [
      "Question: \t 도로명주소의 시행 목적이 뭐야?\n",
      "Answer: \t \n",
      "도로명주소법의 목적은 도로명주소, 국가기초구역, 국가지점번호 및 사물주소의 표기, 사용, 관리, 활용 등에 관한 사항을 규정함으로써 국민의 생활안전과 편의를 도모하고 관련 산업의 지원을 통하여 국가경쟁력 강화에 이바지하는 것입니다.\n",
      "\n",
      "출처: 도로명주소법.txt\n",
      "Relevance: \t grounded\n"
     ]
    }
   ],
   "source": [
    "from langchain_core.runnables import RunnableConfig\n",
    "\n",
    "# recursion_limit: 최대 반복 횟수, thread_id: 실행 ID (구분용)\n",
    "config = RunnableConfig(recursion_limit=5, configurable={\"thread_id\": \"SELF-RAG\"})\n",
    "\n",
    "# GraphState 객체를 활용하여 질문을 입력합니다.\n",
    "inputs = GraphState(question=\"도로명주소의 시행 목적이 뭐야?\")\n",
    "output = app.invoke(inputs, config=config)\n",
    "\n",
    "# 출력 결과를 확인합니다.\n",
    "print(\"Question: \\t\", output[\"question\"])\n",
    "print(\"Answer: \\t\", output[\"answer\"])\n",
    "print(\"Relevance: \\t\", output[\"relevance\"])"
   ]
  },
  {
   "cell_type": "code",
   "execution_count": 91,
   "metadata": {},
   "outputs": [
    {
     "name": "stdout",
     "output_type": "stream",
     "text": [
      "Question: \t 주소정보의 개념 재정립이 필요한 이유가 뭐야?\n",
      "Answer: \t 주소정보의 개념을 재정립하는 이유는 크게 두 가지입니다. 첫째, 2014년 도로명주소 전면 시행 이후 4차 산업혁명으로 인한 사회의 급격한 변화에 대응하기 위해서입니다. 둘째, 공법상 주소가 아닌 정보로서의 주소에 대한 관심과 필요성이 증가함에 따라, 다양한 연구에서 제시된 새로운 개념을 체계적으로 정리할 필요가 있기 때문입니다. 이러한 재정립은 도로명주소법의 개정을 앞두고 미래를 대비한 정교한 주소체계를 확립하는 데에 중요한 기반이 됩니다.\n",
      "\n",
      "출처: 주소체계 고도화에 따른 주소정보 개념 정립 연구.pdf\n",
      "Relevance: \t grounded\n"
     ]
    }
   ],
   "source": [
    "from langchain_core.runnables import RunnableConfig\n",
    "\n",
    "# recursion_limit: 최대 반복 횟수, thread_id: 실행 ID (구분용)\n",
    "config = RunnableConfig(recursion_limit=5, configurable={\"thread_id\": \"SELF-RAG\"})\n",
    "\n",
    "# GraphState 객체를 활용하여 질문을 입력합니다.\n",
    "inputs = GraphState(question=\"주소정보의 개념 재정립이 필요한 이유가 뭐야?\")\n",
    "output = app.invoke(inputs, config=config)\n",
    "\n",
    "# 출력 결과를 확인합니다.\n",
    "print(\"Question: \\t\", output[\"question\"])\n",
    "print(\"Answer: \\t\", output[\"answer\"])\n",
    "print(\"Relevance: \\t\", output[\"relevance\"])"
   ]
  },
  {
   "cell_type": "code",
   "execution_count": 96,
   "metadata": {},
   "outputs": [
    {
     "name": "stdout",
     "output_type": "stream",
     "text": [
      "Question: \t AddressAlias의 의미와 활용 방법을 알려줘\n",
      "Answer: \t AddressAlias는 주소를 명확하게 식별하기 위한 대체 표현 또는 별칭을 의미합니다. 이는 언어나 문화권에 따른 표기(localeAlias), 주소의 생애주기에 따라 변화된 주소 표기(lifecycleAlias), 비공식적 또는 구어체 표기(colloquialAlias), 그리고 AddressClass의 표기(classAlias) 등에 적용될 수 있습니다. 여러 별칭이 존재할 경우, 선호도(preferenceLevel)에 따라 우선순위를 나타낼 수 있습니다. 예를 들어, 한국의 주소 클래스는 도로명 주소와 지번 주소로 구분될 수 있습니다.\n",
      "\n",
      "출처: ISO 19160-1-2015 개념모델에 대한 분석과 이해, 김지영-양성청-도로명주소법 개정에 대비한 표준기반 사물주소 정의\n",
      "Relevance: \t grounded\n"
     ]
    }
   ],
   "source": [
    "from langchain_core.runnables import RunnableConfig\n",
    "\n",
    "# recursion_limit: 최대 반복 횟수, thread_id: 실행 ID (구분용)\n",
    "config = RunnableConfig(recursion_limit=5, configurable={\"thread_id\": \"SELF-RAG\"})\n",
    "\n",
    "# GraphState 객체를 활용하여 질문을 입력합니다.\n",
    "inputs = GraphState(question=\"AddressAlias의 의미와 활용 방법을 알려줘\")\n",
    "output = app.invoke(inputs, config=config)\n",
    "\n",
    "# 출력 결과를 확인합니다.\n",
    "print(\"Question: \\t\", output[\"question\"])\n",
    "print(\"Answer: \\t\", output[\"answer\"])\n",
    "print(\"Relevance: \\t\", output[\"relevance\"])"
   ]
  },
  {
   "cell_type": "code",
   "execution_count": 97,
   "metadata": {},
   "outputs": [
    {
     "data": {
      "text/plain": [
       "[(Document(metadata={'source': 'data/final/ISO 19160-1-2015 개념모델에 대한 분석과 이해.txt'}, page_content='AddressAlias 클래스는 주소를 명확하게 식별하기 위한 대체 표현 또는 별칭을 표현한다. 이 클래스는 언어나 문화권 에 따른 표기(localeAlias), 주소의 생애주기에 따라 변화된 주소 표기(lifecycleAlias), 주소의 비공식적 또는 구어체에 표기(colloquialAlias), AddressClass의 표기(classAlias) 에 적용할 수 있다. AddressClass 클래스는 동일한 주소구 성요소, 관계, 의미를 공유하는 주소 집합을 의미하고, 주소의 유형에따라확장될수있다. 예를들어, 한국의 주소클래스는 도로명주소와 지번주소로 구분할 수 있다. 별칭이 여러 개인 경우, 선호도(preferenceLevel)에 따라 우선순위를 나타 낼 수 있다.'),\n",
       "  0.6787415615843314),\n",
       " (Document(metadata={'source': 'data/final/김지영-양성청-도로명주소법 개정에 대비한 표준기반 사물주소 정의.txt'}, page_content='또한 동일한 주소부여대상을 명확하게 확인하기 위하여 주소들은 AddressAlias(주소 별칭)으로 참조된다. 표준에서는 두 개의 도로 모퉁이에 접하는 하나의 건물 이 각 도로마다 출입구가 있어 출입구마다 주소가 부여된 건물을 예로 들고 있다.'),\n",
       "  0.822756826877594)]"
      ]
     },
     "execution_count": 97,
     "metadata": {},
     "output_type": "execute_result"
    }
   ],
   "source": [
    "output['context']"
   ]
  },
  {
   "cell_type": "code",
   "execution_count": 89,
   "metadata": {},
   "outputs": [
    {
     "data": {
      "text/plain": [
       "'data/final/주소정보_업무편람_최종(하이퍼링크).pdf'"
      ]
     },
     "execution_count": 89,
     "metadata": {},
     "output_type": "execute_result"
    }
   ],
   "source": [
    "output['context'][1][0].metadata['source']"
   ]
  },
  {
   "cell_type": "code",
   "execution_count": 98,
   "metadata": {},
   "outputs": [
    {
     "name": "stdout",
     "output_type": "stream",
     "text": [
      "Question: \t python에서 pandas를 활용하여 csv 파일을 읽는 방법과 예시를 알려줘\n",
      "Answer: \t Python에서 pandas 라이브러리를 사용하여 CSV 파일을 읽는 방법은 매우 간단합니다. pandas의 `read_csv` 함수를 사용하면 됩니다. 아래는 예시 코드입니다:\n",
      "\n",
      "```python\n",
      "import pandas as pd\n",
      "\n",
      "# CSV 파일 읽기\n",
      "df = pd.read_csv('sample.csv')\n",
      "\n",
      "# 데이터 형태 파악하기\n",
      "print(df.shape)\n",
      "\n",
      "# 데이터의 첫 5행 출력\n",
      "print(df.head(5))\n",
      "```\n",
      "\n",
      "위 코드에서는 `sample.csv` 파일을 읽어와 데이터프레임 `df`에 저장합니다. 그런 다음, `df.shape`을 사용하여 데이터의 형태(행과 열의 수)를 출력하고, `df.head(5)`을 사용하여 데이터의 첫 5행을 출력합니다.\n",
      "\n",
      "출처: chapter-7-6, chapter-4-5\n",
      "Relevance: \t grounded\n"
     ]
    }
   ],
   "source": [
    "from langchain_core.runnables import RunnableConfig\n",
    "\n",
    "# recursion_limit: 최대 반복 횟수, thread_id: 실행 ID (구분용)\n",
    "config = RunnableConfig(recursion_limit=5, configurable={\"thread_id\": \"SELF-RAG\"})\n",
    "\n",
    "# GraphState 객체를 활용하여 질문을 입력합니다.\n",
    "inputs = GraphState(question=\"python에서 pandas를 활용하여 csv 파일을 읽는 방법과 예시를 알려줘\")\n",
    "output = app.invoke(inputs, config=config)\n",
    "\n",
    "# 출력 결과를 확인합니다.\n",
    "print(\"Question: \\t\", output[\"question\"])\n",
    "print(\"Answer: \\t\", output[\"answer\"])\n",
    "print(\"Relevance: \\t\", output[\"relevance\"])"
   ]
  },
  {
   "cell_type": "code",
   "execution_count": 99,
   "metadata": {},
   "outputs": [
    {
     "name": "stdout",
     "output_type": "stream",
     "text": [
      "Question: \t 미키마우스는 누가 만들었어?\n",
      "Answer: \t 미키마우스는 월트 디즈니와 애브 아이웍스가 공동으로 만든 캐릭터입니다. 미키마우스는 1928년에 처음 등장했습니다.\n",
      "Relevance: \t notGrounded\n"
     ]
    }
   ],
   "source": [
    "from langchain_core.runnables import RunnableConfig\n",
    "\n",
    "# recursion_limit: 최대 반복 횟수, thread_id: 실행 ID (구분용)\n",
    "config = RunnableConfig(recursion_limit=5, configurable={\"thread_id\": \"SELF-RAG\"})\n",
    "\n",
    "# GraphState 객체를 활용하여 질문을 입력합니다.\n",
    "inputs = GraphState(question=\"미키마우스는 누가 만들었어?\")\n",
    "output = app.invoke(inputs, config=config)\n",
    "\n",
    "# 출력 결과를 확인합니다.\n",
    "print(\"Question: \\t\", output[\"question\"])\n",
    "print(\"Answer: \\t\", output[\"answer\"])\n",
    "print(\"Relevance: \\t\", output[\"relevance\"])"
   ]
  },
  {
   "cell_type": "code",
   "execution_count": 100,
   "metadata": {},
   "outputs": [
    {
     "name": "stdout",
     "output_type": "stream",
     "text": [
      "Question: \t KPOP 가수 5명만 말해줘\n",
      "Answer: \t KPOP 가수 5명은 다음과 같습니다:\n",
      "\n",
      "1. BTS (방탄소년단)\n",
      "2. BLACKPINK\n",
      "3. EXO\n",
      "4. TWICE\n",
      "5. Red Velvet\n",
      "Relevance: \t notGrounded\n"
     ]
    }
   ],
   "source": [
    "from langchain_core.runnables import RunnableConfig\n",
    "\n",
    "# recursion_limit: 최대 반복 횟수, thread_id: 실행 ID (구분용)\n",
    "config = RunnableConfig(recursion_limit=5, configurable={\"thread_id\": \"SELF-RAG\"})\n",
    "\n",
    "# GraphState 객체를 활용하여 질문을 입력합니다.\n",
    "inputs = GraphState(question=\"KPOP 가수 5명만 말해줘\")\n",
    "output = app.invoke(inputs, config=config)\n",
    "\n",
    "# 출력 결과를 확인합니다.\n",
    "print(\"Question: \\t\", output[\"question\"])\n",
    "print(\"Answer: \\t\", output[\"answer\"])\n",
    "print(\"Relevance: \\t\", output[\"relevance\"])"
   ]
  },
  {
   "cell_type": "code",
   "execution_count": null,
   "metadata": {},
   "outputs": [],
   "source": []
  }
 ],
 "metadata": {
  "kernelspec": {
   "display_name": "env",
   "language": "python",
   "name": "python3"
  },
  "language_info": {
   "codemirror_mode": {
    "name": "ipython",
    "version": 3
   },
   "file_extension": ".py",
   "mimetype": "text/x-python",
   "name": "python",
   "nbconvert_exporter": "python",
   "pygments_lexer": "ipython3",
   "version": "3.11.9"
  }
 },
 "nbformat": 4,
 "nbformat_minor": 2
}
