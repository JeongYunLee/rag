{
 "cells": [
  {
   "cell_type": "code",
   "execution_count": 39,
   "metadata": {},
   "outputs": [],
   "source": [
    "from dotenv import load_dotenv\n",
    "import os\n",
    "import uuid\n",
    "import chromadb\n",
    "from langchain_community.document_loaders import DirectoryLoader\n",
    "from langchain_community.document_loaders import TextLoader\n",
    "from langchain_community.retrievers import BM25Retriever\n",
    "from langchain.retrievers import EnsembleRetriever\n",
    "from langchain_core.documents import Document\n",
    "from langchain_community.vectorstores import Chroma\n",
    "from langchain.text_splitter import RecursiveCharacterTextSplitter\n",
    "from langchain.embeddings.openai import OpenAIEmbeddings\n",
    "from chromadb.utils import embedding_functions\n",
    "from langchain_core.runnables import RunnablePassthrough\n",
    "from langchain_core.output_parsers import StrOutputParser\n",
    "from langchain_openai import ChatOpenAI\n",
    "from langchain.schema import AIMessage, HumanMessage, SystemMessage\n",
    "from langchain_core.messages import HumanMessage, SystemMessage\n",
    "from langchain.callbacks.streaming_stdout import StreamingStdOutCallbackHandler\n",
    "# from kiwipiepy import Kiwi\n",
    "import time\n",
    "import csv"
   ]
  },
  {
   "cell_type": "code",
   "execution_count": 2,
   "metadata": {},
   "outputs": [],
   "source": [
    "# api key\n",
    "from dotenv import load_dotenv\n",
    "import os\n",
    "\n",
    "load_dotenv()\n",
    "\n",
    "OPENAI_API_KEY = os.getenv('OPENAI_API_KEY')"
   ]
  },
  {
   "cell_type": "code",
   "execution_count": 4,
   "metadata": {},
   "outputs": [],
   "source": [
    "# pip install -qU langchain-teddynote"
   ]
  },
  {
   "cell_type": "code",
   "execution_count": 3,
   "metadata": {},
   "outputs": [
    {
     "name": "stdout",
     "output_type": "stream",
     "text": [
      "LangSmith 추적을 시작합니다.\n",
      "[프로젝트명]\n",
      "240717\n"
     ]
    }
   ],
   "source": [
    "# LangSmith 추적을 설정합니다. https://smith.langchain.com\n",
    "from langchain_teddynote import logging\n",
    "\n",
    "# 프로젝트 이름을 입력합니다.\n",
    "logging.langsmith(\"240717\") #set_enable=False"
   ]
  },
  {
   "cell_type": "code",
   "execution_count": 22,
   "metadata": {},
   "outputs": [
    {
     "data": {
      "text/plain": [
       "AIMessage(content='서울입니다.', response_metadata={'token_usage': {'completion_tokens': 5, 'prompt_tokens': 18, 'total_tokens': 23}, 'model_name': 'gpt-3.5-turbo', 'system_fingerprint': None, 'finish_reason': 'stop', 'logprobs': None}, id='run-4375d816-fb10-4b34-8220-75d19eba08da-0', usage_metadata={'input_tokens': 18, 'output_tokens': 5, 'total_tokens': 23})"
      ]
     },
     "execution_count": 22,
     "metadata": {},
     "output_type": "execute_result"
    }
   ],
   "source": [
    "from langchain_openai import ChatOpenAI\n",
    "llm = ChatOpenAI()\n",
    "# 간단하게 API 텍스트 호출\n",
    "llm.invoke(\"대한민국의 수도는?\")"
   ]
  },
  {
   "cell_type": "code",
   "execution_count": 5,
   "metadata": {},
   "outputs": [
    {
     "data": {
      "text/plain": [
       "[Collection(name=49_files_openai_3072),\n",
       " Collection(name=12_files_openai_3072),\n",
       " Collection(name=csv_files_openai_3072)]"
      ]
     },
     "execution_count": 5,
     "metadata": {},
     "output_type": "execute_result"
    }
   ],
   "source": [
    "## 컬렉션 생성/연결하기\n",
    "import chromadb\n",
    "client = chromadb.PersistentClient('chroma/')\n",
    "client.list_collections()"
   ]
  },
  {
   "cell_type": "markdown",
   "metadata": {},
   "source": [
    "### Retriever"
   ]
  },
  {
   "cell_type": "code",
   "execution_count": 6,
   "metadata": {},
   "outputs": [],
   "source": [
    "from langchain.embeddings.openai import OpenAIEmbeddings\n",
    "from langchain.vectorstores import Chroma\n",
    "\n",
    "class MultiCollectionRetriever:\n",
    "    def __init__(self, client, collection_names, embedding_function, search_kwargs={\"k\": 2}):\n",
    "        self.collections = [\n",
    "            Chroma(client=client, collection_name=name, embedding_function=embedding_function)\n",
    "            for name in collection_names\n",
    "        ]\n",
    "        self.search_kwargs = search_kwargs\n",
    "\n",
    "    def retrieve(self, query):\n",
    "        results = []\n",
    "        for collection in self.collections:\n",
    "            # 각 컬렉션에서 유사도 검색 수행\n",
    "            documents_with_scores = collection.similarity_search_with_score(query, **self.search_kwargs)\n",
    "            results.extend(documents_with_scores)\n",
    "        \n",
    "        # 유사도 점수를 기준으로 결과 정렬 (score가 높을수록 유사도가 높음)\n",
    "        results.sort(key=lambda x: x[1], reverse=False)\n",
    "\n",
    "        documents = [(doc, score) for doc, score in results]\n",
    "        return documents\n",
    "\n",
    "# 사용 예시\n",
    "client = chromadb.PersistentClient('chroma/')\n",
    "collection_names = [\"csv_files_openai_3072\", \"49_files_openai_3072\"]\n",
    "embedding = OpenAIEmbeddings(model='text-embedding-3-large') \n",
    "multi_retriever = MultiCollectionRetriever(client, collection_names, embedding)"
   ]
  },
  {
   "cell_type": "code",
   "execution_count": 7,
   "metadata": {},
   "outputs": [
    {
     "data": {
      "text/plain": [
       "[(Document(page_content='2. 사물주소 부여 체계 분석\\n사물주소(address of things, AOT)와 관련된 체계가 정리된 자료가 없어 「도로명주소법」 등 관련 법령을 바탕으로 데이터 관점에서 그 체계를 분석하고자 한다. 이를 위해서 ISO 19160-1에 제시되어 있는 주소 개념 모델에서 주소와 연관이나 집합관계에 있는 클래스 (class)를 중심으로 분석하였다(Table 1). 주소(address) 는 하나 이상의 주소 구성요소(AddressComponent)와 집합관계이다. 주소 구성요소 값은 라벨(label)로 주소를 구성하는 객체를 문자로 표현한 것을 의미한다. 즉 도로를 도로명이라는 문자로 표현한 것이다. 또한 주소는 건물등과 같이 주소가 할당되는 객체를 의미하는 주소 부여 대상(AddressableObject)과 상호 연관되어 있으며, 동일한 주소 부여 대상을 명확하게 식별하기 위하여 주소 별칭(AddressAlias)과 연관되어 있다(Kim and Yang, 2020).', metadata={'source': 'data/final/김지영-사물주소 부여 체계 분석 및 정책제언-2023.txt'}),\n",
       "  0.7972063422203064),\n",
       " (Document(page_content='한국의 주소체계는 2014년에 지번주소에서 도로명주소로 전면 개편되었고, 이후 도로명주소, 사물주소, 공간주소 등 다양한 유형이 새롭게 개발되며 주소의 부여 범위를 건축물을 넘어 사물, 해안·해양으로 점차 확대하고 있다[7]. 한국의 주소는 도로명주소법을 법률적 근거로 국가주소정보시스템을 통해 관리되고, 주소정보누리집(도로명주소 안내시스템)과 주소기반산업지원서비스를 통해 공공·민간에서 주소를 활용 하고 있다. 행정안전부는 제1차 주소정보 활용 기본계획 (2022~2026)을 시행하며 주소를 ‘현실과 가상세계를 연결하는 매개체’로 정의하고 주소의 데이터 가치를 확대하고 있다. 데이터 관점에서 주소는 행정구역, 도로, 공간과 같은 다양한 구성요소의 결합된 특성을 갖고 동시에 서로 다른 도메인의 상세정보에 대한 참조기능을 갖는다. 이런 맥락에서 주소가 다양한 데이터와 연계 또는 통합되려면 데이터 표준에 대한 고려가 반드시 필요하다. 그러나, 한국 주소체계의 표준에 대한 논의는 위치,', metadata={'source': 'data/final/ISO 19160-1-2015 개념모델에 대한 분석과 이해.txt'}),\n",
       "  0.8069350719451904),\n",
       " (Document(page_content='번호: 50\\n필수여부: 필수\\n준용여부: 준용\\n용어명: 사물주소\\n정의: 도로명과 기초번호를 활용하여 건물등에 해당하지 아니하는 시설물의 위치를 특정하는 정보\\n선정근거_출처: 도로명주소법\\n선정근거_세부내용: 2조\\n주소지식모델 포함여부: 포함\\n주소지식모델정의: 주소정보의 하위 개념으로 다중이 이용하는 시설물로 행정안전부장관이 고시한 시설물에 대하여 도로명과 건물번호, 사물번호와 사물유형으로 표현하는 주소정보\\n유사용어:', metadata={'row': 228, 'source': 'data/csv/주소용어최종정리_1123 - 업데이트_231123.csv'}),\n",
       "  0.8880832195281982),\n",
       " (Document(page_content='번호: 171\\n필수여부: 필수\\n준용여부: 미준용\\n용어명: 사물주소(건물밖)참조체계\\n정의: 도로명방식을 참조하는 건물 밖 사물주소 참조체계를 말함\\n선정근거_출처: 주소정보기본도 작성·관리 규정\\n선정근거_세부내용: \\n주소지식모델 포함여부: 포함\\n주소지식모델정의: 주소참조체계의 하위 유형으로, 건물 외부에 존재하는 사물의 주소를 부여할 때 사용되는 참조체계\\n유사용어:', metadata={'row': 230, 'source': 'data/csv/주소용어최종정리_1123 - 업데이트_231123.csv'}),\n",
       "  0.9151560068130493)]"
      ]
     },
     "execution_count": 7,
     "metadata": {},
     "output_type": "execute_result"
    }
   ],
   "source": [
    "query = \"사물주소와 관련된 체계가 존재하는가?\"\n",
    "results = multi_retriever.retrieve(query)\n",
    "top_results = results[:5]  # 상위 5개 결과 선택\n",
    "\n",
    "# 최종 결과 출력\n",
    "# for doc, score in top_results:\n",
    "#     print(f\"Document: {doc.page_content}, Score: {score}\")\n",
    "top_results"
   ]
  },
  {
   "cell_type": "code",
   "execution_count": 7,
   "metadata": {},
   "outputs": [
    {
     "data": {
      "text/plain": [
       "[(Document(page_content='제2절 주소정보 개념\\n\\n\\n가. 사전적 의미\\n\\n1) 국어사전\\n\\n사람 또는 기업이 살거나 소재하고 있는 곳\\n\\n사람이 살고 있는 곳이나 기관, 회사 따위가 자리 잡고 있는 곳을 행정구역으로 나타낸 이름\\n\\n관련 용어\\n\\n거소(居所) : 얼마간 계속 머물러 있는 장소\\n\\n가주소(假住所) : 어느 행위에 있어서, 주소 이외의 장소에 주소로서의 법률적 효과를 부여하기 위해 당사자가 선정한 장소\\n\\n2) 영어사전\\n\\n사람이나 조직이 연락 가능한 장소(a place where a person or organization may be communicated with)\\n\\n편지나 소포 등의 겉봉에 있는 배달지(direction for delivery on the outside of an object as a letter or package)\\n\\n\\n\\n나. 법률적 의미\\n\\n1) 민법 : 생활근거지 또는 사업장 소재지를 의미\\n\\n생활의 근거가 되는 곳(법 §18①)', metadata={'source': 'data/final/[1018] 주소정보_업무편람_최종(하이퍼링크).docx'}),\n",
       "  0.8045579791069031),\n",
       " (Document(page_content='번호: 213\\n필수여부: 필수\\n준용여부: 미준용\\n용어명: 주소\\n정의: 사람이 살고 있는 곳이나 기관, 회사 따위가 자리 잡고 있는 곳의 이름\\n선정근거_출처: 표준국어대사전\\n선정근거_세부내용: \\n주소지식모델 포함여부: 포함\\n주소지식모델정의: 사람, 사물, 장소 등 특정한 개체(entity)의 소재와 개체 사이의 관계를 구조화되고 의미적으로 표현된 정보\\n유사용어: 주소정보', metadata={'row': 352, 'source': 'data/csv/주소용어최종정리_1123 - 업데이트_231123.csv'}),\n",
       "  0.8576685190200806),\n",
       " (Document(page_content='편지나 소포 등의 겉봉에 있는 배달지(direction for delivery on the outside of an object as a letter or package)\\n\\n\\n\\n나. 법률적 의미\\n\\n1) 민법 : 생활근거지 또는 사업장 소재지를 의미\\n\\n생활의 근거가 되는 곳(법 §18①)\\n\\n법인의 경우 주사무소 또는 본점의 소재지(법 §36)\\n\\n주소는 동시에 2곳 이상을 둘 수 있음(법 §18②)\\n\\n주소를 알 수 없는 경우 거소를 주소로 봄(법 §19)\\n\\n국내에 주소가 없는 자는 국내에 있는 거소를 주소로 봄(법 §20)\\n\\n어느 행위에 있어서 가주소를 정한 때에는 그 행위에 관하여는 이를 주소로 봄 (법 §21)\\n\\n2) 주민등록법령\\n\\n주민등록표 등 주민등록 관계 서류의 주소는 도로명주소의 표기방법으로 기록(영 §9③)', metadata={'source': 'data/final/[1018] 주소정보_업무편람_최종(하이퍼링크).docx'}),\n",
       "  0.9017972946166992),\n",
       " (Document(page_content='번호: 419\\n필수여부: 선택\\n준용여부: 미준용\\n용어명: 주거\\n정의: 주소지로 사용하거나 거주하는 장소\\n선정근거_출처: 법령용어사전\\n선정근거_세부내용: \\n주소지식모델 포함여부: 미포함\\n주소지식모델정의: \\n유사용어:', metadata={'row': 350, 'source': 'data/csv/주소용어최종정리_1123 - 업데이트_231123.csv'}),\n",
       "  0.9567001461982727)]"
      ]
     },
     "execution_count": 7,
     "metadata": {},
     "output_type": "execute_result"
    }
   ],
   "source": [
    "query = \"주소의 사전적의미와 법률적 의미를 알려줘\"\n",
    "results = multi_retriever.retrieve(query)\n",
    "top_results = results[:5]  # 상위 5개 결과 선택\n",
    "\n",
    "top_results"
   ]
  },
  {
   "cell_type": "code",
   "execution_count": 35,
   "metadata": {},
   "outputs": [
    {
     "data": {
      "text/plain": [
       "[(Document(page_content='가. 주소에서 주소정보로의 확대\\n\\n1) 주소의 기능\\n\\n주소는 사람이나 법인의 주된 거주지(소재지)를 주민등록(법인등록)에 등록하는 데 주로 사용해 왔고 ‘생활의 근거가 되는 곳’으로 거처(居處) 또는 거지(居趾)의 의미를 담아 우편 배송이나 위치 찾기에 사용되어 왔음.\\n\\n2) 주소에 대한 사회적 수요의 변화\\n\\n주소는 사람을 구분하여 등록하거나 집을 찾는 데 사용되어 왔으나 도시의 변화 등에 따라 집 찾기에서 방 찾기로 기대 수준이 높아졌고, 사람이 있는 모든 접점에 대한 주소표시의 수요가 발생\\n\\n3) 주소정보의 등장\\n\\n주소정보는 주된 소재지라는 주소의 공·사법적 역할에서 벗어나 모든 접점에 대한 위치표시로 확대하기 위하여 도입\\n\\n국제표준화기구(ISO)에서도 주소 국제표준(ISO 19160-1)을 제정하면서 address를 ‘식별 및 위치 파악을 목적으로 단일 객체를 명확하게 확인할 수 있게 하는 구조화된 정보’로 정의\\n\\n나. 주소정보의 의의', metadata={'source': 'data/final/[1018] 주소정보_업무편람_최종(하이퍼링크).docx'}),\n",
       "  1.0054905414581299),\n",
       " (Document(page_content='주소 데이터는 크게 2가지로 구분된다. 공개하는 주소는 공개하는 주소정보로 도형정보 또는 좌표를 제외한 자료로 구성되어 있다. 제공하는 주소는 도형정보 또는 좌표를 포함한 자료로 승인신청을 통해 제공받을 수 있다.\\n\\n주소 데이터는 효율적인 관리를 위해 일부 항목을 코드체계로 관리합니다. 대표적으로 행정구역에 대한 코드체계가 존재한다. 보편적으로 사용되는 법정동코드, 행정동코드, 필지코드(PNU)는 용도에 따라 행정구역 또는 필지를 표현하는 코드다.\\n\\n반면, 도로명코드, 도로명주소 관리번호, 건물관리번호는 도로명주소를 관리하기 위해 주소정보 누리집에서 관리하는 코드이므로 도로명주소 관련 데이터를 분석할 때 활용된다.', metadata={'source': 'data/final/chapter-3-1.md'}),\n",
       "  1.0080838203430176),\n",
       " (Document(page_content='번호: 433\\n필수여부: 선택\\n준용여부: 미준용\\n용어명: 주소식별\\n정의: 주소정보의 유일성을 확인하는 절차, 또는 주소정보의 식별 부호(ID). 주소정보의 증명 및 확인을 위한 입력값\\n선정근거_출처: TTA표준\\n선정근거_세부내용: \\n주소지식모델 포함여부: 미포함\\n주소지식모델정의: \\n유사용어:', metadata={'row': 371, 'source': 'data/csv/주소용어최종정리_1123 - 업데이트_231123.csv'}),\n",
       "  1.0383516550064087),\n",
       " (Document(page_content='번호: 435\\n필수여부: 선택\\n준용여부: 미준용\\n용어명: 주소정보 레지스트리 기반 식별자\\n정의: 주소정보를 배포하기 위한 컴포넌트들이 레지스트리에 등록되기 위한 식별자\\n선정근거_출처: 주소기본계획\\n선정근거_세부내용: \\n주소지식모델 포함여부: 미포함\\n주소지식모델정의: \\n유사용어:', metadata={'row': 375, 'source': 'data/csv/주소용어최종정리_1123 - 업데이트_231123.csv'}),\n",
       "  1.0592684745788574)]"
      ]
     },
     "execution_count": 35,
     "metadata": {},
     "output_type": "execute_result"
    }
   ],
   "source": [
    "query = \"주소와 관련된 아이디의 종류는?\"\n",
    "results = multi_retriever.retrieve(query)\n",
    "top_results = results[:5]  # 상위 5개 결과 선택\n",
    "\n",
    "# 최종 결과 출력\n",
    "# for doc, score in top_results:\n",
    "#     print(f\"Document: {doc.page_content}, Score: {score}\")\n",
    "top_results"
   ]
  },
  {
   "cell_type": "code",
   "execution_count": 50,
   "metadata": {},
   "outputs": [
    {
     "data": {
      "text/plain": [
       "[Document(metadata={'source': 'data/final/김지영-사물주소 부여 체계 분석 및 정책제언-2023.txt'}, page_content='2. 사물주소 부여 체계 분석\\n사물주소(address of things, AOT)와 관련된 체계가 정리된 자료가 없어 「도로명주소법」 등 관련 법령을 바탕으로 데이터 관점에서 그 체계를 분석하고자 한다. 이를 위해서 ISO 19160-1에 제시되어 있는 주소 개념 모델에서 주소와 연관이나 집합관계에 있는 클래스 (class)를 중심으로 분석하였다(Table 1). 주소(address) 는 하나 이상의 주소 구성요소(AddressComponent)와 집합관계이다. 주소 구성요소 값은 라벨(label)로 주소를 구성하는 객체를 문자로 표현한 것을 의미한다. 즉 도로를 도로명이라는 문자로 표현한 것이다. 또한 주소는 건물등과 같이 주소가 할당되는 객체를 의미하는 주소 부여 대상(AddressableObject)과 상호 연관되어 있으며, 동일한 주소 부여 대상을 명확하게 식별하기 위하여 주소 별칭(AddressAlias)과 연관되어 있다(Kim and Yang, 2020).'),\n",
       " Document(metadata={'source': 'data/final/ISO 19160-1-2015 개념모델에 대한 분석과 이해.txt'}, page_content='한국의 주소체계는 2014년에 지번주소에서 도로명주소로 전면 개편되었고, 이후 도로명주소, 사물주소, 공간주소 등 다양한 유형이 새롭게 개발되며 주소의 부여 범위를 건축물을 넘어 사물, 해안·해양으로 점차 확대하고 있다[7]. 한국의 주소는 도로명주소법을 법률적 근거로 국가주소정보시스템을 통해 관리되고, 주소정보누리집(도로명주소 안내시스템)과 주소기반산업지원서비스를 통해 공공·민간에서 주소를 활용 하고 있다. 행정안전부는 제1차 주소정보 활용 기본계획 (2022~2026)을 시행하며 주소를 ‘현실과 가상세계를 연결하는 매개체’로 정의하고 주소의 데이터 가치를 확대하고 있다. 데이터 관점에서 주소는 행정구역, 도로, 공간과 같은 다양한 구성요소의 결합된 특성을 갖고 동시에 서로 다른 도메인의 상세정보에 대한 참조기능을 갖는다. 이런 맥락에서 주소가 다양한 데이터와 연계 또는 통합되려면 데이터 표준에 대한 고려가 반드시 필요하다. 그러나, 한국 주소체계의 표준에 대한 논의는 위치,'),\n",
       " Document(metadata={'row': 228, 'source': 'data/csv/주소용어최종정리_1123 - 업데이트_231123.csv'}, page_content='번호: 50\\n필수여부: 필수\\n준용여부: 준용\\n용어명: 사물주소\\n정의: 도로명과 기초번호를 활용하여 건물등에 해당하지 아니하는 시설물의 위치를 특정하는 정보\\n선정근거_출처: 도로명주소법\\n선정근거_세부내용: 2조\\n주소지식모델 포함여부: 포함\\n주소지식모델정의: 주소정보의 하위 개념으로 다중이 이용하는 시설물로 행정안전부장관이 고시한 시설물에 대하여 도로명과 건물번호, 사물번호와 사물유형으로 표현하는 주소정보\\n유사용어:'),\n",
       " Document(metadata={'row': 230, 'source': 'data/csv/주소용어최종정리_1123 - 업데이트_231123.csv'}, page_content='번호: 171\\n필수여부: 필수\\n준용여부: 미준용\\n용어명: 사물주소(건물밖)참조체계\\n정의: 도로명방식을 참조하는 건물 밖 사물주소 참조체계를 말함\\n선정근거_출처: 주소정보기본도 작성·관리 규정\\n선정근거_세부내용: \\n주소지식모델 포함여부: 포함\\n주소지식모델정의: 주소참조체계의 하위 유형으로, 건물 외부에 존재하는 사물의 주소를 부여할 때 사용되는 참조체계\\n유사용어:')]"
      ]
     },
     "execution_count": 50,
     "metadata": {},
     "output_type": "execute_result"
    }
   ],
   "source": [
    "query = \"사물주소와 관련된 체계가 존재하는가?\"\n",
    "results = multi_retriever.retrieve(query)\n",
    "top_results = results[:5]  # 상위 5개 결과 선택\n",
    "\n",
    "# 최종 결과 출력\n",
    "# for doc, score in top_results:\n",
    "#     print(f\"Document: {doc.page_content}, Score: {score}\")\n",
    "top_results"
   ]
  },
  {
   "cell_type": "code",
   "execution_count": 24,
   "metadata": {},
   "outputs": [
    {
     "data": {
      "text/plain": [
       "[Document(metadata={'row': 11, 'source': 'data/csv/주소용어최종정리_1123 - 업데이트_231123.csv'}, page_content='번호: 255\\n필수여부: 선택\\n준용여부: 미준용\\n용어명: 가상도로구간\\n정의: 개설이 예상되는 도로에 대한 도로구간\\n선정근거_출처: 주소정보기본도 작성·관리 규정\\n선정근거_세부내용: 11조\\n주소지식모델 포함여부: 미포함\\n주소지식모델정의: \\n유사용어:'),\n",
       " Document(metadata={'author': '', 'creationDate': \"D:20240611110832Z00'00'\", 'creator': '', 'file_path': 'data/final/[1018] 주소정보_업무편람_최종(하이퍼링크).pdf', 'format': 'PDF 1.4', 'keywords': '', 'modDate': \"D:20240611110832Z00'00'\", 'page': 285, 'producer': 'macOS Version 14.5 (Build 23F79) Quartz PDFContext', 'source': 'data/final/[1018] 주소정보_업무편람_최종(하이퍼링크).pdf', 'subject': '', 'title': '', 'total_pages': 525, 'trapped': ''}, page_content='■  ■  ■\\n주소정보 업무편람\\n292\\n가상도로구간\\n5) \\n가상도로구간은 두 개 이상의 지상도로를 연결하는 도로의 개설이 예상되어 하\\n○ \\n나의 도로구간으로 설정한 경우 도로의 개설이 예상되는 범위를 선형으로 작성\\n가상기초간격\\n6) \\n가상기초간격은 가상도로구간을 대상으로 도로구간의 기초간격 작성 방법에 \\n○ \\n따라 작성\\n그림 \\n가상도로구간과 가상기초간격\\n[\\n4-11] \\n연결선\\n7) \\n가\\n일반원칙\\n) \\n도로구간은 다음과 같이 분류하여 서로 연결되도록 선형으로 작성\\n○ \\n기초간격과 건물등 또는 건물군의 출입구\\n- \\n기초간격과 사물의 사물번호기준점\\n- \\n실내 이동경로 기초간격과 층호의 출입구\\n- \\n·\\n실내 이동경로 기초간격과 사물의 사물번호기준점\\n- \\n단지내 도로와 동 출입구\\n- \\n나\\n세부방법\\n) \\n연결 대상 간에는 통행을 고려하여 최단거리로 작성\\n○')]"
      ]
     },
     "execution_count": 24,
     "metadata": {},
     "output_type": "execute_result"
    }
   ],
   "source": [
    "query = \"가상도로구간이 무슨 의미야?\"\n",
    "results = multi_retriever.retrieve(query)\n",
    "top_results = results[:5]  # 상위 5개 결과 선택\n",
    "top_results"
   ]
  },
  {
   "cell_type": "code",
   "execution_count": 25,
   "metadata": {},
   "outputs": [
    {
     "data": {
      "text/plain": [
       "[Document(metadata={'row': 496, 'source': 'data/csv/주소용어최종정리_1123 - 업데이트_231123.csv'}, page_content='번호: 246\\n필수여부: 필수\\n준용여부: 미준용\\n용어명: 행정구역\\n정의: 법률에 정해진 지방자치단체의 구역(법정구역)이나 조례로 정해진 자치구가 아닌 구와 읍ㆍ면ㆍ동 등의 구역\\n선정근거_출처: 지방자치법\\n선정근거_세부내용: 5조\\n주소지식모델 포함여부: 포함\\n주소지식모델정의: 법률에 정해진 지방자치단체의 구역(법정구역)이나 조례로 정해진 자치구가 아닌 구와 읍ㆍ면ㆍ동 등의 구역\\n유사용어:'),\n",
       " Document(metadata={'author': '', 'creationDate': \"D:20240611110832Z00'00'\", 'creator': '', 'file_path': 'data/final/[1018] 주소정보_업무편람_최종(하이퍼링크).pdf', 'format': 'PDF 1.4', 'keywords': '', 'modDate': \"D:20240611110832Z00'00'\", 'page': 31, 'producer': 'macOS Version 14.5 (Build 23F79) Quartz PDFContext', 'source': 'data/final/[1018] 주소정보_업무편람_최종(하이퍼링크).pdf', 'subject': '', 'title': '', 'total_pages': 525, 'trapped': ''}, page_content='·\\n·\\n·\\n. \\n, \\n○ \\n법에 따라 부여된 사업지역의 명칭을 말함\\n5) 건물등 관할구역\\n시도시군자치구행정구읍면의 행정구역을 말함단행정구역 미결정 지역\\n·\\n, \\n·\\n·\\n, \\n·\\n·\\n. \\n, \\n○ \\n에서는 이 법에 따라 부여된 사업지역의 명칭을 말함\\n6) 공공기관의 장\\n국가기관\\n지방자치단체\\n, \\n○ \\n공공기관의 운영에 관한 법률에 따른 공공기관\\n○ 「\\n」')]"
      ]
     },
     "execution_count": 25,
     "metadata": {},
     "output_type": "execute_result"
    }
   ],
   "source": [
    "query = \"행정구역을 법률로 정한걸 뭐라고 해?\"\n",
    "results = multi_retriever.retrieve(query)\n",
    "top_results = results[:5]  # 상위 5개 결과 선택\n",
    "top_results"
   ]
  },
  {
   "cell_type": "code",
   "execution_count": 24,
   "metadata": {},
   "outputs": [
    {
     "data": {
      "text/plain": [
       "[(Document(page_content='가. 주소에서 주소정보로의 확대\\n\\n1) 주소의 기능\\n\\n주소는 사람이나 법인의 주된 거주지(소재지)를 주민등록(법인등록)에 등록하는 데 주로 사용해 왔고 ‘생활의 근거가 되는 곳’으로 거처(居處) 또는 거지(居趾)의 의미를 담아 우편 배송이나 위치 찾기에 사용되어 왔음.\\n\\n2) 주소에 대한 사회적 수요의 변화\\n\\n주소는 사람을 구분하여 등록하거나 집을 찾는 데 사용되어 왔으나 도시의 변화 등에 따라 집 찾기에서 방 찾기로 기대 수준이 높아졌고, 사람이 있는 모든 접점에 대한 주소표시의 수요가 발생\\n\\n3) 주소정보의 등장\\n\\n주소정보는 주된 소재지라는 주소의 공·사법적 역할에서 벗어나 모든 접점에 대한 위치표시로 확대하기 위하여 도입\\n\\n국제표준화기구(ISO)에서도 주소 국제표준(ISO 19160-1)을 제정하면서 address를 ‘식별 및 위치 파악을 목적으로 단일 객체를 명확하게 확인할 수 있게 하는 구조화된 정보’로 정의\\n\\n나. 주소정보의 의의', metadata={'source': 'data/final/[1018] 주소정보_업무편람_최종(하이퍼링크).docx'}),\n",
       "  0.8606708645820618),\n",
       " (Document(page_content='의하고 있다. \\n이에 주소정보와 관련된 용어정의를 위하여 본 연구에서는 국제표준을 \\n국문화한 KS X ISO 19160-1:2015에서 정의하고 있는 용어들을 살펴보\\n고자 한다(<표 2-1>). \\n주소정보 개념 재정립\\n용어\\n정의\\n주소(address) \\n식별 및 위치 파악을 목적으로 단일 객체를 명확하게 \\n확인할 수 있게 하는 구조화된 정보\\n  식별 : 주소의 구조화된 정보가 명확하게 객체를 확인한다는 것. \\n사람이 객체를 식별하는데 도움이 된다는 의미 \\n(시스템(DB)에서 의미하는 고유한 식별자는 아님)\\n  객체 : 실제 세계에서 식별이 가능한 것 (전자 및 가상은 제외)\\n주소 부여 대상\\n(addressable object)\\n주소를 할당할 수 있는 객체\\n<표 2-1> KS X ISO 19160-1:2015 내 용어 및 정의 재구성', metadata={'author': 'DUoffice', 'creationDate': \"D:20240618015036Z00'00'\", 'creator': '한컴오피스 한글 2018', 'file_path': 'data/final/주소체계 고도화에 따른 주소정보 개념 정립 연구.pdf', 'format': 'PDF 1.3', 'keywords': '', 'modDate': \"D:20240618015036Z00'00'\", 'page': 24, 'producer': 'macOS Version 14.5 (Build 23F79) Quartz PDFContext', 'source': 'data/final/주소체계 고도화에 따른 주소정보 개념 정립 연구.pdf', 'subject': '', 'title': '', 'total_pages': 246, 'trapped': ''}),\n",
       "  0.8668369054794312),\n",
       " (Document(page_content='번호: 213\\n필수여부: 필수\\n준용여부: 미준용\\n용어명: 주소\\n정의: 사람이 살고 있는 곳이나 기관, 회사 따위가 자리 잡고 있는 곳의 이름\\n선정근거_출처: 표준국어대사전\\n선정근거_세부내용: \\n주소지식모델 포함여부: 포함\\n주소지식모델정의: 사람, 사물, 장소 등 특정한 개체(entity)의 소재와 개체 사이의 관계를 구조화되고 의미적으로 표현된 정보\\n유사용어: 주소정보', metadata={'row': 352, 'source': 'data/csv/주소용어최종정리_1123 - 업데이트_231123.csv'}),\n",
       "  0.9020413160324097),\n",
       " (Document(page_content='번호: 77\\n필수여부: 필수\\n준용여부: 준용\\n용어명: 주소정책\\n정의: 국민의 생활안전과 편의를 도모하고 관련 산업의 지원을 통하여 국가경쟁력 강화에 이바지하기 위한 도로명주소의 목적을 실현하기 위한 방책들\\n선정근거_출처: 도로명주소법\\n선정근거_세부내용: 1조\\n주소지식모델 포함여부: 미포함\\n주소지식모델정의: \\n유사용어:', metadata={'row': 395, 'source': 'data/csv/주소용어최종정리_1123 - 업데이트_231123.csv'}),\n",
       "  0.9578563570976257)]"
      ]
     },
     "execution_count": 24,
     "metadata": {},
     "output_type": "execute_result"
    }
   ],
   "source": [
    "query = \"도로명주소의 사전적 정의는?\"\n",
    "results = multi_retriever.retrieve(query)\n",
    "top_results = results[:5]  # 상위 5개 결과 선택\n",
    "top_results"
   ]
  },
  {
   "cell_type": "code",
   "execution_count": 26,
   "metadata": {},
   "outputs": [
    {
     "data": {
      "text/plain": [
       "[Document(metadata={'source': 'data/final/chapter-3-3.md'}, page_content='도로명은 시군구코드와 도로명번호를 PK로 사용한다. 도로명번호 7자리는 지자체마다 관리하는 코드로, 고유하지 않다. 따라서, 시군구코드와 도로명번호를 조합한 코드(도로명코드)를 통해 도로명을 식별한다. 하지만, 데이터에 따라 도로명번호(7자리)와 도로명코드(12자리)의 용어가 혼용되므로 자릿수에 주의해야 한다.\\n\\n도로명 데이터에서 사용하는 읍면동일련번호는 하나의 도로가 지나는 읍면동을 구분하기 위해 임의로 부여한 일련번호다. 도로명 데이터에서만 사용되며 읍면동코드와 다른 의미다.\\n\\n도로명 (전체분) 예시'),\n",
       " Document(metadata={'row': 133, 'source': 'data/csv/주소용어최종정리_1123 - 업데이트_231123.csv'}, page_content='번호: 33\\n필수여부: 필수\\n준용여부: 준용\\n용어명: 도로명\\n정의: 도로구간마다 부여된 이름\\n선정근거_출처: 도로명주소법\\n선정근거_세부내용: 2조\\n주소지식모델 포함여부: 포함\\n주소지식모델정의: 도로참조체계를 따르는 도로명주소(동)의 주소구성요소 중의 하나로 도로구간마다 부여된 이름\\n유사용어:')]"
      ]
     },
     "execution_count": 26,
     "metadata": {},
     "output_type": "execute_result"
    }
   ],
   "source": [
    "query = \"도로명을 구분하는 코드가 존재하는가?\"\n",
    "results = multi_retriever.retrieve(query)\n",
    "top_results = results[:5]  # 상위 5개 결과 선택\n",
    "top_results"
   ]
  },
  {
   "cell_type": "code",
   "execution_count": 27,
   "metadata": {},
   "outputs": [
    {
     "data": {
      "text/plain": [
       "[Document(metadata={'row': 30, 'source': 'data/final/김지영-사물주소 부여 체계 분석 및 정책제언-2023.txt'}, page_content='사물주소 부여 체계 분석 및 정책제언: 2.1.3 AddressAlias'),\n",
       " Document(metadata={'row': 145, 'source': 'data/csv/주소용어최종정리_1123 - 업데이트_231123.csv'}, page_content='번호: 307\\n필수여부: 선택\\n준용여부: 미준용\\n용어명: 도로명주소전환\\n정의: 지번과 같이 도로명이 아닌 식별자체계를 도로명주소체계로 전환하는 것\\n선정근거_출처: 주소정보 전산체계 운영규정\\n선정근거_세부내용: 10조\\n주소지식모델 포함여부: 미포함\\n주소지식모델정의: \\n유사용어:')]"
      ]
     },
     "execution_count": 27,
     "metadata": {},
     "output_type": "execute_result"
    }
   ],
   "source": [
    "query = \"AddressAlias는 언제 사용하는지?\"\n",
    "results = multi_retriever.retrieve(query)\n",
    "top_results = results[:5]  # 상위 5개 결과 선택\n",
    "top_results"
   ]
  },
  {
   "cell_type": "code",
   "execution_count": 95,
   "metadata": {},
   "outputs": [
    {
     "data": {
      "text/plain": [
       "[(Document(metadata={'source': 'data/final/도로명주소법.txt'}, page_content='도로명주소법\\n[시행 2021. 6. 9.] [법률 제17574호, 2020. 12. 8., 전부개정]\\n행정안전부(주소생활공간과) 044-205-3567\\n\\n제1조(목적) 이 법은 도로명주소, 국가기초구역, 국가지점번호 및 사물주소의 표기ㆍ사용ㆍ관리ㆍ활용 등에 관한 사항을 규정함으로써 국민의 생활안전과 편의를 도모하고 관련 산업의 지원을 통하여 국가경쟁력 강화에 이바지함을 목적으로 한다.'),\n",
       "  0.9909842610359192),\n",
       " (Document(metadata={'source': 'data/final/도로명주소법.txt'}, page_content='도로명주소법\\n[시행 2021. 6. 9.] [법률 제17574호, 2020. 12. 8., 전부개정]\\n행정안전부(주소생활공간과) 044-205-3567\\n\\n제1조(목적) 이 법은 도로명주소, 국가기초구역, 국가지점번호 및 사물주소의 표기ㆍ사용ㆍ관리ㆍ활용 등에 관한 사항을 규정함으로써 국민의 생활안전과 편의를 도모하고 관련 산업의 지원을 통하여 국가경쟁력 강화에 이바지함을 목적으로 한다.'),\n",
       "  0.9928990602493286),\n",
       " (Document(metadata={'row': 395, 'source': 'data/csv/주소용어최종정리_1123 - 업데이트_231123.csv'}, page_content='번호: 77\\n필수여부: 필수\\n준용여부: 준용\\n용어명: 주소정책\\n정의: 국민의 생활안전과 편의를 도모하고 관련 산업의 지원을 통하여 국가경쟁력 강화에 이바지하기 위한 도로명주소의 목적을 실현하기 위한 방책들\\n선정근거_출처: 도로명주소법\\n선정근거_세부내용: 1조\\n주소지식모델 포함여부: 미포함\\n주소지식모델정의: \\n유사용어:'),\n",
       "  1.030405879020691),\n",
       " (Document(metadata={'row': 57, 'source': 'data/csv/주소용어최종정리_1123 - 업데이트_231123.csv'}, page_content='번호: 9\\n필수여부: 필수\\n준용여부: 준용\\n용어명: 공보등\\n정의: 주소정보에 관한 사항을 알리는 홈페이지 또는 그 밖의 전달매체\\n선정근거_출처: 도로명주소법 시행령\\n선정근거_세부내용: 10조\\n주소지식모델 포함여부: 미포함\\n주소지식모델정의: \\n유사용어:'),\n",
       "  1.102662205696106)]"
      ]
     },
     "execution_count": 95,
     "metadata": {},
     "output_type": "execute_result"
    }
   ],
   "source": [
    "query = \"도로명주소의 시행 목적이 뭐야?\"\n",
    "results = multi_retriever.retrieve(query)\n",
    "top_results = results[:5]  # 상위 5개 결과 선택\n",
    "top_results"
   ]
  },
  {
   "cell_type": "markdown",
   "metadata": {},
   "source": [
    "### GraphState"
   ]
  },
  {
   "cell_type": "code",
   "execution_count": 8,
   "metadata": {},
   "outputs": [],
   "source": [
    "from typing import TypedDict\n",
    "\n",
    "\n",
    "# GraphState 상태를 저장하는 용도로 사용합니다.\n",
    "class GraphState(TypedDict):\n",
    "    question: str  # 질문\n",
    "    context: str  # 문서의 검색 결과\n",
    "    answer: str  # llm이 생성한 답변\n",
    "    relevance: str  # 답변의 문서에 대한 관련성 (groundness check)"
   ]
  },
  {
   "cell_type": "markdown",
   "metadata": {},
   "source": [
    "### [NODE] Vector Retriever"
   ]
  },
  {
   "cell_type": "code",
   "execution_count": 9,
   "metadata": {},
   "outputs": [],
   "source": [
    "# 문서에서 검색하여 관련성 있는 문서를 찾습니다.\n",
    "def retrieve_document(state: GraphState) -> GraphState:\n",
    "    # Question 에 대한 문서 검색을 retriever 로 수행합니다.\n",
    "    retrieved_docs = multi_retriever.retrieve(state[\"question\"])\n",
    "    # 검색된 문서를 context 키에 저장합니다.\n",
    "    return GraphState(context=retrieved_docs[:2])"
   ]
  },
  {
   "cell_type": "code",
   "execution_count": 47,
   "metadata": {},
   "outputs": [
    {
     "data": {
      "text/plain": [
       "[Document(metadata={'source': 'data/final/양성철-도로명주소의 주소정보기반대상 등록 제도 개선 연구.txt'}, page_content='2. 건물번호 부여 및 등록 기준 \\n2.1. 법령상 건물번호 부여 기준'),\n",
       " Document(metadata={'row': 23, 'source': 'data/csv/주소용어최종정리_1123 - 업데이트_231123.csv'}, page_content='번호: 5\\n필수여부: 필수\\n준용여부: 준용\\n용어명: 건물번호\\n정의: 도로구간의 기초번호를 기준으로 건물등과 건물군에 부여된 번호\\n선정근거_출처: 도로명주소법\\n선정근거_세부내용: 2조\\n주소지식모델 포함여부: 포함\\n주소지식모델정의: 실내경로참조체계를 따르는 사물주소(안) 참조체계의 주소구성요소 중의 하나로 도로구간의 기초번호를 기준으로 건물등과 건물군에 부여된 번호\\n유사용어:')]"
      ]
     },
     "execution_count": 47,
     "metadata": {},
     "output_type": "execute_result"
    }
   ],
   "source": [
    "# multi_retriever.retrieve(\"건물번호는 어떤 규칙으로 부여돼?\")"
   ]
  },
  {
   "cell_type": "markdown",
   "metadata": {},
   "source": [
    "### [NODE] Groundness Checker\n",
    "\n",
    "* gpt4o\n",
    "* question과 retrieve한 context간을 비교"
   ]
  },
  {
   "cell_type": "code",
   "execution_count": 10,
   "metadata": {},
   "outputs": [],
   "source": [
    "# Chain을 사용하여 답변을 생성합니다.\n",
    "\n",
    "chat = ChatOpenAI(model=\"gpt-4o\", api_key=OPENAI_API_KEY)\n",
    "\n",
    "def relevance_message(context, question):\n",
    "    messages = [\n",
    "        SystemMessage(content=\"\"\"\n",
    "            너는 Query와 Document를 비교해서 ['grounded', 'notGrounded'] 둘 중 하나의 라벨을 출력하는 모델이야.\n",
    "\n",
    "            'grounded': Compare the Query and the Document. If the Document includes content that can be used to generate an answer to the Query, output the label 'grounded'.\n",
    "            'notGrounded': Compare the Query and the Document. If the Document not includes content that can be used to generate an answer to the Query, output the label 'notGrounded'.\n",
    "            \n",
    "            너의 출력은 반드시 'grounded', 'notGrounded' 중 하나여야 해. 띄어쓰기나 대소문자 구분 등 다른 형식이나 추가적인 설명 없이 오직 하나의 라벨만 출력해줘.\n",
    "        \"\"\"),\n",
    "        HumanMessage(content=f\"\"\"\n",
    "            [Document]\n",
    "            {context}\n",
    "\n",
    "            [Query]\n",
    "            {question}\n",
    "        \"\"\"),\n",
    "    ]\n",
    "    return messages\n",
    "\n",
    "def relevance_check(state: GraphState) -> GraphState:\n",
    "    messages = relevance_message(state[\"context\"], state[\"question\"])\n",
    "    response = chat.invoke(messages)\n",
    "    return GraphState(\n",
    "        relevance=response.content,\n",
    "        context=state[\"context\"],\n",
    "        answer=state[\"answer\"],\n",
    "        question=state[\"question\"],\n",
    "    )\n",
    "\n",
    "def is_relevant(state: GraphState) -> GraphState:\n",
    "    if state[\"relevance\"] == \"grounded\":\n",
    "        return \"관련성 O\"\n",
    "    elif state[\"relevance\"] == \"notGrounded\":\n",
    "        return \"관련성 X\""
   ]
  },
  {
   "cell_type": "markdown",
   "metadata": {},
   "source": [
    "### [NODE] llm answer"
   ]
  },
  {
   "cell_type": "code",
   "execution_count": 40,
   "metadata": {},
   "outputs": [],
   "source": [
    "# Chain을 사용하여 답변을 생성합니다.\n",
    "\n",
    "chat = ChatOpenAI(model=\"gpt-4o\", api_key=OPENAI_API_KEY, callbacks=[StreamingStdOutCallbackHandler()])\n",
    "\n",
    "def message(context, question):\n",
    "    messages = [\n",
    "        SystemMessage(content=\"\"\"\n",
    "            너는 Document의 정보를 반드시 활용해서 답변을 생성하는 챗봇이야. \n",
    "            이때, 답변은 Document에 정보가 있을 수도 있고, 없을 수도 있어. \n",
    "            Document의 정보로 답변을 생성할 수 있는 경우 해당 정보를 활용하고, 만약 Document의 정보로 답변을 유추조차 할 수 없는 경우, Document를 참고하지 말고 그냥 너가 생각한 답변을 생성해줘.\n",
    "            주소와 관련된 질문인 경우 최대한 Document의 답변을 기반을 참고해주고, 그렇지 않은 경우 그냥 너의 지식을 활용해줘.\n",
    "            답변에는 Document라는 단어를 사용하지 말아줘.\n",
    "            \n",
    "            답변의 끝에는 출처의 정보를 기입하는데, 출처는 Document의 'context'에 metadata의 'source'에 파일경로로 기입되어 있어. pdf, csv, md 등의 파일 이름으로만 출처를 기입해주면 돼.\n",
    "            만약 여러개의 출처가 기입되어 있는 경우 모두 알려주고, 중복되는 경우 하나만 기입해줘.\n",
    "            이때 파일명의 확장자(pdf, csv, md 등)는 기입하지 않아도 돼.\n",
    "                      \n",
    "            만약 Document를 기반으로 답변을 하지 않는 경우, 너가 생각한대로 답변을 하괴, 답변의 끝에 작성하는 출처에는 '참고한 문서에는 해당 질문에 답변할 수 있는 내용이 없습니다.' 라고 표기해줘\n",
    "        \"\"\"),\n",
    "        HumanMessage(content=f\"\"\"\n",
    "            [Document]\n",
    "            {context}\n",
    "\n",
    "            [Query]\n",
    "            {question}\n",
    "        \"\"\"),\n",
    "    ]\n",
    "    return messages\n",
    "\n",
    "def llm_answer(state: GraphState) -> GraphState:\n",
    "    messages = message(state[\"context\"], state[\"question\"])\n",
    "    response = chat.predict(messages)\n",
    "    return GraphState(\n",
    "        answer=response.content,\n",
    "        context=state[\"context\"],\n",
    "        question=state[\"question\"],\n",
    "    )"
   ]
  },
  {
   "cell_type": "code",
   "execution_count": 54,
   "metadata": {},
   "outputs": [
    {
     "data": {
      "text/plain": [
       "'Hello! How can I assist you today?'"
      ]
     },
     "execution_count": 54,
     "metadata": {},
     "output_type": "execute_result"
    }
   ],
   "source": [
    "from langchain.callbacks.base import BaseCallbackHandler\n",
    "\n",
    "class StreamHandler(BaseCallbackHandler):\n",
    "    def __init__(self, container, initial_text=\"\"):\n",
    "        self.container = container\n",
    "        self.text = initial_text\n",
    "\n",
    "    def on_llm_new_token(self, token: str, **kwargs) -> None:\n",
    "        self.text += token\n",
    "        self.container.markdown(self.text)\n",
    "    \n",
    "stream_handler = StreamHandler(st.empty())\n",
    "chat = ChatOpenAI(model=\"gpt-4o\", api_key=OPENAI_API_KEY, streaming=True, callbacks=[stream_handler])\n",
    "chat.predict('hi')"
   ]
  },
  {
   "cell_type": "code",
   "execution_count": 58,
   "metadata": {},
   "outputs": [
    {
     "name": "stdout",
     "output_type": "stream",
     "text": [
      "Hello! How can I assist you today?"
     ]
    }
   ],
   "source": [
    "from langchain.callbacks.streaming_stdout import StreamingStdOutCallbackHandler\n",
    "from langchain.chat_models import ChatOpenAI\n",
    "\n",
    "# StreamingStdOutCallbackHandler를 사용하여 실시간 출력 설정\n",
    "chat = ChatOpenAI(streaming=True, callbacks=[StreamingStdOutCallbackHandler()])\n",
    "\n",
    "# 예측 결과를 변수에 저장하지만 출력하지 않음\n",
    "result = chat.invoke(\"Hello!\")"
   ]
  },
  {
   "cell_type": "markdown",
   "metadata": {},
   "source": [
    "### Graph Relations (with nodes)"
   ]
  },
  {
   "cell_type": "code",
   "execution_count": 12,
   "metadata": {},
   "outputs": [],
   "source": [
    "from langgraph.graph import END, StateGraph\n",
    "from langgraph.checkpoint.memory import MemorySaver\n",
    "\n",
    "# langgraph.graph에서 StateGraph와 END를 가져옵니다.\n",
    "workflow = StateGraph(GraphState)\n",
    "\n",
    "# 노드들을 정의합니다.\n",
    "workflow.add_node(\"retrieve\", retrieve_document)  # 답변을 검색해오는 노드를 추가합니다.\n",
    "workflow.add_node(\"llm_answer\", llm_answer)  # 답변을 생성하는 노드를 추가합니다.\n",
    "workflow.add_node(\"relevance_check\", relevance_check)  # 답변의 문서에 대한 관련성 체크 노드를 추가합니다.\n",
    "\n",
    "# 각 노드들을 연결합니다.\n",
    "# workflow.add_edge(\"retrieve\", \"llm_answer\")  # 검색 -> 답변\n",
    "# workflow.add_edge(\"llm_answer\", \"relevance_check\")  # 답변 -> 관련성 체크\n",
    "\n",
    "workflow.add_edge(\"retrieve\", \"relevance_check\")  # 검색 -> 답변\\\n",
    "\n",
    "# 조건부 엣지를 추가합니다.\n",
    "workflow.add_conditional_edges(\n",
    "    \"relevance_check\",  # 관련성 체크 노드에서 나온 결과를 is_relevant 함수에 전달합니다.\n",
    "    is_relevant,\n",
    "    {\n",
    "        \"관련성 O\": \"llm_answer\",  # 관련성이 있으면 종료합니다.\n",
    "        \"관련성 X\": \"llm_answer\",  # 관련성이 없으면 다시 답변을 생성합니다.\n",
    "        \"확인불가\": \"llm_answer\",  # 관련성 체크 결과가 모호하다면 다시 답변을 생성합니다.\n",
    "    },\n",
    ")\n",
    "\n",
    "workflow.add_edge(\"llm_answer\", END)  # 답변 -> 종료\n",
    "\n",
    "# 시작점을 설정합니다.\n",
    "workflow.set_entry_point(\"retrieve\")\n",
    "\n",
    "# 기록을 위한 메모리 저장소를 설정합니다.\n",
    "memory = MemorySaver()\n",
    "\n",
    "# 그래프를 컴파일합니다.\n",
    "app = workflow.compile(checkpointer=memory)"
   ]
  },
  {
   "cell_type": "code",
   "execution_count": 20,
   "metadata": {},
   "outputs": [
    {
     "data": {
      "image/jpeg": "[encoded data removed]",
      "text/plain": [
       "<IPython.core.display.Image object>"
      ]
     },
     "metadata": {},
     "output_type": "display_data"
    }
   ],
   "source": [
    "from IPython.display import Image, display\n",
    "\n",
    "try:\n",
    "    display(\n",
    "        Image(app.get_graph(xray=True).draw_mermaid_png())\n",
    "    )  # 실행 가능한 객체의 그래프를 mermaid 형식의 PNG로 그려서 표시합니다. xray=True는 추가적인 세부 정보를 포함합니다.\n",
    "except:\n",
    "    # 이 부분은 추가적인 의존성이 필요하며 선택적으로 실행됩니다.\n",
    "    pass"
   ]
  },
  {
   "cell_type": "code",
   "execution_count": 43,
   "metadata": {},
   "outputs": [
    {
     "name": "stdout",
     "output_type": "stream",
     "text": [
      "Question: \t 사물주소와 관련된 체계가 존재하는가?\n",
      "Answer: \t 사물주소와 관련된 체계는 존재합니다. 관련 법령인 「도로명주소법」을 바탕으로 분석된 체계가 있으며, ISO 19160-1에 제시된 주소 개념 모델에서 주소와 연관된 클래스들을 중심으로 체계를 구성하고 있습니다. 사물주소는 도로명과 기초번호를 활용하여 건물 등이 아닌 시설물의 위치를 특정하는 정보를 의미합니다.\n",
      "Relevance: \t grounded\n"
     ]
    }
   ],
   "source": [
    "from langchain_core.runnables import RunnableConfig\n",
    "\n",
    "# recursion_limit: 최대 반복 횟수, thread_id: 실행 ID (구분용)\n",
    "config = RunnableConfig(recursion_limit=5, configurable={\"thread_id\": \"SELF-RAG\"})\n",
    "\n",
    "# GraphState 객체를 활용하여 질문을 입력합니다.\n",
    "inputs = GraphState(question=\"사물주소와 관련된 체계가 존재하는가?\")\n",
    "output = app.invoke(inputs, config=config)\n",
    "\n",
    "# 출력 결과를 확인합니다.\n",
    "print(\"Question: \\t\", output[\"question\"])\n",
    "print(\"Answer: \\t\", output[\"answer\"])\n",
    "print(\"Relevance: \\t\", output[\"relevance\"])"
   ]
  },
  {
   "cell_type": "code",
   "execution_count": 13,
   "metadata": {},
   "outputs": [
    {
     "name": "stdout",
     "output_type": "stream",
     "text": [
      "Question: \t 주소의 사전적의미와 법률적 의미를 알려줘\n",
      "Answer: \t 주소의 사전적 의미와 법률적 의미는 다음과 같습니다.\n",
      "\n",
      "### 사전적 의미\n",
      "1. **국어사전**: \n",
      "   - 사람 또는 기업이 살거나 소재하고 있는 곳\n",
      "   - 사람이 살고 있는 곳이나 기관, 회사 따위가 자리 잡고 있는 곳을 행정구역으로 나타낸 이름\n",
      "\n",
      "2. **영어사전**: \n",
      "   - 사람이나 조직이 연락 가능한 장소 (a place where a person or organization may be communicated with)\n",
      "   - 편지나 소포 등의 겉봉에 있는 배달지 (direction for delivery on the outside of an object as a letter or package)\n",
      "\n",
      "### 법률적 의미\n",
      "1. **민법**:\n",
      "   - 생활근거지 또는 사업장 소재지를 의미\n",
      "   - 생활의 근거가 되는 곳 (법 §18①)\n",
      "\n",
      "출처: 주소정보_업무편람_최종(하이퍼링크), 주소용어최종정리_1123 - 업데이트_231123\n",
      "Relevance: \t grounded\n"
     ]
    }
   ],
   "source": [
    "from langchain_core.runnables import RunnableConfig\n",
    "\n",
    "# recursion_limit: 최대 반복 횟수, thread_id: 실행 ID (구분용)\n",
    "config = RunnableConfig(recursion_limit=5, configurable={\"thread_id\": \"SELF-RAG\"})\n",
    "\n",
    "# GraphState 객체를 활용하여 질문을 입력합니다.\n",
    "inputs = GraphState(question=\"주소의 사전적의미와 법률적 의미를 알려줘\")\n",
    "output = app.invoke(inputs, config=config)\n",
    "\n",
    "# 출력 결과를 확인합니다.\n",
    "print(\"Question: \\t\", output[\"question\"])\n",
    "print(\"Answer: \\t\", output[\"answer\"])\n",
    "print(\"Relevance: \\t\", output[\"relevance\"])"
   ]
  },
  {
   "cell_type": "code",
   "execution_count": 65,
   "metadata": {},
   "outputs": [
    {
     "name": "stdout",
     "output_type": "stream",
     "text": [
      "Question: \t 네이버 지오코딩 API를 활용하는 방법은?\n",
      "Answer: \t 네이버 지오코딩 API를 활용하려면 다음과 같은 절차를 따르시면 됩니다:\n",
      "\n",
      "1. **네이버 클라우드 플랫폼에 접속**:\n",
      "   - 네이버 클라우드 플랫폼에 로그인합니다.\n",
      "   - 화면 상단의 콘솔 버튼을 클릭합니다.\n",
      "\n",
      "2. **API Key 발급**:\n",
      "   - API를 활용하기 위해 API Key를 발급받아야 합니다.\n",
      "   - 네이버 지오코딩 API Key는 네이버 클라우드 플랫폼에서 발급받을 수 있습니다.\n",
      "\n",
      "3. **API 요청 구성**:\n",
      "   - API 요청을 위해 필요한 형식에 맞춰 요청 URL을 작성해야 합니다.\n",
      "   - 요청 헤더에는 발급받은 API Key와 아이디 값을 입력합니다.\n",
      "\n",
      "4. **예시 코드**:\n",
      "   - 아래는 간단한 API 요청 예시 코드입니다.\n",
      "\n",
      "   ```python\n",
      "   import requests as re\n",
      "   import json\n",
      "   \n",
      "   # 요청 헤더에 API 키와 아이디 값 입력\n",
      "   headers = {\n",
      "       \"X-NCP-APIGW-API-KEY-ID\": \"YOUR_API_ID\",\n",
      "       \"X-NCP-APIGW-API-KEY\": \"YOUR_API_SECRET\"\n",
      "   }\n",
      "   \n",
      "   # 파라미터에는 검색할 주소 입력\n",
      "   params = {\n",
      "       \"query\": \"서울특별시 동작구 흑석로 84\",\n",
      "       \"output\": \"json\"\n",
      "   }\n",
      "   \n",
      "   # 정보 요청할 URL\n",
      "   url = \"https://naveropenapi.apigw.ntruss.com/map-geocode/v2/geocode\"\n",
      "   \n",
      "   # API 호출\n",
      "   response = re.get(url, headers=headers, params=params)\n",
      "   data = response.json()\n",
      "   \n",
      "   # 결과 출력\n",
      "   print(json.dumps(data, indent=4, ensure_ascii=False))\n",
      "   ```\n",
      "\n",
      "위의 코드를 통해 네이버 지오코딩 API를 호출하여 주소를 좌표로 변환할 수 있습니다. 필요한 API Key와 기타 설정 값들을 정확히 입력해야 정상적으로 작동합니다.\n",
      "Relevance: \t grounded\n"
     ]
    }
   ],
   "source": [
    "from langchain_core.runnables import RunnableConfig\n",
    "\n",
    "# recursion_limit: 최대 반복 횟수, thread_id: 실행 ID (구분용)\n",
    "config = RunnableConfig(recursion_limit=5, configurable={\"thread_id\": \"SELF-RAG\"})\n",
    "\n",
    "# GraphState 객체를 활용하여 질문을 입력합니다.\n",
    "inputs = GraphState(question=\"네이버 지오코딩 API를 활용하는 방법은?\")\n",
    "output = app.invoke(inputs, config=config)\n",
    "\n",
    "# 출력 결과를 확인합니다.\n",
    "print(\"Question: \\t\", output[\"question\"])\n",
    "print(\"Answer: \\t\", output[\"answer\"])\n",
    "print(\"Relevance: \\t\", output[\"relevance\"])"
   ]
  },
  {
   "cell_type": "code",
   "execution_count": 70,
   "metadata": {},
   "outputs": [
    {
     "name": "stdout",
     "output_type": "stream",
     "text": [
      "Question: \t 실내 이동경로 구간을 작성하는 방법을 알려줘\n",
      "Answer: \t 실내 이동경로 구간을 작성하는 방법은 다음과 같습니다:\n",
      "\n",
      "1. **일반원칙**:\n",
      "   - 실내 이동경로 구간은 사람의 통행을 중심으로 층 단위로 작성해야 합니다.\n",
      "   - 작성 단위마다 도로명, 건물번호, 동번호 등이 없는 경우 생략하고 층수를 함께 등록합니다.\n",
      "   - 실내 이동경로 구간은 부여가 예상되는 상세주소 출입구 또는 사물번호 기준점을 모두 연결 가능하도록 작성합니다.\n",
      "   - 건물 등의 출입구 및 내부의 수직연결점(층 간 이동과 연결되도록)과 연결되도록 작성합니다.\n",
      "\n",
      "2. **세부기준**:\n",
      "   - 하나의 층에 수직연결점이 2개 이상 있고 각 수직연결점을 주로 이용하는 상세주소 또는 사물주소 부여대상이 있는 경우, 2개 이상의 실내 이동경로 구간을 설정하고 서로 연결되도록 작성합니다.\n",
      "   - 하나의 층이 연결되지 않는 두 개의 공간으로 분리되어 각 공간에 수직연결점이 있는 경우, 각 공간에 실내 이동경로 구간을 설정합니다.\n",
      "\n",
      "3. **작성 예시**:\n",
      "   - 실내 이동경로 구간은 사람의 통행을 중심으로 층 단위의 선형으로 작성합니다.\n",
      "   - 시작지점은 사람의 이용이 많은 수직연결점을 기준으로 합니다.\n",
      "   - 타원형의 경우에는 시계 반대 방향으로 실내 이동경로 구간을 설정합니다.\n",
      "\n",
      "이와 같은 방법으로 실내 이동경로 구간을 작성하여야 합니다.\n",
      "Relevance: \t grounded\n"
     ]
    }
   ],
   "source": [
    "from langchain_core.runnables import RunnableConfig\n",
    "\n",
    "# recursion_limit: 최대 반복 횟수, thread_id: 실행 ID (구분용)\n",
    "config = RunnableConfig(recursion_limit=5, configurable={\"thread_id\": \"SELF-RAG\"})\n",
    "\n",
    "# GraphState 객체를 활용하여 질문을 입력합니다.\n",
    "inputs = GraphState(question=\"실내 이동경로 구간을 작성하는 방법을 알려줘\")\n",
    "output = app.invoke(inputs, config=config)\n",
    "\n",
    "# 출력 결과를 확인합니다.\n",
    "print(\"Question: \\t\", output[\"question\"])\n",
    "print(\"Answer: \\t\", output[\"answer\"])\n",
    "print(\"Relevance: \\t\", output[\"relevance\"])"
   ]
  },
  {
   "cell_type": "code",
   "execution_count": 13,
   "metadata": {},
   "outputs": [
    {
     "name": "stdout",
     "output_type": "stream",
     "text": [
      "Question: \t 도로명주소의 시행 목적이 뭐야?\n",
      "Answer: \t \n",
      "도로명주소법의 목적은 도로명주소, 국가기초구역, 국가지점번호 및 사물주소의 표기, 사용, 관리, 활용 등에 관한 사항을 규정함으로써 국민의 생활안전과 편의를 도모하고 관련 산업을 지원하여 국가경쟁력 강화에 이바지하는 것입니다.\n",
      "\n",
      "출처: 도로명주소법\n",
      "Relevance: \t grounded\n"
     ]
    }
   ],
   "source": [
    "from langchain_core.runnables import RunnableConfig\n",
    "\n",
    "# recursion_limit: 최대 반복 횟수, thread_id: 실행 ID (구분용)\n",
    "config = RunnableConfig(recursion_limit=5, configurable={\"thread_id\": \"SELF-RAG\"})\n",
    "\n",
    "# GraphState 객체를 활용하여 질문을 입력합니다.\n",
    "inputs = GraphState(question=\"도로명주소의 시행 목적이 뭐야?\")\n",
    "output = app.invoke(inputs, config=config)\n",
    "\n",
    "# 출력 결과를 확인합니다.\n",
    "print(\"Question: \\t\", output[\"question\"])\n",
    "print(\"Answer: \\t\", output[\"answer\"])\n",
    "print(\"Relevance: \\t\", output[\"relevance\"])"
   ]
  },
  {
   "cell_type": "code",
   "execution_count": 91,
   "metadata": {},
   "outputs": [
    {
     "name": "stdout",
     "output_type": "stream",
     "text": [
      "Question: \t 주소정보의 개념 재정립이 필요한 이유가 뭐야?\n",
      "Answer: \t 주소정보의 개념을 재정립하는 이유는 크게 두 가지입니다. 첫째, 2014년 도로명주소 전면 시행 이후 4차 산업혁명으로 인한 사회의 급격한 변화에 대응하기 위해서입니다. 둘째, 공법상 주소가 아닌 정보로서의 주소에 대한 관심과 필요성이 증가함에 따라, 다양한 연구에서 제시된 새로운 개념을 체계적으로 정리할 필요가 있기 때문입니다. 이러한 재정립은 도로명주소법의 개정을 앞두고 미래를 대비한 정교한 주소체계를 확립하는 데에 중요한 기반이 됩니다.\n",
      "\n",
      "출처: 주소체계 고도화에 따른 주소정보 개념 정립 연구.pdf\n",
      "Relevance: \t grounded\n"
     ]
    }
   ],
   "source": [
    "from langchain_core.runnables import RunnableConfig\n",
    "\n",
    "# recursion_limit: 최대 반복 횟수, thread_id: 실행 ID (구분용)\n",
    "config = RunnableConfig(recursion_limit=5, configurable={\"thread_id\": \"SELF-RAG\"})\n",
    "\n",
    "# GraphState 객체를 활용하여 질문을 입력합니다.\n",
    "inputs = GraphState(question=\"주소정보의 개념 재정립이 필요한 이유가 뭐야?\")\n",
    "output = app.invoke(inputs, config=config)\n",
    "\n",
    "# 출력 결과를 확인합니다.\n",
    "print(\"Question: \\t\", output[\"question\"])\n",
    "print(\"Answer: \\t\", output[\"answer\"])\n",
    "print(\"Relevance: \\t\", output[\"relevance\"])"
   ]
  },
  {
   "cell_type": "code",
   "execution_count": 96,
   "metadata": {},
   "outputs": [
    {
     "name": "stdout",
     "output_type": "stream",
     "text": [
      "Question: \t AddressAlias의 의미와 활용 방법을 알려줘\n",
      "Answer: \t AddressAlias는 주소를 명확하게 식별하기 위한 대체 표현 또는 별칭을 의미합니다. 이는 언어나 문화권에 따른 표기(localeAlias), 주소의 생애주기에 따라 변화된 주소 표기(lifecycleAlias), 비공식적 또는 구어체 표기(colloquialAlias), 그리고 AddressClass의 표기(classAlias) 등에 적용될 수 있습니다. 여러 별칭이 존재할 경우, 선호도(preferenceLevel)에 따라 우선순위를 나타낼 수 있습니다. 예를 들어, 한국의 주소 클래스는 도로명 주소와 지번 주소로 구분될 수 있습니다.\n",
      "\n",
      "출처: ISO 19160-1-2015 개념모델에 대한 분석과 이해, 김지영-양성청-도로명주소법 개정에 대비한 표준기반 사물주소 정의\n",
      "Relevance: \t grounded\n"
     ]
    }
   ],
   "source": [
    "from langchain_core.runnables import RunnableConfig\n",
    "\n",
    "# recursion_limit: 최대 반복 횟수, thread_id: 실행 ID (구분용)\n",
    "config = RunnableConfig(recursion_limit=5, configurable={\"thread_id\": \"SELF-RAG\"})\n",
    "\n",
    "# GraphState 객체를 활용하여 질문을 입력합니다.\n",
    "inputs = GraphState(question=\"AddressAlias의 의미와 활용 방법을 알려줘\")\n",
    "output = app.invoke(inputs, config=config)\n",
    "\n",
    "# 출력 결과를 확인합니다.\n",
    "print(\"Question: \\t\", output[\"question\"])\n",
    "print(\"Answer: \\t\", output[\"answer\"])\n",
    "print(\"Relevance: \\t\", output[\"relevance\"])"
   ]
  },
  {
   "cell_type": "code",
   "execution_count": 97,
   "metadata": {},
   "outputs": [
    {
     "data": {
      "text/plain": [
       "[(Document(metadata={'source': 'data/final/ISO 19160-1-2015 개념모델에 대한 분석과 이해.txt'}, page_content='AddressAlias 클래스는 주소를 명확하게 식별하기 위한 대체 표현 또는 별칭을 표현한다. 이 클래스는 언어나 문화권 에 따른 표기(localeAlias), 주소의 생애주기에 따라 변화된 주소 표기(lifecycleAlias), 주소의 비공식적 또는 구어체에 표기(colloquialAlias), AddressClass의 표기(classAlias) 에 적용할 수 있다. AddressClass 클래스는 동일한 주소구 성요소, 관계, 의미를 공유하는 주소 집합을 의미하고, 주소의 유형에따라확장될수있다. 예를들어, 한국의 주소클래스는 도로명주소와 지번주소로 구분할 수 있다. 별칭이 여러 개인 경우, 선호도(preferenceLevel)에 따라 우선순위를 나타 낼 수 있다.'),\n",
       "  0.6787415615843314),\n",
       " (Document(metadata={'source': 'data/final/김지영-양성청-도로명주소법 개정에 대비한 표준기반 사물주소 정의.txt'}, page_content='또한 동일한 주소부여대상을 명확하게 확인하기 위하여 주소들은 AddressAlias(주소 별칭)으로 참조된다. 표준에서는 두 개의 도로 모퉁이에 접하는 하나의 건물 이 각 도로마다 출입구가 있어 출입구마다 주소가 부여된 건물을 예로 들고 있다.'),\n",
       "  0.822756826877594)]"
      ]
     },
     "execution_count": 97,
     "metadata": {},
     "output_type": "execute_result"
    }
   ],
   "source": [
    "output['context']"
   ]
  },
  {
   "cell_type": "code",
   "execution_count": 89,
   "metadata": {},
   "outputs": [
    {
     "data": {
      "text/plain": [
       "'data/final/주소정보_업무편람_최종(하이퍼링크).pdf'"
      ]
     },
     "execution_count": 89,
     "metadata": {},
     "output_type": "execute_result"
    }
   ],
   "source": [
    "output['context'][1][0].metadata['source']"
   ]
  },
  {
   "cell_type": "code",
   "execution_count": 98,
   "metadata": {},
   "outputs": [
    {
     "name": "stdout",
     "output_type": "stream",
     "text": [
      "Question: \t python에서 pandas를 활용하여 csv 파일을 읽는 방법과 예시를 알려줘\n",
      "Answer: \t Python에서 pandas 라이브러리를 사용하여 CSV 파일을 읽는 방법은 매우 간단합니다. pandas의 `read_csv` 함수를 사용하면 됩니다. 아래는 예시 코드입니다:\n",
      "\n",
      "```python\n",
      "import pandas as pd\n",
      "\n",
      "# CSV 파일 읽기\n",
      "df = pd.read_csv('sample.csv')\n",
      "\n",
      "# 데이터 형태 파악하기\n",
      "print(df.shape)\n",
      "\n",
      "# 데이터의 첫 5행 출력\n",
      "print(df.head(5))\n",
      "```\n",
      "\n",
      "위 코드에서는 `sample.csv` 파일을 읽어와 데이터프레임 `df`에 저장합니다. 그런 다음, `df.shape`을 사용하여 데이터의 형태(행과 열의 수)를 출력하고, `df.head(5)`을 사용하여 데이터의 첫 5행을 출력합니다.\n",
      "\n",
      "출처: chapter-7-6, chapter-4-5\n",
      "Relevance: \t grounded\n"
     ]
    }
   ],
   "source": [
    "from langchain_core.runnables import RunnableConfig\n",
    "\n",
    "# recursion_limit: 최대 반복 횟수, thread_id: 실행 ID (구분용)\n",
    "config = RunnableConfig(recursion_limit=5, configurable={\"thread_id\": \"SELF-RAG\"})\n",
    "\n",
    "# GraphState 객체를 활용하여 질문을 입력합니다.\n",
    "inputs = GraphState(question=\"python에서 pandas를 활용하여 csv 파일을 읽는 방법과 예시를 알려줘\")\n",
    "output = app.invoke(inputs, config=config)\n",
    "\n",
    "# 출력 결과를 확인합니다.\n",
    "print(\"Question: \\t\", output[\"question\"])\n",
    "print(\"Answer: \\t\", output[\"answer\"])\n",
    "print(\"Relevance: \\t\", output[\"relevance\"])"
   ]
  },
  {
   "cell_type": "code",
   "execution_count": 99,
   "metadata": {},
   "outputs": [
    {
     "name": "stdout",
     "output_type": "stream",
     "text": [
      "Question: \t 미키마우스는 누가 만들었어?\n",
      "Answer: \t 미키마우스는 월트 디즈니와 애브 아이웍스가 공동으로 만든 캐릭터입니다. 미키마우스는 1928년에 처음 등장했습니다.\n",
      "Relevance: \t notGrounded\n"
     ]
    }
   ],
   "source": [
    "from langchain_core.runnables import RunnableConfig\n",
    "\n",
    "# recursion_limit: 최대 반복 횟수, thread_id: 실행 ID (구분용)\n",
    "config = RunnableConfig(recursion_limit=5, configurable={\"thread_id\": \"SELF-RAG\"})\n",
    "\n",
    "# GraphState 객체를 활용하여 질문을 입력합니다.\n",
    "inputs = GraphState(question=\"미키마우스는 누가 만들었어?\")\n",
    "output = app.invoke(inputs, config=config)\n",
    "\n",
    "# 출력 결과를 확인합니다.\n",
    "print(\"Question: \\t\", output[\"question\"])\n",
    "print(\"Answer: \\t\", output[\"answer\"])\n",
    "print(\"Relevance: \\t\", output[\"relevance\"])"
   ]
  },
  {
   "cell_type": "code",
   "execution_count": 100,
   "metadata": {},
   "outputs": [
    {
     "name": "stdout",
     "output_type": "stream",
     "text": [
      "Question: \t KPOP 가수 5명만 말해줘\n",
      "Answer: \t KPOP 가수 5명은 다음과 같습니다:\n",
      "\n",
      "1. BTS (방탄소년단)\n",
      "2. BLACKPINK\n",
      "3. EXO\n",
      "4. TWICE\n",
      "5. Red Velvet\n",
      "Relevance: \t notGrounded\n"
     ]
    }
   ],
   "source": [
    "from langchain_core.runnables import RunnableConfig\n",
    "\n",
    "# recursion_limit: 최대 반복 횟수, thread_id: 실행 ID (구분용)\n",
    "config = RunnableConfig(recursion_limit=5, configurable={\"thread_id\": \"SELF-RAG\"})\n",
    "\n",
    "# GraphState 객체를 활용하여 질문을 입력합니다.\n",
    "inputs = GraphState(question=\"KPOP 가수 5명만 말해줘\")\n",
    "output = app.invoke(inputs, config=config)\n",
    "\n",
    "# 출력 결과를 확인합니다.\n",
    "print(\"Question: \\t\", output[\"question\"])\n",
    "print(\"Answer: \\t\", output[\"answer\"])\n",
    "print(\"Relevance: \\t\", output[\"relevance\"])"
   ]
  },
  {
   "cell_type": "code",
   "execution_count": 16,
   "metadata": {},
   "outputs": [
    {
     "name": "stdout",
     "output_type": "stream",
     "text": [
      "Question: \t 한국에서 가장 유명한 사람은 누구야?\n",
      "Answer: \t 한국에서 가장 유명한 사람을 한 명으로 꼽기는 어렵지만, 세계적으로 잘 알려진 인물 중에는 방탄소년단(BTS)의 멤버들이나, 축구선수 손흥민, 그리고 과거에는 유엔 사무총장을 역임한 반기문 등이 있습니다. \n",
      "\n",
      "참고한 문서에는 해당 질문에 답변할 수 있는 내용이 없습니다.\n",
      "Relevance: \t notGrounded\n"
     ]
    }
   ],
   "source": [
    "from langchain_core.runnables import RunnableConfig\n",
    "\n",
    "# recursion_limit: 최대 반복 횟수, thread_id: 실행 ID (구분용)\n",
    "config = RunnableConfig(recursion_limit=5, configurable={\"thread_id\": \"SELF-RAG\"})\n",
    "\n",
    "# GraphState 객체를 활용하여 질문을 입력합니다.\n",
    "inputs = GraphState(question=\"한국에서 가장 유명한 사람은 누구야?\")\n",
    "output = app.invoke(inputs, config=config)\n",
    "\n",
    "# 출력 결과를 확인합니다.\n",
    "print(\"Question: \\t\", output[\"question\"])\n",
    "print(\"Answer: \\t\", output[\"answer\"])\n",
    "print(\"Relevance: \\t\", output[\"relevance\"])"
   ]
  },
  {
   "cell_type": "code",
   "execution_count": 18,
   "metadata": {},
   "outputs": [
    {
     "name": "stdout",
     "output_type": "stream",
     "text": [
      "Question: \t 국가기초구역의 부여 기준에 대해서 설명해줘\n",
      "Answer: \t 국가기초구역의 부여 기준은 다음과 같습니다:\n",
      "\n",
      "1. **국가기초구역 번호 사용 범위**:\n",
      "   - 특별자치시, 특별자치도 및 시·군·구 별로 배정된 국가기초구역번호의 사용 범위가 고려됩니다.\n",
      "\n",
      "2. **인구수와 사업체 종사자 수**:\n",
      "   - 「통계법」에 따라 공표된 인구수와 사업체 종사자의 수를 기준으로 합니다.\n",
      "\n",
      "3. **주민등록표에 등록된 주민의 수**:\n",
      "   - 「주민등록법」에 따라 주민등록표에 등록된 주민의 수가 고려됩니다.\n",
      "\n",
      "4. **건물등의 용도별 분포**:\n",
      "   - 행정안전부령으로 정하는 건물등의 용도별 분포를 고려합니다.\n",
      "     - 공동주택인 주거용 건물등\n",
      "     - 공동주택이 아닌 주거용 건물등\n",
      "     - 상업용 건물등\n",
      "     - 공업용 건물등\n",
      "     - 그 밖의 용도의 건물등\n",
      "\n",
      "5. **용도지역의 범위**:\n",
      "   - 「국토의 계획 및 이용에 관한 법률」에 따른 용도지역의 범위가 고려됩니다.\n",
      "\n",
      "6. **기타 구역의 범위**:\n",
      "   - 통계구역, 우편구역 및 관할구역 등 다른 법률에 따라 일반에 공표하는 각종 구역의 범위가 고려됩니다.\n",
      "\n",
      "7. **기타 필요한 사항**:\n",
      "   - 그 밖에 행정안전부장관이 필요하다고 인정하는 사항들이 고려됩니다.\n",
      "\n",
      "출처: [1018] 주소정보_업무편람_최종(하이퍼링크)\n",
      "Relevance: \t grounded\n"
     ]
    }
   ],
   "source": [
    "from langchain_core.runnables import RunnableConfig\n",
    "\n",
    "# recursion_limit: 최대 반복 횟수, thread_id: 실행 ID (구분용)\n",
    "config = RunnableConfig(recursion_limit=5, configurable={\"thread_id\": \"SELF-RAG\"})\n",
    "\n",
    "# GraphState 객체를 활용하여 질문을 입력합니다.\n",
    "inputs = GraphState(question=\"국가기초구역의 부여 기준에 대해서 설명해줘\")\n",
    "output = app.invoke(inputs, config=config)\n",
    "\n",
    "# 출력 결과를 확인합니다.\n",
    "print(\"Question: \\t\", output[\"question\"])\n",
    "print(\"Answer: \\t\", output[\"answer\"])\n",
    "print(\"Relevance: \\t\", output[\"relevance\"])"
   ]
  },
  {
   "cell_type": "code",
   "execution_count": 21,
   "metadata": {},
   "outputs": [
    {
     "name": "stdout",
     "output_type": "stream",
     "text": [
      "Question: \t 더운 여름에는 어떤 음식을 먹는게 좋을까?\n",
      "Answer: \t 더운 여름에는 체온을 낮추고 수분을 보충할 수 있는 음식이 좋습니다. 대표적으로는 수박, 오이, 토마토와 같은 과일과 채소가 있습니다. 또한, 콩국수, 냉면, 빙수와 같은 시원한 음식도 추천됩니다. 수분 섭취를 위해 물을 자주 마시는 것도 중요합니다.\n",
      "\n",
      "참고한 문서에는 해당 질문에 답변할 수 있는 내용이 없습니다.\n",
      "Relevance: \t notGrounded\n"
     ]
    }
   ],
   "source": [
    "from langchain_core.runnables import RunnableConfig\n",
    "\n",
    "# recursion_limit: 최대 반복 횟수, thread_id: 실행 ID (구분용)\n",
    "config = RunnableConfig(recursion_limit=5, configurable={\"thread_id\": \"SELF-RAG\"})\n",
    "\n",
    "# GraphState 객체를 활용하여 질문을 입력합니다.\n",
    "inputs = GraphState(question=\"더운 여름에는 어떤 음식을 먹는게 좋을까?\")\n",
    "output = app.invoke(inputs, config=config)\n",
    "\n",
    "# 출력 결과를 확인합니다.\n",
    "print(\"Question: \\t\", output[\"question\"])\n",
    "print(\"Answer: \\t\", output[\"answer\"])\n",
    "print(\"Relevance: \\t\", output[\"relevance\"])"
   ]
  },
  {
   "cell_type": "code",
   "execution_count": 25,
   "metadata": {},
   "outputs": [
    {
     "name": "stdout",
     "output_type": "stream",
     "text": [
      "Question: \t 도로명주소의 사전적 정의에 대해서 알려줘\n",
      "Answer: \t 도로명주소는 도로를 중심으로 건물에 번호를 부여하여 주소를 구성한 것으로, 기존의 지번주소와 달리 도로와 건물 번호를 중심으로 주소를 설정합니다. 이는 길 찾기와 위치 파악을 더 쉽게 하기 위해 도입되었습니다.\n",
      "\n",
      "참고한 문서에는 해당 질문에 답변할 수 있는 내용이 없습니다.\n",
      "Relevance: \t grounded\n"
     ]
    }
   ],
   "source": [
    "from langchain_core.runnables import RunnableConfig\n",
    "\n",
    "# recursion_limit: 최대 반복 횟수, thread_id: 실행 ID (구분용)\n",
    "config = RunnableConfig(recursion_limit=5, configurable={\"thread_id\": \"SELF-RAG\"})\n",
    "\n",
    "# GraphState 객체를 활용하여 질문을 입력합니다.\n",
    "inputs = GraphState(question=\"도로명주소의 사전적 정의에 대해서 알려줘\")\n",
    "output = app.invoke(inputs, config=config)\n",
    "\n",
    "# 출력 결과를 확인합니다.\n",
    "print(\"Question: \\t\", output[\"question\"])\n",
    "print(\"Answer: \\t\", output[\"answer\"])\n",
    "print(\"Relevance: \\t\", output[\"relevance\"])"
   ]
  },
  {
   "cell_type": "code",
   "execution_count": 29,
   "metadata": {},
   "outputs": [
    {
     "ename": "SyntaxError",
     "evalue": "invalid syntax (757837801.py, line 3)",
     "output_type": "error",
     "traceback": [
      "\u001b[0;36m  Cell \u001b[0;32mIn[29], line 3\u001b[0;36m\u001b[0m\n\u001b[0;31m    '0':\"ChatMessage(content='hi', role='user')\"\u001b[0m\n\u001b[0m       ^\u001b[0m\n\u001b[0;31mSyntaxError\u001b[0m\u001b[0;31m:\u001b[0m invalid syntax\n"
     ]
    }
   ],
   "source": [
    "tmp = {\n",
    "        \"messages\":[\n",
    "        0:\"ChatMessage(content='hi', role='user')\"\n",
    "        1:\"ChatMessage(content='hi', role='user')\"\n",
    "        2:\"ChatMessage(content='안녕하세요! 무엇을 도와드릴까요? \\n\\n참고한 문서에는 해당 질문에 답변할 수 있는 내용이 없습니다.', role='assistant')\"\n",
    "        ],\n",
    "        \"query\":\"hi\",\n",
    "        \"langchain_api_key\":\"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\",\n",
    "        \"openai_api_key\":\"sk-proj-DcD60ITlwpnUTq25ywRbT3BlbkFJKdEZ4ilHkSK4EUDPpLTp\",\n",
    "        \"langchain_messages\":[]\n",
    "        }"
   ]
  },
  {
   "cell_type": "code",
   "execution_count": 30,
   "metadata": {},
   "outputs": [],
   "source": [
    "inputs = GraphState(question=\"도로명주소를 만든 곳은?\")\n",
    "output = app.invoke(inputs, config=config)"
   ]
  },
  {
   "cell_type": "code",
   "execution_count": 31,
   "metadata": {},
   "outputs": [
    {
     "data": {
      "text/plain": [
       "\"도로명주소는 2005년 8월 16일 마련된 '도로명사업의 혁신방안'을 통해 도입되었으며, 이를 위해 2006년 10월 4일에 '도로명주소 등 표기에 관한 법률'이 제정되었습니다. 또한, 2007년 1월에는 행정자치부 지방재정세제본부에 '새주소정책팀'이 신설되어 도로명주소 도입을 위한 기반을 마련했습니다.\\n\\n출처: 주소정보_업무편람_최종(하이퍼링크)\""
      ]
     },
     "execution_count": 31,
     "metadata": {},
     "output_type": "execute_result"
    }
   ],
   "source": [
    "output['answer']"
   ]
  },
  {
   "cell_type": "code",
   "execution_count": 32,
   "metadata": {},
   "outputs": [],
   "source": [
    "inputs = GraphState(question=\"언제부터 시행됐을까?\")\n",
    "output = app.invoke(inputs, config=config)"
   ]
  },
  {
   "cell_type": "code",
   "execution_count": 33,
   "metadata": {},
   "outputs": [
    {
     "data": {
      "text/plain": [
       "'해당 규정은 고시한 날부터 시행되었습니다.\\n\\n출처: 주소정보_업무편람_최종(하이퍼링크), 도로명주소법'"
      ]
     },
     "execution_count": 33,
     "metadata": {},
     "output_type": "execute_result"
    }
   ],
   "source": [
    "output['answer']"
   ]
  },
  {
   "cell_type": "code",
   "execution_count": 34,
   "metadata": {},
   "outputs": [
    {
     "data": {
      "text/plain": [
       "'고시한 날에 대한 정보는 제공된 문서에 포함되어 있지 않습니다.\\n\\n참고한 문서에는 해당 질문에 답변할 수 있는 내용이 없습니다.'"
      ]
     },
     "execution_count": 34,
     "metadata": {},
     "output_type": "execute_result"
    }
   ],
   "source": [
    "inputs = GraphState(question=\"고시한 날이 언제인데?\")\n",
    "output = app.invoke(inputs, config=config)\n",
    "output['answer']"
   ]
  },
  {
   "cell_type": "code",
   "execution_count": null,
   "metadata": {},
   "outputs": [],
   "source": []
  }
 ],
 "metadata": {
  "kernelspec": {
   "display_name": "env",
   "language": "python",
   "name": "python3"
  },
  "language_info": {
   "codemirror_mode": {
    "name": "ipython",
    "version": 3
   },
   "file_extension": ".py",
   "mimetype": "text/x-python",
   "name": "python",
   "nbconvert_exporter": "python",
   "pygments_lexer": "ipython3",
   "version": "3.11.9"
  }
 },
 "nbformat": 4,
 "nbformat_minor": 2
}
