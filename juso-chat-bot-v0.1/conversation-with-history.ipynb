{
 "cells": [
  {
   "cell_type": "markdown",
   "metadata": {},
   "source": [
    "https://github.com/teddylee777/langchain-kr/blob/main/12-RAG/03-Conversation-With-History.ipynb"
   ]
  },
  {
   "cell_type": "code",
   "execution_count": 1,
   "metadata": {},
   "outputs": [
    {
     "data": {
      "text/plain": [
       "True"
      ]
     },
     "execution_count": 1,
     "metadata": {},
     "output_type": "execute_result"
    }
   ],
   "source": [
    "# API KEY를 환경변수로 관리하기 위한 설정 파일\n",
    "from dotenv import load_dotenv\n",
    "\n",
    "# API KEY 정보로드\n",
    "load_dotenv()"
   ]
  },
  {
   "cell_type": "code",
   "execution_count": 2,
   "metadata": {},
   "outputs": [
    {
     "name": "stdout",
     "output_type": "stream",
     "text": [
      "LangSmith 추적을 시작합니다.\n",
      "[프로젝트명]\n",
      "240722\n"
     ]
    }
   ],
   "source": [
    "# LangSmith 추적을 설정합니다. https://smith.langchain.com\n",
    "# !pip install langchain-teddynote\n",
    "from langchain_teddynote import logging\n",
    "\n",
    "# 프로젝트 이름을 입력합니다.\n",
    "logging.langsmith(\"240722\")"
   ]
  },
  {
   "cell_type": "code",
   "execution_count": 3,
   "metadata": {},
   "outputs": [],
   "source": [
    "from langchain_text_splitters import RecursiveCharacterTextSplitter\n",
    "from langchain_community.document_loaders import PDFPlumberLoader\n",
    "from langchain_community.vectorstores import FAISS\n",
    "from langchain_core.output_parsers import StrOutputParser\n",
    "from langchain_core.prompts import PromptTemplate\n",
    "from langchain_openai import ChatOpenAI, OpenAIEmbeddings\n",
    "from langchain_community.chat_message_histories import ChatMessageHistory\n",
    "from langchain_core.runnables.history import RunnableWithMessageHistory\n",
    "from langchain_openai import ChatOpenAI\n",
    "from langchain_core.output_parsers import StrOutputParser\n",
    "from langchain.chains.transform import TransformChain\n",
    "from operator import itemgetter"
   ]
  },
  {
   "cell_type": "code",
   "execution_count": 4,
   "metadata": {},
   "outputs": [
    {
     "data": {
      "text/plain": [
       "[Collection(name=49_files_openai_3072),\n",
       " Collection(name=12_files_openai_3072),\n",
       " Collection(name=csv_files_openai_3072)]"
      ]
     },
     "execution_count": 4,
     "metadata": {},
     "output_type": "execute_result"
    }
   ],
   "source": [
    "## 컬렉션 생성/연결하기\n",
    "import chromadb\n",
    "client = chromadb.PersistentClient('chroma/')\n",
    "client.list_collections()"
   ]
  },
  {
   "cell_type": "code",
   "execution_count": 6,
   "metadata": {},
   "outputs": [],
   "source": [
    "from langchain.embeddings.openai import OpenAIEmbeddings\n",
    "from langchain.vectorstores import Chroma\n",
    "\n",
    "class MultiCollectionRetriever:\n",
    "    def __init__(self, client, collection_names, embedding_function, search_kwargs={\"k\": 2}):\n",
    "        self.collections = [\n",
    "            Chroma(client=client, collection_name=name, embedding_function=embedding_function)\n",
    "            for name in collection_names\n",
    "        ]\n",
    "        self.search_kwargs = search_kwargs\n",
    "\n",
    "    def retrieve(self, query):\n",
    "        results = []\n",
    "        for collection in self.collections:\n",
    "            # 각 컬렉션에서 유사도 검색 수행\n",
    "            documents_with_scores = collection.similarity_search_with_score(query, **self.search_kwargs)\n",
    "            results.extend(documents_with_scores)\n",
    "        \n",
    "        # 유사도 점수를 기준으로 결과 정렬 (score가 높을수록 유사도가 높음)\n",
    "        results.sort(key=lambda x: x[1], reverse=False)\n",
    "\n",
    "        documents = [(doc, score) for doc, score in results]\n",
    "        return documents\n",
    "\n",
    "# 사용 예시\n",
    "client = chromadb.PersistentClient('chroma/')\n",
    "collection_names = [\"csv_files_openai_3072\", \"49_files_openai_3072\"]\n",
    "embedding = OpenAIEmbeddings(model='text-embedding-3-large') \n",
    "multi_retriever = MultiCollectionRetriever(client, collection_names, embedding)"
   ]
  },
  {
   "cell_type": "code",
   "execution_count": null,
   "metadata": {},
   "outputs": [],
   "source": [
    "# Chain을 사용하여 답변을 생성합니다.\n",
    "\n",
    "chat = ChatOpenAI(model=\"gpt-4o\", api_key=OPENAI_API_KEY, callbacks=[StreamingStdOutCallbackHandler()])\n",
    "\n",
    "def message(context, question):\n",
    "    messages = [\n",
    "        SystemMessage(content=\"\"\"\n",
    "            너는 Document의 정보를 반드시 활용해서 답변을 생성하는 챗봇이야. \n",
    "            이때, 답변은 Document에 정보가 있을 수도 있고, 없을 수도 있어. \n",
    "            Document의 정보로 답변을 생성할 수 있는 경우 해당 정보를 활용하고, 만약 Document의 정보로 답변을 유추조차 할 수 없는 경우, Document를 참고하지 말고 그냥 너가 생각한 답변을 생성해줘.\n",
    "            주소와 관련된 질문인 경우 최대한 Document의 답변을 기반을 참고해주고, 그렇지 않은 경우 그냥 너의 지식을 활용해줘.\n",
    "            답변에는 Document라는 단어를 사용하지 말아줘.\n",
    "            \n",
    "            답변의 끝에는 출처의 정보를 기입하는데, 출처는 Document의 'context'에 metadata의 'source'에 파일경로로 기입되어 있어. pdf, csv, md 등의 파일 이름으로만 출처를 기입해주면 돼.\n",
    "            만약 여러개의 출처가 기입되어 있는 경우 모두 알려주고, 중복되는 경우 하나만 기입해줘.\n",
    "            이때 파일명의 확장자(pdf, csv, md 등)는 기입하지 않아도 돼.\n",
    "                      \n",
    "            만약 Document를 기반으로 답변을 하지 않는 경우, 너가 생각한대로 답변을 하괴, 답변의 끝에 작성하는 출처에는 '참고한 문서에는 해당 질문에 답변할 수 있는 내용이 없습니다.' 라고 표기해줘\n",
    "        \"\"\"),\n",
    "        HumanMessage(content=f\"\"\"\n",
    "            [Document]\n",
    "            {context}\n",
    "\n",
    "            [Query]\n",
    "            {question}\n",
    "        \"\"\"),\n",
    "    ]\n",
    "    return messages\n"
   ]
  },
  {
   "cell_type": "code",
   "execution_count": null,
   "metadata": {},
   "outputs": [],
   "source": [
    "query = \"\"\n",
    "retrieved_docs = multi_retriever.retrieve(query)\n",
    "messages = message(retrieved_docs, query)\n",
    "response = chat.predict(messages)\n",
    "response"
   ]
  },
  {
   "cell_type": "code",
   "execution_count": 18,
   "metadata": {},
   "outputs": [
    {
     "ename": "TypeError",
     "evalue": "MultiCollectionRetriever.retrieve() missing 1 required positional argument: 'query'",
     "output_type": "error",
     "traceback": [
      "\u001b[0;31m---------------------------------------------------------------------------\u001b[0m",
      "\u001b[0;31mTypeError\u001b[0m                                 Traceback (most recent call last)",
      "Cell \u001b[0;32mIn[18], line 34\u001b[0m\n\u001b[1;32m      2\u001b[0m prompt \u001b[38;5;241m=\u001b[39m PromptTemplate\u001b[38;5;241m.\u001b[39mfrom_template(\n\u001b[1;32m      3\u001b[0m \u001b[38;5;250m    \u001b[39m\u001b[38;5;124;03m\"\"\"\u001b[39;00m\n\u001b[1;32m      4\u001b[0m \u001b[38;5;124;03m                너는 Document의 정보를 반드시 활용해서 답변을 생성하는 챗봇이야. \u001b[39;00m\n\u001b[0;32m   (...)\u001b[0m\n\u001b[1;32m     26\u001b[0m \u001b[38;5;124;03m            #Answer:\"\"\"\u001b[39;00m\n\u001b[1;32m     27\u001b[0m             )\n\u001b[1;32m     30\u001b[0m llm \u001b[38;5;241m=\u001b[39m ChatOpenAI(model_name\u001b[38;5;241m=\u001b[39m\u001b[38;5;124m\"\u001b[39m\u001b[38;5;124mgpt-4o\u001b[39m\u001b[38;5;124m\"\u001b[39m, temperature\u001b[38;5;241m=\u001b[39m\u001b[38;5;241m0\u001b[39m)\n\u001b[1;32m     32\u001b[0m chain \u001b[38;5;241m=\u001b[39m (\n\u001b[1;32m     33\u001b[0m     {\n\u001b[0;32m---> 34\u001b[0m         \u001b[38;5;124m\"\u001b[39m\u001b[38;5;124mcontext\u001b[39m\u001b[38;5;124m\"\u001b[39m: itemgetter(\u001b[38;5;124m\"\u001b[39m\u001b[38;5;124mquestion\u001b[39m\u001b[38;5;124m\"\u001b[39m) \u001b[38;5;241m|\u001b[39m \u001b[43mmulti_retriever\u001b[49m\u001b[38;5;241;43m.\u001b[39;49m\u001b[43mretrieve\u001b[49m\u001b[43m(\u001b[49m\u001b[43m)\u001b[49m,\n\u001b[1;32m     35\u001b[0m         \u001b[38;5;124m\"\u001b[39m\u001b[38;5;124mquestion\u001b[39m\u001b[38;5;124m\"\u001b[39m: itemgetter(\u001b[38;5;124m\"\u001b[39m\u001b[38;5;124mquestion\u001b[39m\u001b[38;5;124m\"\u001b[39m),\n\u001b[1;32m     36\u001b[0m         \u001b[38;5;124m\"\u001b[39m\u001b[38;5;124mchat_history\u001b[39m\u001b[38;5;124m\"\u001b[39m: itemgetter(\u001b[38;5;124m\"\u001b[39m\u001b[38;5;124mchat_history\u001b[39m\u001b[38;5;124m\"\u001b[39m),\n\u001b[1;32m     37\u001b[0m     }\n\u001b[1;32m     38\u001b[0m     \u001b[38;5;241m|\u001b[39m prompt\n\u001b[1;32m     39\u001b[0m     \u001b[38;5;241m|\u001b[39m llm\n\u001b[1;32m     40\u001b[0m     \u001b[38;5;241m|\u001b[39m StrOutputParser()\n\u001b[1;32m     41\u001b[0m )\n",
      "\u001b[0;31mTypeError\u001b[0m: MultiCollectionRetriever.retrieve() missing 1 required positional argument: 'query'"
     ]
    }
   ],
   "source": [
    "# 프롬프트를 생성합니다.\n",
    "prompt = PromptTemplate.from_template(\n",
    "    \"\"\"\n",
    "                너는 Document의 정보를 반드시 활용해서 답변을 생성하는 챗봇이야. \n",
    "            이때, 답변은 Document에 정보가 있을 수도 있고, 없을 수도 있어. \n",
    "            Document의 정보로 답변을 생성할 수 있는 경우 해당 정보를 활용하고, 만약 Document의 정보로 답변을 유추조차 할 수 없는 경우, Document를 참고하지 말고 그냥 너가 생각한 답변을 생성해줘.\n",
    "            주소와 관련된 질문인 경우 최대한 Document의 답변을 기반을 참고해주고, 그렇지 않은 경우 그냥 너의 지식을 활용해줘.\n",
    "            답변에는 Document라는 단어를 사용하지 말아줘.\n",
    "            \n",
    "            답변의 끝에는 출처의 정보를 기입하는데, 출처는 Document의 'context'에 metadata의 'source'에 파일경로로 기입되어 있어. pdf, csv, md 등의 파일 이름으로만 출처를 기입해주면 돼.\n",
    "            만약 여러개의 출처가 기입되어 있는 경우 모두 알려주고, 중복되는 경우 하나만 기입해줘.\n",
    "            이때 파일명의 확장자(pdf, csv, md 등)는 기입하지 않아도 돼.\n",
    "                      \n",
    "            만약 Document를 기반으로 답변을 하지 않는 경우, 너가 생각한대로 답변을 하괴, 답변의 끝에 작성하는 출처에는 '참고한 문서에는 해당 질문에 답변할 수 있는 내용이 없습니다.' 라고 표기해줘\n",
    "    \n",
    "\n",
    "            #Previous Chat History:\n",
    "            {chat_history}\n",
    "\n",
    "            #Question: \n",
    "            {question} \n",
    "\n",
    "            #Context: \n",
    "            {context} \n",
    "\n",
    "            #Answer:\"\"\"\n",
    "            )\n",
    "\n",
    "\n",
    "llm = ChatOpenAI(model_name=\"gpt-4o\", temperature=0)\n",
    "\n",
    "chain = (\n",
    "    {\n",
    "        \"context\": itemgetter(\"question\") | multi_retriever.retrieve(),\n",
    "        \"question\": itemgetter(\"question\"),\n",
    "        \"chat_history\": itemgetter(\"chat_history\"),\n",
    "    }\n",
    "    | prompt\n",
    "    | llm\n",
    "    | StrOutputParser()\n",
    ")"
   ]
  },
  {
   "cell_type": "code",
   "execution_count": null,
   "metadata": {},
   "outputs": [],
   "source": [
    "# 세션 기록을 저장할 딕셔너리\n",
    "store = {}\n",
    "\n",
    "\n",
    "# 세션 ID를 기반으로 세션 기록을 가져오는 함수\n",
    "def get_session_history(session_ids):\n",
    "    print(f\"[대화 세션ID]: {session_ids}\")\n",
    "    if session_ids not in store:  # 세션 ID가 store에 없는 경우\n",
    "        # 새로운 ChatMessageHistory 객체를 생성하여 store에 저장\n",
    "        store[session_ids] = ChatMessageHistory()\n",
    "    return store[session_ids]  # 해당 세션 ID에 대한 세션 기록 반환\n",
    "\n",
    "\n",
    "# 대화를 기록하는 RAG 체인 생성\n",
    "rag_with_history = RunnableWithMessageHistory(\n",
    "    chain,\n",
    "    get_session_history,  # 세션 기록을 가져오는 함수\n",
    "    input_messages_key=\"question\",  # 사용자의 질문이 템플릿 변수에 들어갈 key\n",
    "    history_messages_key=\"chat_history\",  # 기록 메시지의 키\n",
    ")"
   ]
  },
  {
   "cell_type": "code",
   "execution_count": null,
   "metadata": {},
   "outputs": [],
   "source": []
  }
 ],
 "metadata": {
  "kernelspec": {
   "display_name": ".venv",
   "language": "python",
   "name": "python3"
  },
  "language_info": {
   "codemirror_mode": {
    "name": "ipython",
    "version": 3
   },
   "file_extension": ".py",
   "mimetype": "text/x-python",
   "name": "python",
   "nbconvert_exporter": "python",
   "pygments_lexer": "ipython3",
   "version": "3.11.9"
  }
 },
 "nbformat": 4,
 "nbformat_minor": 2
}
