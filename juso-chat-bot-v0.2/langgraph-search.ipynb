{
 "cells": [
  {
   "cell_type": "markdown",
   "metadata": {},
   "source": [
    "# TavilySearchResults\n",
    "https://github.com/teddylee777/langchain-kr/blob/6f76b9eaede6ce115334ad40294dc264189b30e0/17-LangGraph/04-langgraph-search-or-retrieve.ipynb#L56"
   ]
  },
  {
   "cell_type": "code",
   "execution_count": 7,
   "metadata": {},
   "outputs": [],
   "source": [
    "import os\n",
    "import pprint\n",
    "from dotenv import load_dotenv\n",
    "## langsmith\n",
    "from langsmith import Client\n",
    "from langchain_teddynote import logging\n",
    "## OpenAI\n",
    "from langchain_openai import ChatOpenAI\n",
    "from langchain.schema import ChatMessage, AIMessage, HumanMessage, SystemMessage\n",
    "from langchain.embeddings.openai import OpenAIEmbeddings\n",
    "## ChromaDB\n",
    "import chromadb\n",
    "from langchain.vectorstores import Chroma\n",
    "## History\n",
    "from operator import itemgetter\n",
    "from langchain_core.prompts import PromptTemplate\n",
    "from langchain_core.runnables import RunnableConfig\n",
    "from langchain_core.output_parsers import StrOutputParser\n",
    "from langchain_core.prompts import ChatPromptTemplate, MessagesPlaceholder\n",
    "from langchain_community.chat_message_histories import ChatMessageHistory, StreamlitChatMessageHistory\n",
    "from langchain_core.runnables.history import RunnableWithMessageHistory\n",
    "## LangGraph\n",
    "from typing import TypedDict\n",
    "from langgraph.graph import END, StateGraph\n",
    "from langgraph.checkpoint.memory import MemorySaver\n",
    "from langgraph.errors import GraphRecursionError\n",
    "from langchain_community.tools.tavily_search import TavilySearchResults\n",
    "## Google Search\n",
    "from langchain_google_community import GoogleSearchAPIWrapper\n",
    "from langchain_core.tools import Tool\n",
    "## gradio\n",
    "import gradio as gr"
   ]
  },
  {
   "cell_type": "code",
   "execution_count": 8,
   "metadata": {},
   "outputs": [],
   "source": [
    "store = {}\n",
    "\n",
    "# 세션 ID를 기반으로 세션 기록을 가져오는 함수\n",
    "def get_session_history(session_ids):\n",
    "    if session_ids not in store:  # 세션 ID가 store에 없는 경우\n",
    "        # 새로운 ChatMessageHistory 객체를 생성하여 store에 저장\n",
    "        store[session_ids] = ChatMessageHistory()\n",
    "    return store[session_ids]  # 해당 세션 ID에 대한 세션 기록 반환\n",
    "    \n",
    "##############################################################################################################\n",
    "################################################Retriever#####################################################\n",
    "##############################################################################################################\n",
    "class MultiCollectionRetriever:\n",
    "    def __init__(self, client, collection_names, embedding_function, search_kwargs={\"k\": 2}):\n",
    "        self.collections = [\n",
    "            Chroma(client=client, collection_name=name, embedding_function=embedding_function)\n",
    "            for name in collection_names\n",
    "        ]\n",
    "        self.search_kwargs = search_kwargs\n",
    "\n",
    "    def retrieve(self, query):\n",
    "        results = []\n",
    "        for collection in self.collections:\n",
    "            # 각 컬렉션에서 유사도 검색 수행\n",
    "            documents_with_scores = collection.similarity_search_with_score(query, **self.search_kwargs)\n",
    "            results.extend(documents_with_scores)\n",
    "        \n",
    "        # 유사도 점수를 기준으로 결과 정렬 (score가 높을수록 유사도가 높음)\n",
    "        results.sort(key=lambda x: x[1], reverse=False)\n",
    "\n",
    "        documents = [(doc, score) for doc, score in results]\n",
    "        return documents\n",
    "\n",
    "# 사용 예시\n",
    "client = chromadb.PersistentClient('../juso-chat-bot-v0.1/chroma/')\n",
    "collection_names = [\"csv_files_openai_3072\", \"49_files_openai_3072\"]\n",
    "embedding = OpenAIEmbeddings(model='text-embedding-3-large') \n",
    "multi_retriever = MultiCollectionRetriever(client, collection_names, embedding)\n",
    "\n",
    "##############################################################################################################\n",
    "################################################GraphState####################################################\n",
    "##############################################################################################################\n",
    "# GraphState 상태를 저장하는 용도\n",
    "class GraphState(TypedDict):\n",
    "    question: str  # 질문\n",
    "    context: str  # 문서의 검색 결과\n",
    "    answer: str  # llm이 생성한 답변\n",
    "    relevance: str  # 답변의 문서에 대한 관련성 (groundness check)\n",
    "    \n",
    "##############################################################################################################\n",
    "################################################vector Retriever##############################################\n",
    "##############################################################################################################\n",
    "def retrieve_document(state: GraphState) -> GraphState:\n",
    "    # Question 에 대한 문서 검색을 retriever 로 수행합니다.\n",
    "    retrieved_docs = multi_retriever.retrieve(state[\"question\"])\n",
    "    # 검색된 문서를 context 키에 저장합니다.\n",
    "    return GraphState(context=retrieved_docs[:2])\n",
    "\n",
    "##############################################################################################################\n",
    "################################################Groundness Checker ###########################################\n",
    "##############################################################################################################\n",
    "chat = ChatOpenAI(model=\"gpt-4o\", api_key=openai_api_key)\n",
    "\n",
    "def relevance_message(context, question):\n",
    "    messages = [\n",
    "        SystemMessage(content=\"\"\"\n",
    "            너는 Query와 Document를 비교해서 ['grounded', 'notGrounded', 'notSure'] 셋 중 하나의 라벨을 출력하는 모델이야.\n",
    "\n",
    "            'grounded': Compare the Query and the Document. If the Document includes content that can be used to generate an answer to the Query, output the label 'grounded'.\n",
    "            'notGrounded': Compare the Query and the Document. If the Document not includes content that can be used to generate an answer to the Query, output the label 'notGrounded'.\n",
    "            'notSure': Compare the Query and the Document. If you cannot determine whether the Document includes content that can be used to generate an answer to the Query, output the label .notSure'.\n",
    "            \n",
    "            너의 출력은 반드시 'grounded', 'notGrounded', 'notSure' 중 하나여야 해. 띄어쓰기나 대소문자 구분 등 다른 형식이나 추가적인 설명 없이 오직 하나의 라벨만 출력해줘.\n",
    "        \"\"\"),\n",
    "        HumanMessage(content=f\"\"\"\n",
    "            [Document]\n",
    "            {context}\n",
    "\n",
    "            [Query]\n",
    "            {question}\n",
    "        \"\"\"),\n",
    "    ]\n",
    "    return messages\n",
    "\n",
    "def relevance_check(state: GraphState) -> GraphState:\n",
    "    messages = relevance_message(state[\"context\"], state[\"question\"])\n",
    "    response = chat.invoke(messages)\n",
    "    return GraphState(\n",
    "        relevance=response.content,\n",
    "        context=state[\"context\"],\n",
    "        answer=state[\"answer\"],\n",
    "        question=state[\"question\"],\n",
    "    )\n",
    "\n",
    "def is_relevant(state: GraphState) -> GraphState:\n",
    "    if state[\"relevance\"] == \"grounded\":\n",
    "        return \"grounded\"\n",
    "    elif state[\"relevance\"] == \"notGrounded\":\n",
    "        return \"notGrounded\"\n",
    "    elif state[\"relevance\"] == \"notSure\":\n",
    "        return \"notSure\"\n",
    "    \n",
    "##############################################################################################################\n",
    "################################################# Rewriter ###################################################\n",
    "##############################################################################################################  \n",
    "    \n",
    "def rewrite(state):\n",
    "    question = state[\"question\"]\n",
    "    answer = state[\"answer\"]\n",
    "    context = state[\"context\"]\n",
    "    prompt = ChatPromptTemplate.from_messages(\n",
    "        [\n",
    "            (\n",
    "                \"system\",\n",
    "                \"You are a professional prompt rewriter. Your task is to generate the question in order to get additional information that is now shown in the context.\"\n",
    "                \"Your generated question will be searched on the web to find relevant information.\",\n",
    "            ),\n",
    "            (\n",
    "                \"human\",\n",
    "                \"Rewrite the question to get additional information to get the answer.\"\n",
    "                \"\\n\\nHere is the initial question:\\n ------- \\n{question}\\n ------- \\n\"\n",
    "                \"\\n\\nHere is the initial context:\\n ------- \\n{context}\\n ------- \\n\"\n",
    "                \"\\n\\nHere is the initial answer to the question:\\n ------- \\n{answer}\\n ------- \\n\"\n",
    "                \"\\n\\nFormulate an improved question in Korean:\",\n",
    "            ),\n",
    "        ]\n",
    "    )\n",
    "\n",
    "    # Question rewriting model\n",
    "    model = ChatOpenAI(temperature=0, model=\"gpt-4o\")\n",
    "\n",
    "    chain = prompt | model | StrOutputParser()\n",
    "    response = chain.invoke(\n",
    "        {\"question\": question, \"answer\": answer, \"context\": context}\n",
    "    )\n",
    "    return GraphState(question=response)\n",
    "\n",
    "    \n",
    "##############################################################################################################\n",
    "################################################Search on Web ################################################\n",
    "##############################################################################################################  \n",
    "    \n",
    "def search_tool(query):\n",
    "    search = GoogleSearchAPIWrapper()\n",
    "    return search.results(query, 1)\n",
    "\n",
    "tool = Tool(\n",
    "    name=\"Google Search Snippets\",\n",
    "    description=\"Search Google for recent results.\",\n",
    "    func=search_tool,\n",
    ")\n",
    "\n",
    "def search_on_web(state: GraphState) -> GraphState:\n",
    "    result = tool.run(state[\"question\"])\n",
    "    return GraphState(\n",
    "        context=result,\n",
    "    )\n",
    "    \n",
    "def search_on_web(state: GraphState) -> GraphState:\n",
    "    # 문서에서 검색하여 관련성 있는 문서를 찾습니다.\n",
    "    search_tool = TavilySearchResults(max_results=5)\n",
    "    search_result = search_tool.invoke({\"query\": state[\"question\"]})\n",
    "\n",
    "    # 검색된 문서를 context 키에 저장합니다.\n",
    "    return GraphState(\n",
    "        context=search_result,\n",
    "    )\n",
    "    "
   ]
  },
  {
   "cell_type": "code",
   "execution_count": null,
   "metadata": {},
   "outputs": [],
   "source": [
    "def llm_answer(state: GraphState) -> GraphState:\n",
    "    \n",
    "    # 프롬프트를 생성합니다.\n",
    "    prompt = PromptTemplate.from_template(\n",
    "        \"\"\"\n",
    "                너는 Context의 정보를 반드시 활용해서 답변을 생성하는 챗봇이야. \n",
    "                이때, 답변은 Context에 정보가 있을 수도 있고, 없을 수도 있어. \n",
    "                Context의 정보로 답변을 생성할 수 있는 경우 해당 정보를 활용하고, 만약 Context의 정보로 답변을 유추조차 할 수 없는 경우, Context를 참고하지 말고 그냥 너가 생각한 답변을 생성해줘.\n",
    "                주소와 관련된 질문인 경우 최대한 Context의 답변을 기반을 참고해주고, 그렇지 않은 경우 그냥 너의 지식을 활용해줘.\n",
    "                답변에는 Context라는 단어를 사용하지 말아줘.\n",
    "                \n",
    "                답변의 끝에는 '출처' 혹은 '자세한 정보'를 기입해줘. 출처와 자세한 정보에 대한 내용은 다음과 같아. \n",
    "                \n",
    "                '출처'는 Context의 'context'에 metadata의 'source'에 파일경로로 기입되어 있어. pdf, csv, md 등의 파일 이름으로만 출처를 기입해주면 돼.\n",
    "                만약 여러개의 출처가 기입되어 있는 경우 모두 알려주고, 중복되는 경우 하나만 기입해줘.\n",
    "                이때 파일명의 확장자(pdf, csv, md 등)는 기입하지 않아도 돼.\n",
    "                        \n",
    "                '자세한 정보'는 Context의 [0]의 'link'에 해당하는 url이야. 반드시 'link'가 해당할 때만 해당 url을 기입하고, 너가 새로운 url을 추가하면 안돼.\n",
    "                \n",
    "                만약, 답변을 Context를 기반으로 생성하지 않는다면, 문장 끝에 '문서를 참고하지 않고 생성한 답변입니다.' 라고 기입해줘.\n",
    "\n",
    "                #Previous Chat History:\n",
    "                {chat_history}\n",
    "\n",
    "                #Question: \n",
    "                {question} \n",
    "\n",
    "                #Context: \n",
    "                {context} \n",
    "\n",
    "                #Answer:\n",
    "                \n",
    "            \"\"\"\n",
    "                )\n",
    "\n",
    "    llm = ChatOpenAI(model_name=\"gpt-4o\", temperature=0)\n",
    "    \n",
    "    # 프롬프트, 모델, 출력 파서를 체이닝합니다.\n",
    "    chain = prompt | llm | StrOutputParser()\n",
    "\n",
    "    # 대화를 기록하는 RAG 체인 생성\n",
    "    rag_with_history = RunnableWithMessageHistory(\n",
    "        chain,\n",
    "        get_session_history,  # 세션 기록을 가져오는 함수\n",
    "        input_messages_key=\"question\",  # 사용자의 질문이 템플릿 변수에 들어갈 key\n",
    "        history_messages_key=\"chat_history\",  # 기록 메시지의 키\n",
    "    )\n",
    "    \n",
    "    # 상태에서 질문과 대화 기록을 가져옵니다.\n",
    "    input_data = {\n",
    "        'question': state[\"question\"],\n",
    "        'chat_history': itemgetter(\"chat_history\"),\n",
    "        'context': state[\"context\"]\n",
    "    }\n",
    "\n",
    "    response = rag_with_history.invoke(input_data, config={\"configurable\": {\"session_id\": \"rag123\"}})\n",
    "    \n",
    "    return GraphState(\n",
    "        answer=response,\n",
    "        context=state[\"context\"],\n",
    "        question=state[\"question\"],\n",
    "    )"
   ]
  },
  {
   "cell_type": "code",
   "execution_count": null,
   "metadata": {},
   "outputs": [],
   "source": []
  },
  {
   "cell_type": "code",
   "execution_count": null,
   "metadata": {},
   "outputs": [],
   "source": []
  },
  {
   "cell_type": "markdown",
   "metadata": {},
   "source": [
    "# Google Search API"
   ]
  },
  {
   "cell_type": "code",
   "execution_count": 1,
   "metadata": {},
   "outputs": [
    {
     "name": "stderr",
     "output_type": "stream",
     "text": [
      "/Users/jeongyunl/opt/anaconda3/envs/juso-chatbot/lib/python3.11/site-packages/tqdm/auto.py:21: TqdmWarning: IProgress not found. Please update jupyter and ipywidgets. See https://ipywidgets.readthedocs.io/en/stable/user_install.html\n",
      "  from .autonotebook import tqdm as notebook_tqdm\n"
     ]
    }
   ],
   "source": [
    "import os\n",
    "import pprint\n",
    "from dotenv import load_dotenv\n",
    "## langsmith\n",
    "from langsmith import Client\n",
    "from langchain_teddynote import logging\n",
    "## OpenAI\n",
    "from langchain_openai import ChatOpenAI\n",
    "from langchain.schema import ChatMessage, AIMessage, HumanMessage, SystemMessage\n",
    "from langchain.embeddings.openai import OpenAIEmbeddings\n",
    "## ChromaDB\n",
    "import chromadb\n",
    "from langchain.vectorstores import Chroma\n",
    "## History\n",
    "from operator import itemgetter\n",
    "from langchain_core.prompts import PromptTemplate\n",
    "from langchain_core.runnables import RunnableConfig\n",
    "from langchain_core.output_parsers import StrOutputParser\n",
    "from langchain_core.prompts import ChatPromptTemplate, MessagesPlaceholder\n",
    "from langchain_community.chat_message_histories import ChatMessageHistory, StreamlitChatMessageHistory\n",
    "from langchain_core.runnables.history import RunnableWithMessageHistory\n",
    "## LangGraph\n",
    "from typing import TypedDict\n",
    "from langgraph.graph import END, StateGraph\n",
    "from langgraph.checkpoint.memory import MemorySaver\n",
    "from langgraph.errors import GraphRecursionError\n",
    "from langchain_community.tools.tavily_search import TavilySearchResults\n",
    "## Google Search\n",
    "from langchain_google_community import GoogleSearchAPIWrapper\n",
    "from langchain_core.tools import Tool\n",
    "## gradio\n",
    "import gradio as gr"
   ]
  },
  {
   "cell_type": "code",
   "execution_count": 2,
   "metadata": {},
   "outputs": [
    {
     "name": "stdout",
     "output_type": "stream",
     "text": [
      "LangSmith 추적을 시작합니다.\n",
      "[프로젝트명]\n",
      "240731\n"
     ]
    }
   ],
   "source": [
    "# .env 파일 활성화 & API KEY 설정\n",
    "load_dotenv()\n",
    "openai_api_key = os.getenv('OPENAI_API_KEY')\n",
    "\n",
    "logging.langsmith(\"240731\") "
   ]
  },
  {
   "cell_type": "code",
   "execution_count": 3,
   "metadata": {},
   "outputs": [
    {
     "name": "stderr",
     "output_type": "stream",
     "text": [
      "/Users/jeongyunl/opt/anaconda3/envs/juso-chatbot/lib/python3.11/site-packages/langchain_core/_api/deprecation.py:139: LangChainDeprecationWarning: The class `OpenAIEmbeddings` was deprecated in LangChain 0.0.9 and will be removed in 0.3.0. An updated version of the class exists in the langchain-openai package and should be used instead. To use it run `pip install -U langchain-openai` and import as `from langchain_openai import OpenAIEmbeddings`.\n",
      "  warn_deprecated(\n"
     ]
    }
   ],
   "source": [
    "store = {}\n",
    "\n",
    "# 세션 ID를 기반으로 세션 기록을 가져오는 함수\n",
    "def get_session_history(session_ids):\n",
    "    if session_ids not in store:  # 세션 ID가 store에 없는 경우\n",
    "        # 새로운 ChatMessageHistory 객체를 생성하여 store에 저장\n",
    "        store[session_ids] = ChatMessageHistory()\n",
    "    return store[session_ids]  # 해당 세션 ID에 대한 세션 기록 반환\n",
    "    \n",
    "##############################################################################################################\n",
    "################################################Retriever#####################################################\n",
    "##############################################################################################################\n",
    "class MultiCollectionRetriever:\n",
    "    def __init__(self, client, collection_names, embedding_function, search_kwargs={\"k\": 2}):\n",
    "        self.collections = [\n",
    "            Chroma(client=client, collection_name=name, embedding_function=embedding_function)\n",
    "            for name in collection_names\n",
    "        ]\n",
    "        self.search_kwargs = search_kwargs\n",
    "\n",
    "    def retrieve(self, query):\n",
    "        results = []\n",
    "        for collection in self.collections:\n",
    "            # 각 컬렉션에서 유사도 검색 수행\n",
    "            documents_with_scores = collection.similarity_search_with_score(query, **self.search_kwargs)\n",
    "            results.extend(documents_with_scores)\n",
    "        \n",
    "        # 유사도 점수를 기준으로 결과 정렬 (score가 높을수록 유사도가 높음)\n",
    "        results.sort(key=lambda x: x[1], reverse=False)\n",
    "\n",
    "        documents = [(doc, score) for doc, score in results]\n",
    "        print(documents)\n",
    "        return documents\n",
    "\n",
    "# 사용 예시\n",
    "client = chromadb.PersistentClient('../juso-chat-bot-v0.1/chroma/')\n",
    "collection_names = [\"csv_files_openai_3072\", \"49_files_openai_3072\"]\n",
    "embedding = OpenAIEmbeddings(model='text-embedding-3-large') \n",
    "multi_retriever = MultiCollectionRetriever(client, collection_names, embedding)\n",
    "\n",
    "##############################################################################################################\n",
    "################################################GraphState####################################################\n",
    "##############################################################################################################\n",
    "# GraphState 상태를 저장하는 용도\n",
    "class GraphState(TypedDict):\n",
    "    question: str  # 질문\n",
    "    context: str  # 문서의 검색 결과\n",
    "    answer: str  # llm이 생성한 답변\n",
    "    relevance: str  # 답변의 문서에 대한 관련성 (groundness check)\n",
    "    \n",
    "##############################################################################################################\n",
    "################################################vector Retriever##############################################\n",
    "##############################################################################################################\n",
    "def retrieve_document(state: GraphState) -> GraphState:\n",
    "    # Question 에 대한 문서 검색을 retriever 로 수행합니다.\n",
    "    retrieved_docs = multi_retriever.retrieve(state[\"question\"])\n",
    "    # 검색된 문서를 context 키에 저장합니다.\n",
    "    return GraphState(context=retrieved_docs[:2])\n",
    "\n",
    "##############################################################################################################\n",
    "################################################Groundness Checker ###########################################\n",
    "##############################################################################################################\n",
    "chat = ChatOpenAI(model=\"gpt-4o\", api_key=openai_api_key)\n",
    "\n",
    "def relevance_message(context, question):\n",
    "    messages = [\n",
    "        SystemMessage(content=\"\"\"\n",
    "            너는 Query와 Document를 비교해서 ['grounded', 'notGrounded', 'notSure'] 셋 중 하나의 라벨을 출력하는 모델이야.\n",
    "\n",
    "            'grounded': Compare the Query and the Document. If the Document includes content that can be used to generate an answer to the Query, output the label 'grounded'.\n",
    "            'notGrounded': Compare the Query and the Document. If the Document not includes content that can be used to generate an answer to the Query, output the label 'notGrounded'.\n",
    "            'notSure': Compare the Query and the Document. If you cannot determine whether the Document includes content that can be used to generate an answer to the Query, output the label .notSure'.\n",
    "            \n",
    "            특히 '도로명주소법'에 대해서 물어봤는데, '도로명주소법 시행령' 문서의 답변을 가져왔다거나, '도로명주소법 시행령'에 대해서 물어봤는데, '도로명주소법 시행규칙'에 대해서 답변했다면 이는 전부 notGraounded에 해당한다는 점을 유의해줘.\n",
    "            \n",
    "            너의 출력은 반드시 'grounded', 'notGrounded', 'notSure' 중 하나여야 해. 띄어쓰기나 대소문자 구분 등 다른 형식이나 추가적인 설명 없이 오직 하나의 라벨만 출력해줘.\n",
    "        \"\"\"),\n",
    "        HumanMessage(content=f\"\"\"\n",
    "            [Document]\n",
    "            {context}\n",
    "\n",
    "            [Query]\n",
    "            {question}\n",
    "        \"\"\"),\n",
    "    ]\n",
    "    return messages\n",
    "\n",
    "def relevance_check(state: GraphState) -> GraphState:\n",
    "    messages = relevance_message(state[\"context\"], state[\"question\"])\n",
    "    response = chat.invoke(messages)\n",
    "    return GraphState(\n",
    "        relevance=response.content,\n",
    "        context=state[\"context\"],\n",
    "        answer=state[\"answer\"],\n",
    "        question=state[\"question\"],\n",
    "    )\n",
    "\n",
    "def is_relevant(state: GraphState) -> GraphState:\n",
    "    if state[\"relevance\"] == \"grounded\":\n",
    "        return \"grounded\"\n",
    "    elif state[\"relevance\"] == \"notGrounded\":\n",
    "        return \"notGrounded\"\n",
    "    elif state[\"relevance\"] == \"notSure\":\n",
    "        return \"notSure\"\n",
    "    \n",
    "##############################################################################################################\n",
    "################################################# Rewriter ###################################################\n",
    "##############################################################################################################  \n",
    "    \n",
    "def rewrite(state):\n",
    "    question = state[\"question\"]\n",
    "    answer = state[\"answer\"]\n",
    "    context = state[\"context\"]\n",
    "    prompt = ChatPromptTemplate.from_messages(\n",
    "        [\n",
    "            (\n",
    "                \"system\",\n",
    "                \"You are a professional prompt rewriter. Your task is to generate the question in order to get additional information that is now shown in the context.\"\n",
    "                \"Your generated question will be searched on the web to find relevant information.\",\n",
    "            ),\n",
    "            (\n",
    "                \"human\",\n",
    "                \"Rewrite the question to get additional information to get the answer.\"\n",
    "                \"\\n\\nHere is the initial question:\\n ------- \\n{question}\\n ------- \\n\"\n",
    "                \"\\n\\nHere is the initial context:\\n ------- \\n{context}\\n ------- \\n\"\n",
    "                \"\\n\\nHere is the initial answer to the question:\\n ------- \\n{answer}\\n ------- \\n\"\n",
    "                \"\\n\\nFormulate an improved question in Korean:\",\n",
    "            ),\n",
    "        ]\n",
    "    )\n",
    "\n",
    "    # Question rewriting model\n",
    "    model = ChatOpenAI(temperature=0, model=\"gpt-4o\")\n",
    "\n",
    "    chain = prompt | model | StrOutputParser()\n",
    "    response = chain.invoke(\n",
    "        {\"question\": question, \"answer\": answer, \"context\": context}\n",
    "    )\n",
    "    return GraphState(question=response)\n",
    "\n",
    "    \n",
    "##############################################################################################################\n",
    "################################################Search on Web ################################################\n",
    "##############################################################################################################  \n",
    "    \n",
    "def search_tool(query):\n",
    "    search = GoogleSearchAPIWrapper()\n",
    "    return search.results(query, 1)\n",
    "\n",
    "tool = Tool(\n",
    "    name=\"Google Search Snippets\",\n",
    "    description=\"Search Google for recent results.\",\n",
    "    func=search_tool,\n",
    ")\n",
    "\n",
    "def search_on_web(state: GraphState) -> GraphState:\n",
    "    result = tool.run(state[\"question\"])\n",
    "    return GraphState(\n",
    "        context=result,\n",
    "    )\n",
    "    "
   ]
  },
  {
   "cell_type": "code",
   "execution_count": 4,
   "metadata": {},
   "outputs": [],
   "source": [
    "# ##############################################################################################################\n",
    "# ################################################LLM Answer Maker##############################################\n",
    "# ##############################################################################################################\n",
    "\n",
    "\n",
    "# def llm_answer(state: GraphState) -> GraphState:\n",
    "    \n",
    "#     # 프롬프트를 생성합니다.\n",
    "#     prompt = PromptTemplate.from_template(\n",
    "#         \"\"\"\n",
    "#                 너는 Context의 정보를 반드시 활용해서 답변을 생성하는 챗봇이야. \n",
    "#                 이때, 답변은 Context에 정보가 있을 수도 있고, 없을 수도 있어. \n",
    "#                 Context의 정보로 답변을 생성할 수 있는 경우 해당 정보를 활용하고, 만약 Context의 정보로 답변을 유추조차 할 수 없는 경우, Context를 참고하지 말고 그냥 너가 생각한 답변을 생성해줘.\n",
    "#                 주소와 관련된 질문인 경우 최대한 Context의 답변을 기반을 참고해주고, 그렇지 않은 경우 그냥 너의 지식을 활용해줘.\n",
    "#                 답변에는 Context라는 단어를 사용하지 말아줘.\n",
    "                \n",
    "#                 답변의 끝에는 '출처' 혹은 '자세한 정보'를 기입해줘. 출처와 자세한 정보에 대한 내용은 다음과 같아. \n",
    "                \n",
    "#                 '출처'는 Context의 'context'에 metadata의 'source'에 파일경로로 기입되어 있어. pdf, csv, md 등의 파일 이름으로만 출처를 기입해주면 돼.\n",
    "#                 만약 여러개의 출처가 기입되어 있는 경우 모두 알려주고, 중복되는 경우 하나만 기입해줘.\n",
    "#                 이때 파일명의 확장자(pdf, csv, md 등)는 기입하지 않아도 돼.\n",
    "                        \n",
    "#                 '자세한 정보'는 Context의 [0]의 'link'에 해당하는 url이야. \n",
    "                \n",
    "#                 만약, 답변을 Context를 기반으로 생성하지 않는다면, 문장 끝에 '문서를 참고하지 않고 생성한 답변입니다.' 라고 기입해줘.\n",
    "\n",
    "#                 #Previous Chat History:\n",
    "#                 {chat_history}\n",
    "\n",
    "#                 #Question: \n",
    "#                 {question} \n",
    "\n",
    "#                 #Context: \n",
    "#                 {context} \n",
    "\n",
    "#                 #Answer:\n",
    "                \n",
    "#             \"\"\"\n",
    "#                 )\n",
    "\n",
    "\n",
    "#     llm = ChatOpenAI(model_name=\"gpt-4o\", temperature=0)\n",
    "    \n",
    "#     context = state[\"context\"]\n",
    "\n",
    "#     chain = (\n",
    "#         {\n",
    "#             # \"context\": lambda inputs: multi_retriever.retrieve(itemgetter(\"question\")(inputs)),\n",
    "#             \"context\": context,\n",
    "#             \"question\": itemgetter(\"question\"),\n",
    "#             \"chat_history\": itemgetter(\"chat_history\"),\n",
    "#         }\n",
    "#         | prompt\n",
    "#         | llm\n",
    "#         | StrOutputParser()\n",
    "#     )\n",
    "\n",
    "#     # 대화를 기록하는 RAG 체인 생성\n",
    "#     rag_with_history = RunnableWithMessageHistory(\n",
    "#         chain,\n",
    "#         get_session_history,  # 세션 기록을 가져오는 함수\n",
    "#         input_messages_key=\"question\",  # 사용자의 질문이 템플릿 변수에 들어갈 key\n",
    "#         history_messages_key=\"chat_history\",  # 기록 메시지의 키\n",
    "#     )\n",
    "    \n",
    "    \n",
    "#     response = rag_with_history.invoke({'question': state[\"question\"]}, config={\"configurable\": {\"session_id\": \"rag123\"}})\n",
    "#     print(state[\"context\"])\n",
    "#     return GraphState(\n",
    "#         answer=response,\n",
    "#         context=state[\"context\"],\n",
    "#         question=state[\"question\"],\n",
    "#     )"
   ]
  },
  {
   "cell_type": "code",
   "execution_count": 5,
   "metadata": {},
   "outputs": [],
   "source": [
    "def llm_answer(state: GraphState) -> GraphState:\n",
    "    \n",
    "    # 프롬프트를 생성합니다.\n",
    "    prompt = PromptTemplate.from_template(\n",
    "        \"\"\"\n",
    "                너는 Context의 정보를 반드시 활용해서 답변을 생성하는 챗봇이야. \n",
    "                이때, 답변은 Context에 정보가 있을 수도 있고, 없을 수도 있어. \n",
    "                Context의 정보로 답변을 생성할 수 있는 경우 해당 정보를 활용하고, 만약 Context의 정보로 답변을 유추조차 할 수 없는 경우, Context를 참고하지 말고 그냥 너가 생각한 답변을 생성해줘.\n",
    "                주소와 관련된 질문인 경우 최대한 Context의 답변을 기반을 참고해주고, 그렇지 않은 경우 그냥 너의 지식을 활용해줘.\n",
    "                답변에는 Context라는 단어를 사용하지 말아줘.\n",
    "                \n",
    "                답변의 끝에는 '출처' 혹은 '자세한 정보'를 기입해줘. 출처와 자세한 정보에 대한 내용은 다음과 같아. \n",
    "                \n",
    "                '출처'는 Context의 'context'에 metadata의 'source'에 파일경로로 기입되어 있어. pdf, csv, md 등의 파일 이름으로만 출처를 기입해주면 돼.\n",
    "                만약 여러개의 출처가 기입되어 있는 경우 모두 알려주고, 중복되는 경우 하나만 기입해줘.\n",
    "                이때 파일명의 확장자(pdf, csv, md 등)는 기입하지 않아도 돼.\n",
    "                        \n",
    "                '자세한 정보'는 Context의 [0]의 'link'에 해당하는 url이야. 반드시 'link'가 해당할 때만 해당 url을 기입하고, 너가 새로운 url을 추가하면 안돼.\n",
    "                \n",
    "                만약, 답변을 Context를 기반으로 생성하지 않는다면, 문장 끝에 '문서를 참고하지 않고 생성한 답변입니다.' 라고 기입해줘.\n",
    "\n",
    "                #Previous Chat History:\n",
    "                {chat_history}\n",
    "\n",
    "                #Question: \n",
    "                {question} \n",
    "\n",
    "                #Context: \n",
    "                {context} \n",
    "\n",
    "                #Answer:\n",
    "                \n",
    "            \"\"\"\n",
    "                )\n",
    "\n",
    "    llm = ChatOpenAI(model_name=\"gpt-4o\", temperature=0)\n",
    "    \n",
    "    # 프롬프트, 모델, 출력 파서를 체이닝합니다.\n",
    "    chain = prompt | llm | StrOutputParser()\n",
    "\n",
    "    # 대화를 기록하는 RAG 체인 생성\n",
    "    rag_with_history = RunnableWithMessageHistory(\n",
    "        chain,\n",
    "        get_session_history,  # 세션 기록을 가져오는 함수\n",
    "        input_messages_key=\"question\",  # 사용자의 질문이 템플릿 변수에 들어갈 key\n",
    "        history_messages_key=\"chat_history\",  # 기록 메시지의 키\n",
    "    )\n",
    "    \n",
    "    # 상태에서 질문과 대화 기록을 가져옵니다.\n",
    "    input_data = {\n",
    "        'question': state[\"question\"],\n",
    "        'chat_history': itemgetter(\"chat_history\"),\n",
    "        'context': state[\"context\"]\n",
    "    }\n",
    "\n",
    "    response = rag_with_history.invoke(input_data, config={\"configurable\": {\"session_id\": \"rag123\"}})\n",
    "    \n",
    "    return GraphState(\n",
    "        answer=response,\n",
    "        context=state[\"context\"],\n",
    "        question=state[\"question\"],\n",
    "    )"
   ]
  },
  {
   "cell_type": "code",
   "execution_count": 6,
   "metadata": {},
   "outputs": [],
   "source": [
    "# ##############################################################################################################\n",
    "# ################################################Setting Graph Relations#######################################\n",
    "# ##############################################################################################################\n",
    "\n",
    "# workflow = StateGraph(GraphState)\n",
    "\n",
    "# # 노드들을 정의합니다.\n",
    "# workflow.add_node(\"retrieve\", retrieve_document)  # 답변을 검색해오는 노드를 추가합니다.\n",
    "# workflow.add_node(\"llm_answer\", llm_answer)  # 답변을 생성하는 노드를 추가합니다.\n",
    "# workflow.add_node(\"relevance_check\", relevance_check)  # 답변의 문서에 대한 관련성 체크 노드를 추가합니다.\n",
    "# workflow.add_node(\"rewrite\", rewrite)  # 질문을 재작성하는 노드를 추가합니다.\n",
    "# workflow.add_node(\"search_on_web\", search_on_web)  # 웹 검색 노드를 추가합니다.\n",
    "\n",
    "# workflow.add_edge(\"retrieve\", \"relevance_check\")  # 검색 -> 답변\n",
    "# workflow.add_edge(\"rewrite\", \"search_on_web\")  # 재작성 -> 관련성 체크\n",
    "# workflow.add_edge(\"search_on_web\", \"relevance_check\")  # 웹 검색 -> 답변\n",
    "\n",
    "# # 조건부 엣지를 추가합니다.\n",
    "# workflow.add_conditional_edges(\n",
    "#     \"relevance_check\",  # 관련성 체크 노드에서 나온 결과를 is_relevant 함수에 전달합니다.\n",
    "#     is_relevant,\n",
    "#     {\n",
    "#         \"grounded\": \"llm_answer\",  # 관련성이 있으면 종료합니다.\n",
    "#         \"notGrounded\": \"rewrite\",  # 관련성이 없으면 다시 질문을 작성합니다.\n",
    "#         \"notSure\": \"rewrite\",  # 관련성 체크 결과가 모호하다면 다시 질문을 작성합니다.\n",
    "#     },\n",
    "# )\n",
    "\n",
    "# workflow.add_edge(\"llm_answer\", END)  # 답변 -> 종료\n",
    "\n",
    "# # 시작점을 설정합니다.\n",
    "# workflow.set_entry_point(\"retrieve\")\n",
    "\n",
    "# # 기록을 위한 메모리 저장소를 설정합니다.\n",
    "# memory = MemorySaver()\n",
    "\n",
    "# # 그래프를 컴파일합니다.\n",
    "# app = workflow.compile(checkpointer=memory)"
   ]
  },
  {
   "cell_type": "code",
   "execution_count": 16,
   "metadata": {},
   "outputs": [],
   "source": [
    "#############################################################################################################\n",
    "################################################Setting Graph Relations#######################################\n",
    "##############################################################################################################\n",
    "\n",
    "workflow = StateGraph(GraphState)\n",
    "\n",
    "# 노드들을 정의합니다.\n",
    "workflow.add_node(\"retrieve\", retrieve_document)  # 답변을 검색해오는 노드를 추가합니다.\n",
    "workflow.add_node(\"llm_answer\", llm_answer)  # 답변을 생성하는 노드를 추가합니다.\n",
    "workflow.add_node(\"relevance_check\", relevance_check)  # 답변의 문서에 대한 관련성 체크 노드를 추가합니다.\n",
    "workflow.add_node(\"rewrite\", rewrite)  # 질문을 재작성하는 노드를 추가합니다.\n",
    "workflow.add_node(\"search_on_web\", search_on_web)  # 웹 검색 노드를 추가합니다.\n",
    "\n",
    "workflow.add_edge(\"retrieve\", \"llm_answer\")  # 검색 -> 답변\n",
    "workflow.add_edge(\"llm_answer\", \"relevance_check\")  # 검색 -> 답변\n",
    "workflow.add_edge(\"rewrite\", \"search_on_web\")  # 재작성 -> 관련성 체크\n",
    "workflow.add_edge(\"search_on_web\", \"llm_answer\")  # 웹 검색 -> 답변\n",
    "\n",
    "# 조건부 엣지를 추가합니다.\n",
    "workflow.add_conditional_edges(\n",
    "    \"relevance_check\",  # 관련성 체크 노드에서 나온 결과를 is_relevant 함수에 전달합니다.\n",
    "    is_relevant,\n",
    "    {\n",
    "        \"grounded\": END,  # 관련성이 있으면 종료합니다.\n",
    "        \"notGrounded\": \"rewrite\",  # 관련성이 없으면 다시 질문을 작성합니다.\n",
    "        \"notSure\": \"rewrite\",  # 관련성 체크 결과가 모호하다면 다시 질문을 작성합니다.\n",
    "    },\n",
    ")\n",
    "\n",
    "# workflow.add_edge(\"llm_answer\", END)  # 답변 -> 종료\n",
    "\n",
    "# 시작점을 설정합니다.\n",
    "workflow.set_entry_point(\"retrieve\")\n",
    "\n",
    "# 기록을 위한 메모리 저장소를 설정합니다.\n",
    "memory = MemorySaver()\n",
    "\n",
    "# 그래프를 컴파일합니다.\n",
    "app = workflow.compile(checkpointer=memory)"
   ]
  },
  {
   "cell_type": "code",
   "execution_count": null,
   "metadata": {},
   "outputs": [],
   "source": []
  },
  {
   "cell_type": "code",
   "execution_count": 17,
   "metadata": {},
   "outputs": [
    {
     "data": {
      "image/jpeg": "[encoded data removed]",
      "text/plain": [
       "<IPython.core.display.Image object>"
      ]
     },
     "metadata": {},
     "output_type": "display_data"
    }
   ],
   "source": [
    "from IPython.display import Image, display\n",
    "\n",
    "try:\n",
    "    display(\n",
    "        Image(app.get_graph(xray=True).draw_mermaid_png())\n",
    "    )  # 실행 가능한 객체의 그래프를 mermaid 형식의 PNG로 그려서 표시합니다. xray=True는 추가적인 세부 정보를 포함합니다.\n",
    "except:\n",
    "    # 이 부분은 추가적인 의존성이 필요하며 선택적으로 실행됩니다.\n",
    "    pass"
   ]
  },
  {
   "cell_type": "code",
   "execution_count": 15,
   "metadata": {},
   "outputs": [],
   "source": [
    "config = RunnableConfig(\n",
    "    recursion_limit=12, configurable={\"thread_id\": \"CORRECTIVE-SEARCH-RAG\"}\n",
    ")"
   ]
  },
  {
   "cell_type": "code",
   "execution_count": 13,
   "metadata": {},
   "outputs": [
    {
     "name": "stdout",
     "output_type": "stream",
     "text": [
      "[(Document(metadata={'source': 'data/final/도로명주소법시행규칙.txt'}, page_content='도로명주소법 시행규칙\\n[시행 2022. 3. 30.] [행정안전부령 제324호, 2022. 3. 30., 타법개정]\\n행정안전부(주소생활공간과) 044-205-3567\\n\\n제1조(목적) 이 규칙은 「도로명주소법」 및 같은 법 시행령에서 위임된 사항과 그 시행에 필요한 사항을 규정함을 목적으로 한다.\\n\\n제2조(정의) 이 규칙에서 사용하는 용어의 뜻은 다음과 같다.\\n1. “주된구간”이란 하나의 도로구간에서 종속구간을 제외한 도로구간을 말한다.\\n2. “도로명관할구역”이란 「도로명주소법 시행령」(이하 “영”이라 한다) 제6조제1항제1호 및 제2호에 따른 행정구역을 말한다. 다만, 행정구역이 결정되지 않은 지역에서는 영 제6조제2항제1호가목 및 제2호나목에 따른 사업지역의 명칭을 말한다.\\n3. “건물등관할구역”이란 영 제6조제1항제1호부터 제3호까지에 따른 행정구역을 말한다. 다만, 행정구역이 결정되지 않은 지역에서는 영 제6조제2항제1호가목 및 제2호나목에 따른 사업지역의 명칭을 말한다.'), 0.7909223437309265), (Document(metadata={'source': 'data/final/도로명주소법시행령.txt'}, page_content='도로명주소법 시행령\\n[시행 2024. 5. 28.] [대통령령 제34533호, 2024. 5. 28., 타법개정]\\n행정안전부(주소생활공간과) 044-205-3567\\n\\n제1조(목적) 이 영은 「도로명주소법」에서 위임된 사항과 그 시행에 필요한 사항을 규정함을 목적으로 한다.\\n\\n제2조(정의) 이 영에서 사용하는 용어의 뜻은 다음과 같다.\\n1. “예비도로명”이란 도로명을 새로 부여하려거나 기존의 도로명을 변경하려는 경우에 임시로 정하는 도로명을 말한다.\\n2. “유사도로명”이란 특정 도로명을 다른 도로명의 일부로 사용하는 경우 특정 도로명과 다른 도로명 모두를 말한다.\\n3. “동일도로명”이란 도로구간이 서로 연결되어 있으면서 그 이름이 같은 도로명을 말한다.\\n4. “종속구간”이란 다음 각 목의 어느 하나에 해당하는 구간으로서 별도로 도로구간으로 설정하지 않고 그 구간에 접해 있는 주된 도로구간에 포함시킨 구간을 말한다.\\n가. 막다른 구간\\n나. 2개의 도로를 연결하는 구간'), 0.8404093384742737), (Document(metadata={'row': 381, 'source': 'data/csv/주소용어최종정리_1123 - 업데이트_231123.csv'}, page_content='번호: 67\\n필수여부: 필수\\n준용여부: 준용\\n용어명: 주소정보부여대상\\n정의: 주소정보규정에 근거한 주소를 부여받을 대상\\n선정근거_출처: 도로명주소법\\n선정근거_세부내용: 2조\\n주소지식모델 포함여부: 미포함\\n주소지식모델정의: \\n유사용어: 주소부여대상'), 0.966315746307373), (Document(metadata={'row': 391, 'source': 'data/csv/주소용어최종정리_1123 - 업데이트_231123.csv'}, page_content='번호: 73\\n필수여부: 필수\\n준용여부: 준용\\n용어명: 주소정보체계\\n정의: 주소정보의 관리 및 운영 체계\\n선정근거_출처: 도로명주소법\\n선정근거_세부내용: 2조\\n주소지식모델 포함여부: 미포함\\n주소지식모델정의: \\n유사용어: 주소체계'), 0.9766876101493835)]\n"
     ]
    },
    {
     "ename": "GraphRecursionError",
     "evalue": "Recursion limit of 12 reachedwithout hitting a stop condition. You can increase the limit by setting the `recursion_limit` config key.",
     "output_type": "error",
     "traceback": [
      "\u001b[0;31m---------------------------------------------------------------------------\u001b[0m",
      "\u001b[0;31mGraphRecursionError\u001b[0m                       Traceback (most recent call last)",
      "\u001b[0;32m<ipython-input-13-90b2d24015a0>\u001b[0m in \u001b[0;36m<module>\u001b[0;34m\u001b[0m\n\u001b[0;32m----> 1\u001b[0;31m \u001b[0mlist\u001b[0m\u001b[0;34m(\u001b[0m\u001b[0mapp\u001b[0m\u001b[0;34m.\u001b[0m\u001b[0mstream\u001b[0m\u001b[0;34m(\u001b[0m\u001b[0;34m{\u001b[0m\u001b[0;34m'question'\u001b[0m\u001b[0;34m:\u001b[0m\u001b[0;34m\"도로명주소법시행령 2조의 내용은?\"\u001b[0m\u001b[0;34m}\u001b[0m\u001b[0;34m,\u001b[0m \u001b[0mconfig\u001b[0m\u001b[0;34m=\u001b[0m\u001b[0mconfig\u001b[0m\u001b[0;34m)\u001b[0m\u001b[0;34m)\u001b[0m\u001b[0;34m\u001b[0m\u001b[0;34m\u001b[0m\u001b[0m\n\u001b[0m",
      "\u001b[0;32m~/opt/anaconda3/envs/juso-chatbot/lib/python3.11/site-packages/langgraph/pregel/__init__.py\u001b[0m in \u001b[0;36mstream\u001b[0;34m(self, input, config, stream_mode, output_keys, input_keys, interrupt_before, interrupt_after, debug)\u001b[0m\n\u001b[1;32m   1168\u001b[0m                         \u001b[0;32mbreak\u001b[0m\u001b[0;34m\u001b[0m\u001b[0;34m\u001b[0m\u001b[0m\n\u001b[1;32m   1169\u001b[0m                 \u001b[0;32melse\u001b[0m\u001b[0;34m:\u001b[0m\u001b[0;34m\u001b[0m\u001b[0;34m\u001b[0m\u001b[0m\n\u001b[0;32m-> 1170\u001b[0;31m                     raise GraphRecursionError(\n\u001b[0m\u001b[1;32m   1171\u001b[0m                         \u001b[0;34mf\"Recursion limit of {config['recursion_limit']} reached\"\u001b[0m\u001b[0;34m\u001b[0m\u001b[0;34m\u001b[0m\u001b[0m\n\u001b[1;32m   1172\u001b[0m                         \u001b[0;34m\"without hitting a stop condition. You can increase the \"\u001b[0m\u001b[0;34m\u001b[0m\u001b[0;34m\u001b[0m\u001b[0m\n",
      "\u001b[0;31mGraphRecursionError\u001b[0m: Recursion limit of 12 reachedwithout hitting a stop condition. You can increase the limit by setting the `recursion_limit` config key."
     ]
    }
   ],
   "source": [
    "list(app.stream({'question':\"도로명주소법 시행령 2조의 내용은?\"}, config=config))"
   ]
  },
  {
   "cell_type": "code",
   "execution_count": 10,
   "metadata": {},
   "outputs": [
    {
     "name": "stderr",
     "output_type": "stream",
     "text": [
      "Error in RootListenersTracer.on_chain_end callback: KeyError('message_history')\n",
      "Error in callback coroutine: KeyError('message_history')\n",
      "Error in RootListenersTracer.on_chain_end callback: KeyError('message_history')\n",
      "Error in callback coroutine: KeyError('message_history')\n"
     ]
    },
    {
     "data": {
      "text/plain": [
       "{'question': '도로명주소법1조의 내용은?',\n",
       " 'context': [(Document(metadata={'source': 'data/final/도로명주소법시행령.txt'}, page_content='도로명주소법 시행령\\n[시행 2024. 5. 28.] [대통령령 제34533호, 2024. 5. 28., 타법개정]\\n행정안전부(주소생활공간과) 044-205-3567\\n\\n제1조(목적) 이 영은 「도로명주소법」에서 위임된 사항과 그 시행에 필요한 사항을 규정함을 목적으로 한다.\\n\\n제2조(정의) 이 영에서 사용하는 용어의 뜻은 다음과 같다.\\n1. “예비도로명”이란 도로명을 새로 부여하려거나 기존의 도로명을 변경하려는 경우에 임시로 정하는 도로명을 말한다.\\n2. “유사도로명”이란 특정 도로명을 다른 도로명의 일부로 사용하는 경우 특정 도로명과 다른 도로명 모두를 말한다.\\n3. “동일도로명”이란 도로구간이 서로 연결되어 있으면서 그 이름이 같은 도로명을 말한다.\\n4. “종속구간”이란 다음 각 목의 어느 하나에 해당하는 구간으로서 별도로 도로구간으로 설정하지 않고 그 구간에 접해 있는 주된 도로구간에 포함시킨 구간을 말한다.\\n가. 막다른 구간\\n나. 2개의 도로를 연결하는 구간'),\n",
       "   0.8671318888664246),\n",
       "  (Document(metadata={'source': 'data/final/도로명주소법.txt'}, page_content='도로명주소법\\n[시행 2021. 6. 9.] [법률 제17574호, 2020. 12. 8., 전부개정]\\n행정안전부(주소생활공간과) 044-205-3567\\n\\n제1조(목적) 이 법은 도로명주소, 국가기초구역, 국가지점번호 및 사물주소의 표기ㆍ사용ㆍ관리ㆍ활용 등에 관한 사항을 규정함으로써 국민의 생활안전과 편의를 도모하고 관련 산업의 지원을 통하여 국가경쟁력 강화에 이바지함을 목적으로 한다.'),\n",
       "   0.8699048757553101)],\n",
       " 'answer': '도로명주소법 제1조의 내용은 다음과 같습니다:\\n\\n\"이 법은 도로명주소, 국가기초구역, 국가지점번호 및 사물주소의 표기ㆍ사용ㆍ관리ㆍ활용 등에 관한 사항을 규정함으로써 국민의 생활안전과 편의를 도모하고 관련 산업의 지원을 통하여 국가경쟁력 강화에 이바지함을 목적으로 한다.\"\\n\\n출처: 도로명주소법',\n",
       " 'relevance': 'grounded'}"
      ]
     },
     "execution_count": 10,
     "metadata": {},
     "output_type": "execute_result"
    }
   ],
   "source": [
    "app.invoke({'question':\"도로명주소법1조의 내용은?\"}, config=config)"
   ]
  },
  {
   "cell_type": "code",
   "execution_count": 11,
   "metadata": {},
   "outputs": [
    {
     "name": "stderr",
     "output_type": "stream",
     "text": [
      "Error in RootListenersTracer.on_chain_end callback: KeyError('message_history')\n",
      "Error in callback coroutine: KeyError('message_history')\n",
      "Error in RootListenersTracer.on_chain_end callback: KeyError('message_history')\n",
      "Error in callback coroutine: KeyError('message_history')\n",
      "Error in RootListenersTracer.on_chain_end callback: KeyError('message_history')\n",
      "Error in callback coroutine: KeyError('message_history')\n",
      "Error in RootListenersTracer.on_chain_end callback: KeyError('message_history')\n",
      "Error in callback coroutine: KeyError('message_history')\n",
      "Error in RootListenersTracer.on_chain_end callback: KeyError('message_history')\n",
      "Error in callback coroutine: KeyError('message_history')\n",
      "Error in RootListenersTracer.on_chain_end callback: KeyError('message_history')\n",
      "Error in callback coroutine: KeyError('message_history')\n"
     ]
    },
    {
     "ename": "GraphRecursionError",
     "evalue": "Recursion limit of 12 reachedwithout hitting a stop condition. You can increase the limit by setting the `recursion_limit` config key.",
     "output_type": "error",
     "traceback": [
      "\u001b[0;31m---------------------------------------------------------------------------\u001b[0m",
      "\u001b[0;31mGraphRecursionError\u001b[0m                       Traceback (most recent call last)",
      "\u001b[0;32m<ipython-input-11-eef1950e2243>\u001b[0m in \u001b[0;36m<module>\u001b[0;34m\u001b[0m\n\u001b[0;32m----> 1\u001b[0;31m \u001b[0mapp\u001b[0m\u001b[0;34m.\u001b[0m\u001b[0minvoke\u001b[0m\u001b[0;34m(\u001b[0m\u001b[0;34m{\u001b[0m\u001b[0;34m'question'\u001b[0m\u001b[0;34m:\u001b[0m\u001b[0;34m\"중앙대학교 문헌정보학과의 교수 수는?\"\u001b[0m\u001b[0;34m}\u001b[0m\u001b[0;34m,\u001b[0m \u001b[0mconfig\u001b[0m\u001b[0;34m=\u001b[0m\u001b[0mconfig\u001b[0m\u001b[0;34m)\u001b[0m\u001b[0;34m\u001b[0m\u001b[0;34m\u001b[0m\u001b[0m\n\u001b[0m",
      "\u001b[0;32m~/opt/anaconda3/envs/juso-chatbot/lib/python3.11/site-packages/langgraph/pregel/__init__.py\u001b[0m in \u001b[0;36minvoke\u001b[0;34m(self, input, config, stream_mode, output_keys, input_keys, interrupt_before, interrupt_after, debug, **kwargs)\u001b[0m\n\u001b[1;32m   1689\u001b[0m         \u001b[0;32melse\u001b[0m\u001b[0;34m:\u001b[0m\u001b[0;34m\u001b[0m\u001b[0;34m\u001b[0m\u001b[0m\n\u001b[1;32m   1690\u001b[0m             \u001b[0mchunks\u001b[0m \u001b[0;34m=\u001b[0m \u001b[0;34m[\u001b[0m\u001b[0;34m]\u001b[0m\u001b[0;34m\u001b[0m\u001b[0;34m\u001b[0m\u001b[0m\n\u001b[0;32m-> 1691\u001b[0;31m         for chunk in self.stream(\n\u001b[0m\u001b[1;32m   1692\u001b[0m             \u001b[0minput\u001b[0m\u001b[0;34m,\u001b[0m\u001b[0;34m\u001b[0m\u001b[0;34m\u001b[0m\u001b[0m\n\u001b[1;32m   1693\u001b[0m             \u001b[0mconfig\u001b[0m\u001b[0;34m,\u001b[0m\u001b[0;34m\u001b[0m\u001b[0;34m\u001b[0m\u001b[0m\n",
      "\u001b[0;32m~/opt/anaconda3/envs/juso-chatbot/lib/python3.11/site-packages/langgraph/pregel/__init__.py\u001b[0m in \u001b[0;36mstream\u001b[0;34m(self, input, config, stream_mode, output_keys, input_keys, interrupt_before, interrupt_after, debug)\u001b[0m\n\u001b[1;32m   1168\u001b[0m                         \u001b[0;32mbreak\u001b[0m\u001b[0;34m\u001b[0m\u001b[0;34m\u001b[0m\u001b[0m\n\u001b[1;32m   1169\u001b[0m                 \u001b[0;32melse\u001b[0m\u001b[0;34m:\u001b[0m\u001b[0;34m\u001b[0m\u001b[0;34m\u001b[0m\u001b[0m\n\u001b[0;32m-> 1170\u001b[0;31m                     raise GraphRecursionError(\n\u001b[0m\u001b[1;32m   1171\u001b[0m                         \u001b[0;34mf\"Recursion limit of {config['recursion_limit']} reached\"\u001b[0m\u001b[0;34m\u001b[0m\u001b[0;34m\u001b[0m\u001b[0m\n\u001b[1;32m   1172\u001b[0m                         \u001b[0;34m\"without hitting a stop condition. You can increase the \"\u001b[0m\u001b[0;34m\u001b[0m\u001b[0;34m\u001b[0m\u001b[0m\n",
      "\u001b[0;31mGraphRecursionError\u001b[0m: Recursion limit of 12 reachedwithout hitting a stop condition. You can increase the limit by setting the `recursion_limit` config key."
     ]
    }
   ],
   "source": [
    "app.invoke({'question':\"중앙대학교 문헌정보학과의 교수 수는?\"}, config=config)"
   ]
  },
  {
   "cell_type": "code",
   "execution_count": 10,
   "metadata": {},
   "outputs": [],
   "source": [
    "def stream_responses(question):\n",
    "    config = RunnableConfig(\n",
    "        recursion_limit=12, configurable={\"thread_id\": \"CORRECTIVE-SEARCH-RAG\"}\n",
    "    )\n",
    "\n",
    "    # AgentState 객체를 활용하여 질문을 입력합니다.\n",
    "    inputs = GraphState(\n",
    "        question=question\n",
    "    )\n",
    "\n",
    "    # app.stream을 통해 입력된 메시지에 대한 출력을 스트리밍합니다.\n",
    "    try:\n",
    "        output_generator = app.invoke(inputs, config=config)\n",
    "        return output_generator\n",
    "    except GraphRecursionError as e:\n",
    "        # 예외 발생 시 반환값을 명확히 설정합니다.\n",
    "        return \"해당 질문에 대해서 답변할 수 없습니다.\""
   ]
  },
  {
   "cell_type": "code",
   "execution_count": 18,
   "metadata": {},
   "outputs": [
    {
     "name": "stderr",
     "output_type": "stream",
     "text": [
      "Error in RootListenersTracer.on_chain_end callback: KeyError('message_history')\n",
      "Error in callback coroutine: KeyError('message_history')\n",
      "Error in RootListenersTracer.on_chain_end callback: KeyError('message_history')\n",
      "Error in callback coroutine: KeyError('message_history')\n",
      "Error in RootListenersTracer.on_chain_end callback: KeyError('message_history')\n",
      "Error in callback coroutine: KeyError('message_history')\n",
      "Error in RootListenersTracer.on_chain_end callback: KeyError('message_history')\n",
      "Error in callback coroutine: KeyError('message_history')\n",
      "Error in RootListenersTracer.on_chain_end callback: KeyError('message_history')\n",
      "Error in callback coroutine: KeyError('message_history')\n",
      "Error in RootListenersTracer.on_chain_end callback: KeyError('message_history')\n",
      "Error in callback coroutine: KeyError('message_history')\n"
     ]
    },
    {
     "data": {
      "text/plain": [
       "'해당 질문에 대해서 답변할 수 없습니다.'"
      ]
     },
     "execution_count": 18,
     "metadata": {},
     "output_type": "execute_result"
    }
   ],
   "source": [
    "stream_responses('도로명주소법시행령 3조의 내용은?')"
   ]
  },
  {
   "cell_type": "code",
   "execution_count": 12,
   "metadata": {},
   "outputs": [
    {
     "name": "stderr",
     "output_type": "stream",
     "text": [
      "Error in RootListenersTracer.on_chain_end callback: KeyError('message_history')\n",
      "Error in callback coroutine: KeyError('message_history')\n",
      "Error in RootListenersTracer.on_chain_end callback: KeyError('message_history')\n",
      "Error in callback coroutine: KeyError('message_history')\n"
     ]
    },
    {
     "data": {
      "text/plain": [
       "{'question': '도로명주소법 2조의 내용은?',\n",
       " 'context': [(Document(metadata={'source': 'data/final/[1018] 주소정보_업무편람_최종(하이퍼링크).docx'}, page_content='제2절 주소정보 개념\\n\\n\\n가. 사전적 의미\\n\\n1) 국어사전\\n\\n사람 또는 기업이 살거나 소재하고 있는 곳\\n\\n사람이 살고 있는 곳이나 기관, 회사 따위가 자리 잡고 있는 곳을 행정구역으로 나타낸 이름\\n\\n관련 용어\\n\\n거소(居所) : 얼마간 계속 머물러 있는 장소\\n\\n가주소(假住所) : 어느 행위에 있어서, 주소 이외의 장소에 주소로서의 법률적 효과를 부여하기 위해 당사자가 선정한 장소\\n\\n2) 영어사전\\n\\n사람이나 조직이 연락 가능한 장소(a place where a person or organization may be communicated with)\\n\\n편지나 소포 등의 겉봉에 있는 배달지(direction for delivery on the outside of an object as a letter or package)\\n\\n\\n\\n나. 법률적 의미\\n\\n1) 민법 : 생활근거지 또는 사업장 소재지를 의미\\n\\n생활의 근거가 되는 곳(법 §18①)'),\n",
       "   0.8957435488700867),\n",
       "  (Document(metadata={'source': 'data/final/[1018] 주소정보_업무편람_최종(하이퍼링크).docx'}, page_content='3) 우편법\\n\\n우편물은 그 표면에 기재된 곳에 배달함(법 §31)\\n\\n4) 도로명주소법\\n\\n“도로명주소”라 함은 도로명, 건물번호 및 상세주소(상세주소가 있는 경우만 해당한다)로 표기하는 주소를 말함(법 §2제7호)\\n\\n이 법은 주소의 적용에 관한 사항에 있어 다른 법률에 우선함(법 §3)\\n\\n공법관계의 주소는 도로명주소로 함. 따라서 공공기관은 주소의 표기 및 위치 안내에 있어 도로명주소를 사용해야 함(법 §19)\\n\\n가. 주소에서 주소정보로의 확대\\n\\n1) 주소의 기능\\n\\n주소는 사람이나 법인의 주된 거주지(소재지)를 주민등록(법인등록)에 등록하는 데 주로 사용해 왔고 ‘생활의 근거가 되는 곳’으로 거처(居處) 또는 거지(居趾)의 의미를 담아 우편 배송이나 위치 찾기에 사용되어 왔음.\\n\\n2) 주소에 대한 사회적 수요의 변화'),\n",
       "   0.9399632811546326)],\n",
       " 'answer': '도로명주소법 제2조의 내용은 제공된 정보로는 확인할 수 없습니다. 관련 법령을 직접 참조하시거나 행정안전부의 공식 웹사이트에서 확인해 보시기 바랍니다.\\n\\n출처: [1018] 주소정보_업무편람_최종(하이퍼링크)',\n",
       " 'relevance': 'grounded'}"
      ]
     },
     "execution_count": 12,
     "metadata": {},
     "output_type": "execute_result"
    }
   ],
   "source": [
    "stream_responses('도로명주소법 2조의 내용은?')"
   ]
  },
  {
   "cell_type": "code",
   "execution_count": 28,
   "metadata": {},
   "outputs": [
    {
     "name": "stderr",
     "output_type": "stream",
     "text": [
      "Error in RootListenersTracer.on_chain_end callback: KeyError('message_history')\n",
      "Error in callback coroutine: KeyError('message_history')\n",
      "Error in RootListenersTracer.on_chain_end callback: KeyError('message_history')\n",
      "Error in callback coroutine: KeyError('message_history')\n",
      "Error in RootListenersTracer.on_chain_end callback: KeyError('message_history')\n",
      "Error in callback coroutine: KeyError('message_history')\n",
      "Error in RootListenersTracer.on_chain_end callback: KeyError('message_history')\n",
      "Error in callback coroutine: KeyError('message_history')\n",
      "Error in RootListenersTracer.on_chain_end callback: KeyError('message_history')\n",
      "Error in callback coroutine: KeyError('message_history')\n",
      "Error in RootListenersTracer.on_chain_end callback: KeyError('message_history')\n",
      "Error in callback coroutine: KeyError('message_history')\n"
     ]
    }
   ],
   "source": [
    "stream_responses('중앙대학교 문헌정보학과 교수의 수는?')"
   ]
  },
  {
   "cell_type": "markdown",
   "metadata": {},
   "source": [
    "# 서치 테스트"
   ]
  },
  {
   "cell_type": "markdown",
   "metadata": {},
   "source": [
    "## Google Search 테스트\n",
    "\n",
    "- https://python.langchain.com/v0.2/docs/integrations/tools/google_search/\n",
    "- https://eehnuyh.tistory.com/28\n",
    "- https://gmnithinsai.medium.com/integrate-google-search-to-chat-bot-using-langgraph-bde7b5d21bc6"
   ]
  },
  {
   "cell_type": "code",
   "execution_count": 2,
   "metadata": {},
   "outputs": [
    {
     "name": "stdout",
     "output_type": "stream",
     "text": [
      "Note: you may need to restart the kernel to use updated packages.\n"
     ]
    }
   ],
   "source": [
    "pip install --upgrade --quiet  langchain langchain-google-vertexai \"langchain-google-community[featurestore]\""
   ]
  },
  {
   "cell_type": "code",
   "execution_count": 18,
   "metadata": {},
   "outputs": [],
   "source": [
    "from typing import Annotated\n",
    "from typing_extensions import TypedDict\n",
    "import os\n",
    "from langgraph.checkpoint.sqlite import SqliteSaver\n",
    "from langgraph.graph import StateGraph\n",
    "from langgraph.graph.message import add_messages\n",
    "from langgraph.prebuilt import ToolNode, tools_condition\n",
    "from langchain_google_community import GoogleSearchAPIWrapper\n",
    "from langchain_core.tools import Tool\n",
    "from langchain_openai import ChatOpenAI"
   ]
  },
  {
   "cell_type": "code",
   "execution_count": 22,
   "metadata": {},
   "outputs": [],
   "source": [
    "def embeddings(query):\n",
    "    search = GoogleSearchAPIWrapper()\n",
    "    result = search.run(query)\n",
    "    return result\n"
   ]
  },
  {
   "cell_type": "code",
   "execution_count": 23,
   "metadata": {},
   "outputs": [
    {
     "data": {
      "text/plain": [
       "'제1장 총 칙 제1조(목적) 본 약관은 도로명주소 누리집 (이하 \"당 사이트\")가 제공하는 모든 서비스(이하 \"서비스\")의 이용조건 및 절차, 이용자와 당 사이트의 권리,\\xa0... 제1조(목적) 이 법은 도로명주소, 국가기초구역 및 국가지점번호의 표기ㆍ관리ㆍ활용과 도로명주소의 부여ㆍ사용ㆍ관리 등에 관한 사항을 규정함으로써 국민의 생활\\xa0... 제1장 총 칙 - 제1조(목적) 본 약관은 도로명주소 누리집 (이하 \"당사이트\")가 제공하는 모든 서비스(이하 \"서비스\")의 이용조건 및 절차, 이용자와 당 사이트의 권리,\\xa0... ... 내용을 제21조제1항에 따라 고시하여야 한다. ⑥ 시장등은 제7조의2제1항 전단 또는 제7조의3제1항에 따른 신청을 받아 시ㆍ도지사에게 법 제8조제2항에 따른 신청을\\xa0... Family Relations, Addenda: Article 3, Section 1. 등록기준지. Place of Registration. 경정사유: 도로명주소법 제20조. Amendment Reason: Road Name Address Act\\xa0... Mar 30, 2022 ... 제30조(총괄대장 및 개별대장의 내용) ① 총괄대장은 다음 각 호의 내용을 포함해야 한다. 1. 도로명관할구역 및 도로명. 2. 도로구간의 시작지점 및 끝\\xa0... In accordance to the Family Registry Law Addendum: Article 3, Section 1. 가족관계증명서. Certificate of Family Registry. 경정사유: 도로명주소법 제20조. Feb 24, 2011 ... 제1조(목적) 이 지침은 도로명주소법 시행령 제23조제6항에 따라 도로명주소를 보다 효율적으로 소유자·점유자에게 알리기 위하여 전국적으로 동시에\\xa0... ① 시장등은 도로명주소시설의 효율적인 유지관리를 위하여 대통령령으로 정하는 바에 따라 그 시설의 유지관리를 위탁할 수 있다. ② 시장등은 연 1회 이상 도로명주소\\xa0... 제6조의2(도로구간의 설정ㆍ변경ㆍ폐지 기준 등) ① 법 제8조제1항제2호에 따라 도로구간을 설정할 때 정하여야 할 사항은 다음 각 호와 같다.'"
      ]
     },
     "execution_count": 23,
     "metadata": {},
     "output_type": "execute_result"
    }
   ],
   "source": [
    "embeddings(\"도로명주소법1조의 내용은?\")"
   ]
  },
  {
   "cell_type": "code",
   "execution_count": 19,
   "metadata": {},
   "outputs": [],
   "source": [
    "search = GoogleSearchAPIWrapper()\n",
    "\n",
    "\n",
    "def top5_results(query):\n",
    "    return search.results(query, 1)\n",
    "\n",
    "\n",
    "tool = Tool(\n",
    "    name=\"Google Search Snippets\",\n",
    "    description=\"Search Google for recent results.\",\n",
    "    func=top5_results,\n",
    ")"
   ]
  },
  {
   "cell_type": "code",
   "execution_count": 21,
   "metadata": {},
   "outputs": [
    {
     "data": {
      "text/plain": [
       "[{'title': '도로명 주소',\n",
       "  'link': 'https://www.juso.go.kr/addrlink/tchnlgySport/personalDataAgree.do',\n",
       "  'snippet': '제1조(목적) 본 약관은 도로명주소 누리집 (이하 \"당 사이트\")가 제공하는 ... 법 시행규칙 제53조제1항 - 보유기간 : 서비스 이용기간 종료 후 3년까지 ※ 개인\\xa0...'}]"
      ]
     },
     "execution_count": 21,
     "metadata": {},
     "output_type": "execute_result"
    }
   ],
   "source": [
    "result = tool.run('도로명주소법 시행규칙 1조의 내용은?')\n",
    "result"
   ]
  },
  {
   "cell_type": "code",
   "execution_count": 8,
   "metadata": {},
   "outputs": [
    {
     "data": {
      "text/plain": [
       "'https://ko.wikipedia.org/wiki/%EB%8C%80%ED%95%9C%EB%AF%BC%EA%B5%AD%EC%9D%98_%EB%8C%80%ED%86%B5%EB%A0%B9_%EB%AA%A9%EB%A1%9D'"
      ]
     },
     "execution_count": 8,
     "metadata": {},
     "output_type": "execute_result"
    }
   ],
   "source": [
    "result[0]['link']"
   ]
  },
  {
   "cell_type": "code",
   "execution_count": 17,
   "metadata": {},
   "outputs": [
    {
     "data": {
      "text/plain": [
       "'https://ko.wikipedia.org/wiki/%EB%8C%80%ED%95%9C%EB%AF%BC%EA%B5%AD%EC%9D%98_%EB%8C%80%ED%86%B5%EB%A0%B9_%EB%AA%A9%EB%A1%9D'"
      ]
     },
     "execution_count": 17,
     "metadata": {},
     "output_type": "execute_result"
    }
   ],
   "source": [
    "list(result)[0]['link']"
   ]
  },
  {
   "cell_type": "code",
   "execution_count": 9,
   "metadata": {},
   "outputs": [
    {
     "data": {
      "text/plain": [
       "'https://ko.wikipedia.org/wiki/%EB%8C%80%ED%95%9C%EB%AF%BC%EA%B5%AD%EC%9D%98_%EB%8C%80%ED%86%B5%EB%A0%B9_%EB%AA%A9%EB%A1%9D'"
      ]
     },
     "execution_count": 9,
     "metadata": {},
     "output_type": "execute_result"
    }
   ],
   "source": [
    "result[0]['link']"
   ]
  },
  {
   "cell_type": "code",
   "execution_count": 15,
   "metadata": {},
   "outputs": [
    {
     "data": {
      "text/plain": [
       "[{'title': '대한민국의 대통령 목록 - 위키백과, 우리 모두의 백과사전',\n",
       "  'link': 'https://ko.wikipedia.org/wiki/%EB%8C%80%ED%95%9C%EB%AF%BC%EA%B5%AD%EC%9D%98_%EB%8C%80%ED%86%B5%EB%A0%B9_%EB%AA%A9%EB%A1%9D',\n",
       "  'snippet': '대한민국의 대통령 목록은 대한민국의 대통령의 명단이다. 헌법에 따라 현행 대통령 임기는 5년 단임제이다. 목차. 1 역대 대통령 목록; 2 시계열; 3 생존 중인 전직\\xa0...'}]"
      ]
     },
     "execution_count": 15,
     "metadata": {},
     "output_type": "execute_result"
    }
   ],
   "source": [
    "def search_tool(query):\n",
    "    search = GoogleSearchAPIWrapper()\n",
    "    return search.results(query, 1)\n",
    "\n",
    "tool = Tool(\n",
    "    name=\"Google Search Snippets\",\n",
    "    description=\"Search Google for recent results.\",\n",
    "    func=search_tool,\n",
    ")\n",
    "\n",
    "def search_on_web(query):\n",
    "    result = tool.run(query)\n",
    "    return result\n",
    "\n",
    "search_on_web('대한민국의 대통령 이름은?')"
   ]
  },
  {
   "cell_type": "code",
   "execution_count": null,
   "metadata": {},
   "outputs": [],
   "source": []
  },
  {
   "cell_type": "markdown",
   "metadata": {},
   "source": [
    "## TabilySearch 테스트"
   ]
  },
  {
   "cell_type": "code",
   "execution_count": 2,
   "metadata": {},
   "outputs": [
    {
     "name": "stdout",
     "output_type": "stream",
     "text": [
      "Note: you may need to restart the kernel to use updated packages.\n"
     ]
    }
   ],
   "source": [
    "pip install -qU langchain-community tavily-python"
   ]
  },
  {
   "cell_type": "code",
   "execution_count": 1,
   "metadata": {},
   "outputs": [],
   "source": [
    "from langchain_community.tools.tavily_search import TavilySearchResults\n",
    "from dotenv import load_dotenv\n",
    "import os\n",
    "\n",
    "load_dotenv()\n",
    "\n",
    "def search_on_web(query):\n",
    "    # 문서에서 검색하여 관련성 있는 문서를 찾습니다.\n",
    "    search_tool = TavilySearchResults(max_results=1)\n",
    "    search_result = search_tool.invoke({\"query\": query})\n",
    "    return search_result"
   ]
  },
  {
   "cell_type": "code",
   "execution_count": 3,
   "metadata": {},
   "outputs": [
    {
     "data": {
      "text/plain": [
       "[{'url': 'https://www.cnn.com/2023/09/05/us/burning-man-storms-shelter-exodus-tuesday/index.html',\n",
       "  'content': \"CNN values your feedback\\nBurning Man attendees make a mass exodus after a dramatic weekend that left thousands stuck in the Nevada desert\\nThousands of Burning Man attendees finally made their mass exodus after intense rain over the weekend flooded camp sites and filled them with thick, ankle-deep mud – stranding more than 70,000 free-spirited revelers as they waited for the Nevada desert city to dry out.\\n Burning Man organizers lift driving ban after heavy rains left the event smothered in mud and trapped thousands\\nThe area was still muddy and parts were still difficult to navigate, organizers warned, and the wait time to leave the city Monday night was about seven hours. Diplo hitchhiked ride out of rain-drenched Burning Man after walking miles 'through the mud' and actually made it to his DC concert\\n“Quite a wet start to September for much of eastern CA-western NV,” the National Weather Service in Reno wrote on X. ” “As soon as the tents started getting water-logged or unlivable, people in RVs started taking in some of the tenters, so everybody was warm,” Kaz Qamruddin, who attended the event, told CNN’s Brianna Keilar Monday.\\n From wood blocks to 'poop buckets,' how Burning Man organizers told festivalgoers to prepare for heavy rain\\nAmong the early departures was music DJ Diplo, who told CNN he walked several miles in the muddy desert Saturday morning along with other celebrities, including Chris Rock, Cindy Crawford, Kaia Gerber and Austin Butler.\"}]"
      ]
     },
     "execution_count": 3,
     "metadata": {},
     "output_type": "execute_result"
    }
   ],
   "source": [
    "result = search_on_web('What happened in the latest burning man floods')\n",
    "result"
   ]
  },
  {
   "cell_type": "code",
   "execution_count": 49,
   "metadata": {},
   "outputs": [
    {
     "name": "stdout",
     "output_type": "stream",
     "text": [
      "1. \"도로명주소\"란 이 법에 따라 부여된 도로명, 건물번호 및 상세주소(상세주소가 있는 경우만 해당한다)에 의하여 표기하는 주소를 말한다. 2. \"건물등\"이란 「건축법」 제2조제1항제2호에 따른 건축물과 현실적으로 30일 이상 거주나 정착된 활동에 이용 되는 ...\n"
     ]
    }
   ],
   "source": [
    "print(result[0]['content'])"
   ]
  },
  {
   "cell_type": "code",
   "execution_count": 38,
   "metadata": {},
   "outputs": [
    {
     "data": {
      "text/plain": [
       "[{'url': 'https://casenote.kr/법령/도로명주소법/',\n",
       "  'content': '③ 제1항 및 제2항에 따른 지원의 세부 내용은 대통령령으로 정한다. ... 제7조의3제5항 중 \"「도로명주소법」 제2조제5호에 따른 도로명 및 같은 조 제7호에 따른 건물번호\"를 \"「도로명주소법」 제2조제3호에 따른 도로명 및 같은 조 제5호에 따른 건물번호\"로 한다 ...'},\n",
       " {'url': 'http://www.yeslaw.co.kr/lims/front/page/fulltext.html?pAct=view&pPromulgationNo=149050',\n",
       "  'content': '도로명주소법. 제1조 (목적) 이 법은 도로명 및 건물번호에 의한 주소표기에 따른 관련 시설의 설치·유지관리·활용과 도로명주소의 부여·사용·관리 등에 관한 사항을 규정하여 국민의 생활편의를 도모하고 물류비 절감 등 국가경쟁력 강화에 기여함을 ...'},\n",
       " {'url': 'http://www.yeslaw.kr/lims/front/page/fulltext.html?pAct=view&pPromulgationNo=183001',\n",
       "  'content': '도로명주소법. 제1조 (목적) 이 법은 도로명주소, 국가기초구역 및 국가지점번호의 표기ㆍ관리ㆍ활용과 도로명주소의 부여ㆍ사용ㆍ관리 등에 관한 사항을 규정함으로써 국민의 생활안전과 편의를 도모하고 물류비 절감 등 국가경쟁력 강화에 이바지함을 ...'},\n",
       " {'url': 'http://www.yeslaw.com/lims/front/page/fulltext.html?action=LAW&lawid=4207&jo_s=000806&jo_e=',\n",
       "  'content': '도로명주소법. (시행일자 : 2021-06-09) - 전부개정 -. 제8조 (도로명 등의 변경 및 폐지) ① 행정안전부장관, 시ㆍ도지사 및 시장ㆍ군수ㆍ구청장은 제2항에 따른 신청을 받거나 제3항에 따른 요청을 받은 경우, 그 밖에 도로명주소 관리를 위하여 필요하다고 인정하는 ...'},\n",
       " {'url': 'https://casenote.kr/법령/도로명주소법_시행령/',\n",
       "  'content': '제3조(도로의 유형 및 통로의 종류) ① 「도로명주소법」(이하 \"법\"이라 한다) 제2조제1호에 따른 도로는 유형별로 다음 각 호와 같이 구분한다. 1. 지상도로: 주변 지대(地帶)와 높낮이가 비슷한 도로(제2호의 입체도로가 지상도로의 일부에 연속되는 경우를 포함한다)로서 다음 각 목의 도로'}]"
      ]
     },
     "execution_count": 38,
     "metadata": {},
     "output_type": "execute_result"
    }
   ],
   "source": [
    "search_on_web('도로명주소법 3조의 내용은?')"
   ]
  },
  {
   "cell_type": "code",
   "execution_count": 39,
   "metadata": {},
   "outputs": [
    {
     "data": {
      "text/plain": [
       "[{'url': 'http://www.yeslaw.kr/lims/front/page/fulltext.html?pAct=view&pPromulgationNo=149502',\n",
       "  'content': '도로명주소법 시행규칙. 제1조 (목적) 이 규칙은 「도로명주소법」 및 같은 법 시행령 에서 위임된 사항과 그 시행에 필요한 사항을 규정함을 목적으로 한다. [전문개정 2009·8·14] ① 「도로명주소법 시행령」 (이하 \"영\"이라 한다) 제3조제1항제5호 의 건물번호는 ...'},\n",
       " {'url': 'https://law.go.kr/LSW/lsRvsDocListP.do?lsId=010421&chrClsCd=010202&lsRvsGubun=all',\n",
       "  'content': '제3조(「도로명주소법 시행규칙」의 개정) 도로명주소법 시행규칙 일부를 다음과 같이 개정한다. ... 이 경우 「도로명주소법」 제8조의3제3항에 따라 행정안전부장관이 작성ㆍ보급한 도로명관리시스템으로 전자적 처리가 가능한 대장은 전자적인 형태로 ...'},\n",
       " {'url': 'https://www.ulex.co.kr/법률/95941-010421-도로명주소법 시행규칙',\n",
       "  'content': '도로명주소법 시행규칙. 제1조 (목적) 이 규칙은 「 도로명주소법 」 및 같은 법 시행령 에서 위임된 사항과 그 시행에 필요한 사항을 규정함을 목적으로 한다. ① 「 도로명주소법 시행령 」 (이하 \"영\"이라 한다) 제3조 제1항 제5호 의 건물번호는 \\'번\\'으로 읽되 ...'},\n",
       " {'url': 'https://m.gwangjin.go.kr/portal/cmmn/file/fileDown.do?menuNo=200992&atchFileId=cd6beff6b4f4e23cf3ba8f107724ecb7bb4fbbdef79331a84d09922ae2d5099a&fileSn=3',\n",
       "  'content': '도로명주소법 시행규칙 도로명주소법 시행규칙 [시행 2017. 7. 26.] [행정안전부령 제1호, 2017. 7. 26., 타법개정] 행정안전부 (주소정책과) 02-2100-3659 제1조(목적) 이 규칙은 「도로명주소법」 및 같은 법 시행령에서 위임된 사항과 그 시행에 필요한 사항을 규정함을 목'},\n",
       " {'url': 'https://law.go.kr/LSW/lsInfoP.do?lsiSeq=178634',\n",
       "  'content': '도로명주소법 시행규칙 [시행 2015. 12. 30.] [행정자치부령 제54호, 2015. 12. 30., 일부개정] 본문. 부칙. 별표. 서식. 본문 제정·개정이유 별표·서식 연혁 3 ...'}]"
      ]
     },
     "execution_count": 39,
     "metadata": {},
     "output_type": "execute_result"
    }
   ],
   "source": [
    "search_on_web('도로명주소법 시행규칙 3조의 내용은?')"
   ]
  },
  {
   "cell_type": "markdown",
   "metadata": {},
   "source": [
    "## DuckDuckGoSearch 테스트\n",
    "\n",
    "* 일반: price는 잘 모르겠는데 한달에 100건 제한이 있는듯\n",
    "* parameter 설명 참고: https://pypi.org/project/duckduckgo-search/#regions"
   ]
  },
  {
   "cell_type": "code",
   "execution_count": 25,
   "metadata": {},
   "outputs": [
    {
     "name": "stdout",
     "output_type": "stream",
     "text": [
      "Note: you may need to restart the kernel to use updated packages.\n"
     ]
    }
   ],
   "source": [
    "pip install -qU duckduckgo-search langchain-community"
   ]
  },
  {
   "cell_type": "code",
   "execution_count": 26,
   "metadata": {},
   "outputs": [
    {
     "data": {
      "text/plain": [
       "\"Barack Obama—with his wife, Michelle—being sworn in as the 44th president of the United States, January 20, 2009. Key events in the life of Barack Obama. Barack Obama (born August 4, 1961, Honolulu, Hawaii, U.S.) is the 44th president of the United States (2009-17) and the first African American to hold the office. As the head of the government of the United States, the president is arguably the most powerful government official in the world. The president is elected to a four-year term via an electoral college system. Since the Twenty-second Amendment was adopted in 1951, the American presidency has been Obama was born on August 4, 1961, [1] at Kapi ʻ olani Maternity & Gynecological Hospital (now Kapi ʻ olani Medical Center for Women and Children) in Honolulu, Hawaii, [2] [3] [4] and would become the first President to have been born in Hawaii. [5] His mother, Stanley Ann Dunham, was born in Wichita, Kansas, and was of mostly English ancestry. [6] His father, Barack Obama, Sr., was a Luo ... Former President Barack Obama released a letter about President Biden's decision to drop out of the 2024 presidential race. Notably, Obama did not name or endorse Vice President Kamala Harris. Most common names of U.S. presidents 1789-2021. Published by. Aaron O'Neill , Jul 4, 2024. The most common first name for a U.S. president is James, followed by John and then William. Six U.S ...\""
      ]
     },
     "execution_count": 26,
     "metadata": {},
     "output_type": "execute_result"
    }
   ],
   "source": [
    "from langchain_community.tools import DuckDuckGoSearchRun\n",
    "\n",
    "search = DuckDuck GoSearchRun()\n",
    "\n",
    "search.invoke(\"Obama's first name?\")"
   ]
  },
  {
   "cell_type": "code",
   "execution_count": 27,
   "metadata": {},
   "outputs": [
    {
     "data": {
      "text/plain": [
       "'[snippet: Former President Barack Obama and former first lady Michelle Obama endorsed Vice President Kamala Harris\\' presidential bid in a video released Friday. \"Michelle and I couldn\\'t be prouder to ..., title: Barack and Michelle Obama endorse Kamala Harris for president, link: https://www.cnn.com/2024/07/26/politics/barack-michelle-obama-kamala-harris-endorsement/index.html], [snippet: Learn about the life and achievements of Barack Obama, the 44th president of the United States and the first African American to hold the office. Explore his early years, education, political career, books, awards, and more., title: Barack Obama | Biography, Parents, Education, Presidency, Books ..., link: https://www.britannica.com/biography/Barack-Obama], [snippet: The endorsements of former President Barack Obama and Michelle Obama cap a week where the Democratic party, for the most part, lined up behind Vice President Harris to become their nominee., title: The Obamas endorse Kamala Harris for Democratic nominee : NPR, link: https://www.npr.org/2024/07/26/nx-s1-5052627/obama-endorses-harris-election], [snippet: Obama\\'s favored phrase back then was \"I don\\'t want to thumb the scale.\") Endorsing too early now would also be a political mistake — fueling criticism that Ms. Harris\\'s nomination ..., title: Why Obama Hasn\\'t Endorsed Harris - The New York Times, link: https://www.nytimes.com/2024/07/21/us/politics/why-obama-hasnt-endorsed-harris.html]'"
      ]
     },
     "execution_count": 27,
     "metadata": {},
     "output_type": "execute_result"
    }
   ],
   "source": [
    "from langchain_community.tools import DuckDuckGoSearchResults\n",
    "\n",
    "search = DuckDuckGoSearchResults()\n",
    "\n",
    "search.invoke(\"Obama\")"
   ]
  },
  {
   "cell_type": "code",
   "execution_count": 35,
   "metadata": {},
   "outputs": [
    {
     "name": "stdout",
     "output_type": "stream",
     "text": [
      "[snippet: 제3조(도로의 유형 및 통로의 종류) ① 「도로명주소법」(이하 \"법\"이라 한다) 제2조제1호에 따른 도로는 유형별로 다음 각 호와 같이 구분한다. 1. 지상도로: 주변 지대(地帶)와 높낮이가 비슷한 도로(제2호의 입체도로가 지상도로의 일부에 연속되는 경우를 포함한다)로서 다음 각 목의 도로, title: 도로명주소법 시행령 - CaseNote - 케이스노트, link: https://casenote.kr/법령/도로명주소법_시행령/], [snippet: 본문 제정·개정이유 별표·서식 연혁 3단비교 신구법비교 법령체계도 법령비교 생활법령정보 조례위임조문 위임조례 한눈보기 원문다운로드 조문 선택 조문선택 화면내검색 새창 선택, title: 도로명주소법 시행령 | 국가법령정보센터 | 법령 > 본문, link: https://law.go.kr/LSW/lsInfoP.do?lsiSeq=262811], [snippet: 제3조(도로의 유형 및 통로의 종류) ① 「도로명주소법」(이하 \"법\"이라 한다) 제2조 제1호에 따른 도로는 유형별로 다음 각 호와 같이 구분한다. 1. 지상도로: 주변 지대(地帶)와 높낮이가 비슷한 도로(제2호의 입체도로가 지상도로의 일부에 연속되는 경우를 포함한다)로서 다음 각 목의 도로, title: 국가법령정보센터 | 조문정보, link: https://law.go.kr/lsLinkCommonInfo.do?lsJoLnkSeq=1022032683&chrClsCd=010202&ancYnChk=], [snippet: ③ 제1항 및 제2항에 따른 지원의 세부 내용은 대통령령으로 정한다. _ ... 제7조의3제5항 중 \"「도로명주소법」 제2조제5호에 따른 도로명 및 같은 조 제7호에 따른 건물번호\"를 \"「도로명주소법」 제2조제3호에 따른 도로명 및 같은 조 제5호에 따른 건물번호\"로 한다., title: 법령 - 도로명주소법 - 로앤비, link: https://www.lawnb.com/Info/ContentView?sid=L000010300]\n"
     ]
    }
   ],
   "source": [
    "result = search.invoke(\"도로명주소법 3조의 내용은?\")\n",
    "print(result)"
   ]
  },
  {
   "cell_type": "code",
   "execution_count": 36,
   "metadata": {},
   "outputs": [
    {
     "name": "stdout",
     "output_type": "stream",
     "text": [
      "[snippet: 제3조(도로의 유형 및 통로의 종류) ① 「도로명주소법」(이하 \"법\"이라 한다) 제2조제1호에 따른 도로는 유형별로 다음 각 호와 같이 구분한다. 1. 지상도로: 주변 지대(地帶)와 높낮이가 비슷한 도로(제2호의 입체도로가 지상도로의 일부에 연속되는 경우를 포함한다)로서 다음 각 목의 도로, title: 도로명주소법 시행령 - CaseNote - 케이스노트, link: https://casenote.kr/법령/도로명주소법_시행령/], [snippet: 본문 제정·개정이유 별표·서식 연혁 3단비교 신구법비교 법령체계도 법령비교 생활법령정보 조례위임조문 위임조례 한눈보기 원문다운로드 조문 선택 조문선택 화면내검색 새창 선택, title: 도로명주소법 시행령 | 국가법령정보센터 | 법령 > 본문, link: https://law.go.kr/LSW/lsInfoP.do?lsiSeq=262811], [snippet: 제3조(도로의 유형 및 통로의 종류) ① 「도로명주소법」(이하 \"법\"이라 한다) 제2조 제1호에 따른 도로는 유형별로 다음 각 호와 같이 구분한다. 1. 지상도로: 주변 지대(地帶)와 높낮이가 비슷한 도로(제2호의 입체도로가 지상도로의 일부에 연속되는 경우를 포함한다)로서 다음 각 목의 도로, title: 국가법령정보센터 | 조문정보, link: https://law.go.kr/lsLinkCommonInfo.do?lsJoLnkSeq=1022032683&chrClsCd=010202&ancYnChk=], [snippet: ③ 제1항 및 제2항에 따른 지원의 세부 내용은 대통령령으로 정한다. _ ... 제7조의3제5항 중 \"「도로명주소법」 제2조제5호에 따른 도로명 및 같은 조 제7호에 따른 건물번호\"를 \"「도로명주소법」 제2조제3호에 따른 도로명 및 같은 조 제5호에 따른 건물번호\"로 한다., title: 법령 - 도로명주소법 - 로앤비, link: https://www.lawnb.com/Info/ContentView?sid=L000010300]\n"
     ]
    }
   ],
   "source": [
    "resultresult = search.invoke(\"도로명주소법 시행령 3조의 내용은?\")\n",
    "print(result)"
   ]
  },
  {
   "cell_type": "code",
   "execution_count": 40,
   "metadata": {},
   "outputs": [
    {
     "data": {
      "text/plain": [
       "'[snippet: 교육과정(2023) 교육과정(2022) 교육과정(2021) 교육과정(2020) 교육과정(2019) 교육과정(2018), title: 교수소개 - 문헌정보학과, link: https://www.kyonggi.ac.kr/u_library/contents.do?key=6688], [snippet: - 문헌 정보학과 4년제 대학-*서울. 연세대학교 문헌정보학과. 서울여자 대학교 문헌정보학과. 숙명여자 대학교 문헌정보학과. 이화여자 대학교 문헌정보학과. 중앙 대학교 문헌정보학과. 동덕여자대학교 사회과학부 문헌정보학전공. 상명대학교 인문콘텐츠학부 문헌정보학전공, title: 문헌정보학과 4년제 전국대학 모음, link: https://youmanbo.tistory.com/152], [snippet: 06974 서울시 동작구 흑석로 84 중앙대학교 사회과학대학 문헌정보학과 203동 514호. 전화 : 학과사무실 02-820-5144 / 팩스 : 02-816-5146 / E-mail : sust028@cau.ac.kr., title: 중앙대학교 문헌정보학과, link: https://lis.cau.ac.kr/02_notice/notice_04a.php], [snippet: 내신이 4등급 중반인데 수능 최저 없는 문헌정보학과 대학 알려주세요!, title: 문헌정보학과 대학교 : 지식iN - 네이버 지식iN, link: https://kin.naver.com/qna/detail.naver?d1id=11&dirId=11050401&docId=453213459]'"
      ]
     },
     "execution_count": 40,
     "metadata": {},
     "output_type": "execute_result"
    }
   ],
   "source": [
    "search.invoke(\"중앙대학교 문헌정보학과의 교수 수는?\")"
   ]
  },
  {
   "cell_type": "code",
   "execution_count": 52,
   "metadata": {},
   "outputs": [
    {
     "data": {
      "text/plain": [
       "'[snippet: 제3조(도로의 유형 및 통로의 종류) ① 「도로명주소법」(이하 \"법\"이라 한다) 제2조제1호에 따른 도로는 유형별로 다음 각 호와 같이 구분한다. 1. 지상도로: 주변 지대(地帶)와 높낮이가 비슷한 도로(제2호의 입체도로가 지상도로의 일부에 연속되는 경우를 포함한다)로서 다음 각 목의 도로, title: 도로명주소법 시행령 - CaseNote | 케이스노트, link: https://casenote.kr/법령/도로명주소법_시행령/], [snippet: 본문 제정·개정이유 별표·서식 연혁 3단비교 신구법비교 법령체계도 법령비교 생활법령정보 조례위임조문 위임조례 한눈보기 원문다운로드 조문 선택 조문선택 화면내검색 새창 선택, title: 도로명주소법 시행령 | 국가법령정보센터 | 법령 > 본문, link: https://law.go.kr/LSW/lsInfoP.do?lsiSeq=262811], [snippet: 제3조(도로의 유형 및 통로의 종류) ① 「도로명주소법」(이하 \"법\"이라 한다) 제2조 제1호에 따른 도로는 유형별로 다음 각 호와 같이 구분한다. 1. 지상도로: 주변 지대(地帶)와 높낮이가 비슷한 도로(제2호의 입체도로가 지상도로의 일부에 연속되는 경우를 포함한다)로서 다음 각 목의 도로, title: 국가법령정보센터 | 조문정보, link: https://law.go.kr/lsLinkCommonInfo.do?lsJoLnkSeq=1022032683&chrClsCd=010202&ancYnChk=], [snippet: ③ 제1항 및 제2항에 따른 지원의 세부 내용은 대통령령으로 정한다. _ ... 제7조의3제5항 중 \"「도로명주소법」 제2조제5호에 따른 도로명 및 같은 조 제7호에 따른 건물번호\"를 \"「도로명주소법」 제2조제3호에 따른 도로명 및 같은 조 제5호에 따른 건물번호\"로 한다., title: 법령 - 도로명주소법 | 로앤비, link: https://www.lawnb.com/Info/ContentView?sid=L000010300]'"
      ]
     },
     "execution_count": 52,
     "metadata": {},
     "output_type": "execute_result"
    }
   ],
   "source": [
    "from langchain_community.tools import DuckDuckGoSearchResults\n",
    "\n",
    "search = DuckDuckGoSearchResults()\n",
    "result = search.invoke(\"도로명주소법 3조의 내용은?\")\n",
    "result"
   ]
  },
  {
   "cell_type": "code",
   "execution_count": 3,
   "metadata": {},
   "outputs": [
    {
     "data": {
      "text/plain": [
       "'[snippet: 2018년 이후 최고치 찍음그때야 남북미 회담으로 분위기가 좋아서 그랬다지만 지금은 최악에 가까운데도 이례적으로 높아졌고 심지어 작년에 같은 기관 조사에선 64%가 찍혔는데 몇달만에 수직상승한 셈이유는 단순한듯하다풍선이고 뭐고 이젠 지겨워죽겠다어차피 이러니저러니 북한때문에 손해 ..., title: 최근 통일 찬성여론이 급격히 올라간 이유 | 유머 게시판 | Ruliweb, link: https://m.ruliweb.com/community/board/300143/read/67085530], [snippet: 본 공사를 도급받은 건설사업자는 「건설산업기본법」 제22조제4항 및 제6항에 따라 건설공사에 관한 사항을 건설공사대장에 적고, 건설산업종합정보망 을 이용 하여 도급계약을 체결한 날부터 30 일 이내 에 발주자에게 통보하여야 하고, 통보한 사항에 변경 이 ..., title: 국도13호선 강진 송월지구 등 2개소 사고잦은곳 개선공사 (긴급공고) - 낙찰 잘되는 전기넷, link: https://www.jungi.net/detail_bid/index/bid8655408]'"
      ]
     },
     "execution_count": 3,
     "metadata": {},
     "output_type": "execute_result"
    }
   ],
   "source": [
    "from langchain_community.utilities import DuckDuckGoSearchAPIWrapper\n",
    "from langchain_community.tools import DuckDuckGoSearchResults\n",
    "\n",
    "wrapper = DuckDuckGoSearchAPIWrapper(region=\"kr-kr\", time=\"d\", max_results=2)\n",
    "\n",
    "search = DuckDuckGoSearchResults(api_wrapper=wrapper, source=\"text\")\n",
    "\n",
    "search.invoke(\"건축물대장에 대해서 알려줘\")"
   ]
  },
  {
   "cell_type": "code",
   "execution_count": null,
   "metadata": {},
   "outputs": [],
   "source": []
  }
 ],
 "metadata": {
  "kernelspec": {
   "display_name": "juso-chatbot",
   "language": "python",
   "name": "python3"
  },
  "language_info": {
   "codemirror_mode": {
    "name": "ipython",
    "version": 3
   },
   "file_extension": ".py",
   "mimetype": "text/x-python",
   "name": "python",
   "nbconvert_exporter": "python",
   "pygments_lexer": "ipython3",
   "version": "3.11.0"
  }
 },
 "nbformat": 4,
 "nbformat_minor": 2
}
